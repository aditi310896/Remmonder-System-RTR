{
 "cells": [
  {
   "cell_type": "markdown",
   "metadata": {
    "colab_type": "text",
    "id": "6JrN8cLugaKy"
   },
   "source": [
    "# Setup - This notebook runs on google colab"
   ]
  },
  {
   "cell_type": "code",
   "execution_count": 1,
   "metadata": {
    "colab": {},
    "colab_type": "code",
    "id": "ZTU-MnODrjnv"
   },
   "outputs": [],
   "source": [
    "import pickle\n",
    "import pandas as pd\n",
    "import numpy as np\n",
    "import matplotlib.pyplot as plt\n",
    "from matplotlib.pyplot import imshow\n",
    "from matplotlib.pyplot import figure\n",
    "from PIL import Image\n",
    "import requests\n",
    "from io import BytesIO\n",
    "import os\n",
    "from sklearn.decomposition import TruncatedSVD\n",
    "from sklearn.preprocessing import Normalizer\n",
    "from sklearn.pipeline import make_pipeline\n",
    "from sklearn.metrics.pairwise import cosine_similarity\n",
    "from scipy import sparse\n",
    "import re\n",
    "\n",
    "import warnings\n",
    "warnings.simplefilter(\"ignore\")"
   ]
  },
  {
   "cell_type": "markdown",
   "metadata": {
    "colab_type": "text",
    "id": "OAFp-jzQB5Xi"
   },
   "source": [
    "# Getting data"
   ]
  },
  {
   "cell_type": "markdown",
   "metadata": {
    "colab_type": "text",
    "id": "zav7zzhkcAvV"
   },
   "source": [
    "## Reading from colab into the notebook"
   ]
  },
  {
   "cell_type": "code",
   "execution_count": 0,
   "metadata": {
    "colab": {},
    "colab_type": "code",
    "id": "1u-X_EIoTmry"
   },
   "outputs": [],
   "source": [
    "# retrieve data from pickle files\n",
    "pkl_product_file = './Data/products_processed.pkl'\n",
    "pkl_review_file = './Data/reviews_processed.pkl'\n",
    "\n",
    "# product_data_list\n",
    "with open(pkl_product_file, 'rb') as f:\n",
    "  all_product_data_list = pickle.load(f)\n",
    "  \n",
    "# product_review_list\n",
    "with open(pkl_review_file, 'rb') as f:\n",
    "  all_review_data_list = pickle.load(f)"
   ]
  },
  {
   "cell_type": "markdown",
   "metadata": {
    "colab_type": "text",
    "id": "rfIlXHLqwI_I"
   },
   "source": [
    "# Data preprocessing"
   ]
  },
  {
   "cell_type": "markdown",
   "metadata": {
    "colab_type": "text",
    "id": "m3pjRr-twAJl"
   },
   "source": [
    "## Reset here"
   ]
  },
  {
   "cell_type": "code",
   "execution_count": 0,
   "metadata": {
    "colab": {},
    "colab_type": "code",
    "id": "uSpmSw-yv-xE"
   },
   "outputs": [],
   "source": [
    "# Code for resetting data\n",
    "p_data = all_product_data_list.copy()"
   ]
  },
  {
   "cell_type": "markdown",
   "metadata": {
    "colab_type": "text",
    "id": "fmzV0VCe7Wgm"
   },
   "source": [
    "## Join with Ratings data"
   ]
  },
  {
   "cell_type": "code",
   "execution_count": 0,
   "metadata": {
    "colab": {},
    "colab_type": "code",
    "id": "2S3C7yZL7Won"
   },
   "outputs": [],
   "source": [
    "ratings_data = all_review_data_list.groupby('item_id').agg({'averageRating': 'mean',\n",
    "                                            'countRatings': 'mean'})\n",
    "p_data = p_data.join(ratings_data)"
   ]
  },
  {
   "cell_type": "markdown",
   "metadata": {
    "colab_type": "text",
    "id": "9xAuxtusyx1t"
   },
   "source": [
    "## Fixing variable types"
   ]
  },
  {
   "cell_type": "markdown",
   "metadata": {
    "colab_type": "text",
    "id": "Xh2webzTqWCR"
   },
   "source": [
    "### Retail price"
   ]
  },
  {
   "cell_type": "code",
   "execution_count": 0,
   "metadata": {
    "colab": {},
    "colab_type": "code",
    "id": "a8LPBf9Dp3zA"
   },
   "outputs": [],
   "source": [
    "price_data = p_data['retailPrice'].str.extract('([A-Z]+)\\s+([\\d]+)', expand=True)\n",
    "price_data.columns = ['retail_price_unit', 'retail_price_value']\n",
    "p_data = p_data.join(price_data)\n",
    "p_data = p_data.astype({'retail_price_value': 'float'})\n",
    "p_data = p_data.drop(columns = ['retail_price_unit', 'retailPrice'])"
   ]
  },
  {
   "cell_type": "markdown",
   "metadata": {
    "colab_type": "text",
    "id": "p62ZXTg9q8y2"
   },
   "source": [
    "### Created date"
   ]
  },
  {
   "cell_type": "code",
   "execution_count": 0,
   "metadata": {
    "colab": {},
    "colab_type": "code",
    "id": "69aNkQSzqbOO"
   },
   "outputs": [],
   "source": [
    "p_data['created'] = pd.to_datetime(p_data['created'])"
   ]
  },
  {
   "cell_type": "markdown",
   "metadata": {
    "colab_type": "text",
    "id": "XcarQCBWvZAI"
   },
   "source": [
    "### Numerical variables"
   ]
  },
  {
   "cell_type": "code",
   "execution_count": 0,
   "metadata": {
    "colab": {},
    "colab_type": "code",
    "id": "eUOLn3WUuvO3"
   },
   "outputs": [],
   "source": [
    "p_data = p_data.astype({'formalityScore': 'float', \n",
    "                        'price_base': 'float', \n",
    "                        'price_adjusted': 'float'})"
   ]
  },
  {
   "cell_type": "markdown",
   "metadata": {
    "colab_type": "text",
    "id": "v77sQsJbwR1t"
   },
   "source": [
    "## Missing value treatment"
   ]
  },
  {
   "cell_type": "code",
   "execution_count": 9,
   "metadata": {
    "colab": {
     "base_uri": "https://localhost:8080/",
     "height": 0
    },
    "colab_type": "code",
    "executionInfo": {
     "elapsed": 125187,
     "status": "ok",
     "timestamp": 1575335323664,
     "user": {
      "displayName": "Skand Upmanyu",
      "photoUrl": "https://lh3.googleusercontent.com/a-/AAuE7mDucdWRvThRuOGGMpf4XuCLzSwgNJW97EO8v5sS=s64",
      "userId": "14474330947256204580"
     },
     "user_tz": 300
    },
    "id": "8SWJMAv3wWCG",
    "outputId": "d5c315f6-eb91-4d76-bab9-83d663a9fc6b"
   },
   "outputs": [
    {
     "name": "stdout",
     "output_type": "stream",
     "text": [
      "created                              0\n",
      "designer_name                        0\n",
      "displayName                          0\n",
      "formalityScore                       3\n",
      "length                            7995\n",
      "neckline                          5453\n",
      "productDetails                       0\n",
      "season                               0\n",
      "sleeve                            4202\n",
      "stylistNotes                         0\n",
      "price_base                           0\n",
      "price_adjusted                       0\n",
      "ageRanges_thirties                   0\n",
      "ageRanges_forties_plus               0\n",
      "ageRanges_early_twenties             0\n",
      "ageRanges_late_twenties              0\n",
      "ageRanges_teens                      0\n",
      "bodyTypes_apple                      0\n",
      "bodyTypes_athletic                   0\n",
      "bodyTypes_bump_friendly              0\n",
      "bodyTypes_full_bust                  0\n",
      "bodyTypes_hourglass                  0\n",
      "bodyTypes_pear                       0\n",
      "bodyTypes_petite                     0\n",
      "bodyTypes_straight_narrow            0\n",
      "colors_brown                         0\n",
      "colors_print                         0\n",
      "colors_silver                        0\n",
      "colors_green                         0\n",
      "colors_black                         0\n",
      "colors_red                           0\n",
      "colors_blue                          0\n",
      "colors_grey                          0\n",
      "colors_orange                        0\n",
      "colors_gold                          0\n",
      "colors_white                         0\n",
      "colors_pink                          0\n",
      "colors_purple                        0\n",
      "colors_cream                         0\n",
      "colors_yellow                        0\n",
      "colors_crystal_clear                 0\n",
      "colors_multicolored                  0\n",
      "colors_pearl                         0\n",
      "formality_daytime                    0\n",
      "formality_cocktail                   0\n",
      "formality_night_out                  0\n",
      "formality_black_tie                  0\n",
      "occasions_date                       0\n",
      "occasions_party                      0\n",
      "occasions_work                       0\n",
      "occasions_wedding                    0\n",
      "occasions_weekend                    0\n",
      "occasions_formal_affair              0\n",
      "occasions_vacation                   0\n",
      "embellishments_pockets               0\n",
      "embellishments_florals               0\n",
      "embellishments_cut_outs              0\n",
      "embellishments_abstract_prints       0\n",
      "embellishments_lace                  0\n",
      "embellishments_peplum                0\n",
      "embellishments_metallics             0\n",
      "embellishments_color_block           0\n",
      "embellishments_maxis                 0\n",
      "embellishments_sequins               0\n",
      "embellishments_pastels               0\n",
      "embellishments_scuba                 0\n",
      "embellishments_beaded                0\n",
      "product_img_link                    15\n",
      "averageRating                     1140\n",
      "countRatings                      1140\n",
      "retail_price_value                   0\n",
      "dtype: int64\n"
     ]
    }
   ],
   "source": [
    "pd.set_option(\"display.max_rows\",None)\n",
    "print(p_data.isna().sum())\n",
    "pd.set_option(\"display.max_rows\",60)"
   ]
  },
  {
   "cell_type": "markdown",
   "metadata": {
    "colab_type": "text",
    "id": "hNmnzAQq8Z0_"
   },
   "source": [
    "### countRatings"
   ]
  },
  {
   "cell_type": "code",
   "execution_count": 0,
   "metadata": {
    "colab": {},
    "colab_type": "code",
    "id": "mlLONstj8aAg"
   },
   "outputs": [],
   "source": [
    "#Imputing values for countRatings\n",
    "p_data.loc[p_data['countRatings'].isna(), 'countRatings'] = 0"
   ]
  },
  {
   "cell_type": "markdown",
   "metadata": {
    "colab_type": "text",
    "id": "21QQFBo68aLM"
   },
   "source": [
    "### averageRating"
   ]
  },
  {
   "cell_type": "code",
   "execution_count": 0,
   "metadata": {
    "colab": {},
    "colab_type": "code",
    "id": "pRCoWG108aTh"
   },
   "outputs": [],
   "source": [
    "#Imputing values for averageRating\n",
    "p_data.loc[p_data['averageRating'].isna(), 'averageRating'] = p_data['averageRating'].value_counts().index[0]"
   ]
  },
  {
   "cell_type": "markdown",
   "metadata": {
    "colab_type": "text",
    "id": "LBihjr5_xtRl"
   },
   "source": [
    "### formalityScore"
   ]
  },
  {
   "cell_type": "code",
   "execution_count": 0,
   "metadata": {
    "colab": {},
    "colab_type": "code",
    "id": "0OuSsMDlxsW1"
   },
   "outputs": [],
   "source": [
    "#Imputing values for formalityScore\n",
    "p_data.loc[p_data['formalityScore'].isna(), 'formalityScore'] = p_data['formalityScore'].value_counts().index[0]"
   ]
  },
  {
   "cell_type": "markdown",
   "metadata": {
    "colab_type": "text",
    "id": "ARGXskswvtXF"
   },
   "source": [
    "## Dummy variables"
   ]
  },
  {
   "cell_type": "markdown",
   "metadata": {
    "colab_type": "text",
    "id": "uZXubi1IsgRn"
   },
   "source": [
    "### Designers"
   ]
  },
  {
   "cell_type": "code",
   "execution_count": 0,
   "metadata": {
    "colab": {},
    "colab_type": "code",
    "id": "NltEU7rbq8_D"
   },
   "outputs": [],
   "source": [
    "designers = p_data['designer_name'].value_counts().index\n",
    "values = p_data['designer_name'].value_counts().values\n",
    "top_designers = designers[values>150]\n",
    "top_designers = ['designer_' + x for x in top_designers]\n",
    "designer_dummies = pd.get_dummies(p_data['designer_name'], prefix='designer')[top_designers]\n",
    "p_data = p_data.join(designer_dummies)"
   ]
  },
  {
   "cell_type": "markdown",
   "metadata": {
    "colab_type": "text",
    "id": "aP2ATsj-v1my"
   },
   "source": [
    "### Length"
   ]
  },
  {
   "cell_type": "code",
   "execution_count": 0,
   "metadata": {
    "colab": {},
    "colab_type": "code",
    "id": "aFtKqX_Js-0M"
   },
   "outputs": [],
   "source": [
    "length_dummies = pd.get_dummies(p_data['length'], prefix='length')\n",
    "p_data = p_data.join(length_dummies)\n",
    "p_data = p_data.drop(columns = ['length'])"
   ]
  },
  {
   "cell_type": "markdown",
   "metadata": {
    "colab_type": "text",
    "id": "uu8lPFS_yTj2"
   },
   "source": [
    "### neckline"
   ]
  },
  {
   "cell_type": "code",
   "execution_count": 0,
   "metadata": {
    "colab": {},
    "colab_type": "code",
    "id": "Uzh0jwyPyQ7o"
   },
   "outputs": [],
   "source": [
    "neckline_dummies = pd.get_dummies(p_data['neckline'], prefix='neckline')\n",
    "p_data = p_data.join(neckline_dummies)\n",
    "p_data = p_data.drop(columns = ['neckline'])"
   ]
  },
  {
   "cell_type": "markdown",
   "metadata": {
    "colab_type": "text",
    "id": "jcTdFAkLynKs"
   },
   "source": [
    "### season\n"
   ]
  },
  {
   "cell_type": "code",
   "execution_count": 0,
   "metadata": {
    "colab": {},
    "colab_type": "code",
    "id": "uJ3jAFcBynod"
   },
   "outputs": [],
   "source": [
    "season_dummies = pd.get_dummies(p_data['season'], prefix='season')\n",
    "p_data = p_data.join(season_dummies)\n",
    "p_data = p_data.drop(columns = ['season'])"
   ]
  },
  {
   "cell_type": "markdown",
   "metadata": {
    "colab_type": "text",
    "id": "tjF-SoY4yRUX"
   },
   "source": [
    "### sleave\n"
   ]
  },
  {
   "cell_type": "code",
   "execution_count": 0,
   "metadata": {
    "colab": {},
    "colab_type": "code",
    "id": "teJLZqvzysEi"
   },
   "outputs": [],
   "source": [
    "sleeve_dummies = pd.get_dummies(p_data['sleeve'], prefix='sleeve')\n",
    "p_data = p_data.join(sleeve_dummies)\n",
    "p_data = p_data.drop(columns = ['sleeve'])"
   ]
  },
  {
   "cell_type": "markdown",
   "metadata": {
    "colab_type": "text",
    "id": "G2802CCw0UuE"
   },
   "source": [
    "## Derived variables"
   ]
  },
  {
   "cell_type": "markdown",
   "metadata": {
    "colab_type": "text",
    "id": "b2yluR3a0aBO"
   },
   "source": [
    "### Age of product"
   ]
  },
  {
   "cell_type": "code",
   "execution_count": 0,
   "metadata": {
    "colab": {},
    "colab_type": "code",
    "id": "RCheAdG90ZIK"
   },
   "outputs": [],
   "source": [
    "p_data['product_age_years'] = (pd.to_datetime('2019-11-15') - p_data['created'].dt.tz_localize(None)).dt.days /365"
   ]
  },
  {
   "cell_type": "markdown",
   "metadata": {
    "colab_type": "text",
    "id": "lDq6V0VN3Zh4"
   },
   "source": [
    "# Data Exploration"
   ]
  },
  {
   "cell_type": "code",
   "execution_count": 0,
   "metadata": {
    "colab": {
     "base_uri": "https://localhost:8080/",
     "height": 1000
    },
    "colab_type": "code",
    "executionInfo": {
     "elapsed": 1040,
     "status": "ok",
     "timestamp": 1574713265843,
     "user": {
      "displayName": "Skand Upmanyu",
      "photoUrl": "https://lh3.googleusercontent.com/a-/AAuE7mDucdWRvThRuOGGMpf4XuCLzSwgNJW97EO8v5sS=s64",
      "userId": "14474330947256204580"
     },
     "user_tz": 300
    },
    "id": "7BAdvjzA36zu",
    "outputId": "8415bb5e-84c7-4d98-b73a-1cf0334e6001"
   },
   "outputs": [
    {
     "name": "stdout",
     "output_type": "stream",
     "text": [
      "created                                     datetime64[ns, UTC]\n",
      "designer_name                                            object\n",
      "displayName                                              object\n",
      "formalityScore                                          float64\n",
      "productDetails                                           object\n",
      "stylistNotes                                             object\n",
      "price_base                                              float64\n",
      "price_adjusted                                          float64\n",
      "ageRanges_thirties                                        int64\n",
      "ageRanges_forties_plus                                    int64\n",
      "ageRanges_early_twenties                                  int64\n",
      "ageRanges_late_twenties                                   int64\n",
      "ageRanges_teens                                           int64\n",
      "bodyTypes_apple                                           int64\n",
      "bodyTypes_athletic                                        int64\n",
      "bodyTypes_bump_friendly                                   int64\n",
      "bodyTypes_full_bust                                       int64\n",
      "bodyTypes_hourglass                                       int64\n",
      "bodyTypes_pear                                            int64\n",
      "bodyTypes_petite                                          int64\n",
      "bodyTypes_straight_narrow                                 int64\n",
      "colors_brown                                              int64\n",
      "colors_print                                              int64\n",
      "colors_silver                                             int64\n",
      "colors_green                                              int64\n",
      "colors_black                                              int64\n",
      "colors_red                                                int64\n",
      "colors_blue                                               int64\n",
      "colors_grey                                               int64\n",
      "colors_orange                                             int64\n",
      "colors_gold                                               int64\n",
      "colors_white                                              int64\n",
      "colors_pink                                               int64\n",
      "colors_purple                                             int64\n",
      "colors_cream                                              int64\n",
      "colors_yellow                                             int64\n",
      "colors_crystal_clear                                      int64\n",
      "colors_multicolored                                       int64\n",
      "colors_pearl                                              int64\n",
      "formality_daytime                                         int64\n",
      "formality_cocktail                                        int64\n",
      "formality_night_out                                       int64\n",
      "formality_black_tie                                       int64\n",
      "occasions_date                                            int64\n",
      "occasions_party                                           int64\n",
      "occasions_work                                            int64\n",
      "occasions_wedding                                         int64\n",
      "occasions_weekend                                         int64\n",
      "occasions_formal_affair                                   int64\n",
      "occasions_vacation                                        int64\n",
      "embellishments_pockets                                    int64\n",
      "embellishments_florals                                    int64\n",
      "embellishments_cut_outs                                   int64\n",
      "embellishments_abstract_prints                            int64\n",
      "embellishments_lace                                       int64\n",
      "embellishments_peplum                                     int64\n",
      "embellishments_metallics                                  int64\n",
      "embellishments_color_block                                int64\n",
      "embellishments_maxis                                      int64\n",
      "embellishments_sequins                                    int64\n",
      "embellishments_pastels                                    int64\n",
      "embellishments_scuba                                      int64\n",
      "embellishments_beaded                                     int64\n",
      "product_img_link                                         object\n",
      "averageRating                                           float64\n",
      "countRatings                                            float64\n",
      "retail_price_value                                      float64\n",
      "designer_Slate & Willow                                   uint8\n",
      "designer_Badgley Mischka                                  uint8\n",
      "designer_Parker                                           uint8\n",
      "designer_Trina Turk                                       uint8\n",
      "designer_Tory Burch Accessories                           uint8\n",
      "designer_Derek Lam 10 Crosby                              uint8\n",
      "designer_Diane von Furstenberg                            uint8\n",
      "designer_kate spade new york accessories                  uint8\n",
      "designer_Shoshanna                                        uint8\n",
      "designer_kate spade new york                              uint8\n",
      "designer_Nicole Miller                                    uint8\n",
      "length_floor_length                                       uint8\n",
      "length_knee_length                                        uint8\n",
      "length_mid_thigh_length                                   uint8\n",
      "length_mini                                               uint8\n",
      "length_tea_length                                         uint8\n",
      "neckline_asymmetric                                       uint8\n",
      "neckline_boat                                             uint8\n",
      "neckline_cowl                                             uint8\n",
      "neckline_crew                                             uint8\n",
      "neckline_halter                                           uint8\n",
      "neckline_high_neck                                        uint8\n",
      "neckline_off_the_shoulder                                 uint8\n",
      "neckline_one_shoulder                                     uint8\n",
      "neckline_scoop                                            uint8\n",
      "neckline_shirt_collar                                     uint8\n",
      "neckline_square                                           uint8\n",
      "neckline_straight                                         uint8\n",
      "neckline_sweetheart                                       uint8\n",
      "neckline_v_neck                                           uint8\n",
      "season_fall_winter                                        uint8\n",
      "season_seasonless                                         uint8\n",
      "season_spring_summer                                      uint8\n",
      "sleeve_cap_sleeve                                         uint8\n",
      "sleeve_long_sleeve                                        uint8\n",
      "sleeve_short_sleeve                                       uint8\n",
      "sleeve_sleeveless                                         uint8\n",
      "sleeve_strapless                                          uint8\n",
      "sleeve_three_quarter_sleeve                               uint8\n",
      "product_age_years                                       float64\n",
      "dtype: object\n"
     ]
    }
   ],
   "source": [
    "# Columns and data types\n",
    "pd.set_option(\"display.max_rows\",None)\n",
    "print(p_data.dtypes)\n",
    "pd.set_option(\"display.max_rows\",60)"
   ]
  },
  {
   "cell_type": "code",
   "execution_count": 0,
   "metadata": {
    "colab": {
     "base_uri": "https://localhost:8080/",
     "height": 34
    },
    "colab_type": "code",
    "executionInfo": {
     "elapsed": 812,
     "status": "ok",
     "timestamp": 1574713265845,
     "user": {
      "displayName": "Skand Upmanyu",
      "photoUrl": "https://lh3.googleusercontent.com/a-/AAuE7mDucdWRvThRuOGGMpf4XuCLzSwgNJW97EO8v5sS=s64",
      "userId": "14474330947256204580"
     },
     "user_tz": 300
    },
    "id": "htnR9qaw40aR",
    "outputId": "b2b8e226-34f2-48af-ce07-25c6107cdd77"
   },
   "outputs": [
    {
     "name": "stdout",
     "output_type": "stream",
     "text": [
      "The dataset has  16751 products and  107 columns\n"
     ]
    }
   ],
   "source": [
    "# Rows and columns\n",
    "print('The dataset has ', p_data.shape[0], 'products and ' , p_data.shape[1], 'columns')"
   ]
  },
  {
   "cell_type": "code",
   "execution_count": 0,
   "metadata": {
    "colab": {
     "base_uri": "https://localhost:8080/",
     "height": 34
    },
    "colab_type": "code",
    "executionInfo": {
     "elapsed": 832,
     "status": "ok",
     "timestamp": 1574713266147,
     "user": {
      "displayName": "Skand Upmanyu",
      "photoUrl": "https://lh3.googleusercontent.com/a-/AAuE7mDucdWRvThRuOGGMpf4XuCLzSwgNJW97EO8v5sS=s64",
      "userId": "14474330947256204580"
     },
     "user_tz": 300
    },
    "id": "WF7AiDa35gbU",
    "outputId": "5fdff7bd-8a2b-4a92-fb7e-1f8d6984ee5e"
   },
   "outputs": [
    {
     "name": "stdout",
     "output_type": "stream",
     "text": [
      "Product created data from 2012-03-01 to 2019-10-31\n"
     ]
    }
   ],
   "source": [
    "# Duration of create date\n",
    "min_create_date = p_data['created'].min().date()\n",
    "max_create_date = p_data['created'].max().date()\n",
    "\n",
    "print('Product created data from', min_create_date, 'to', max_create_date)"
   ]
  },
  {
   "cell_type": "code",
   "execution_count": 0,
   "metadata": {
    "colab": {
     "base_uri": "https://localhost:8080/",
     "height": 295
    },
    "colab_type": "code",
    "executionInfo": {
     "elapsed": 1093,
     "status": "ok",
     "timestamp": 1574713266591,
     "user": {
      "displayName": "Skand Upmanyu",
      "photoUrl": "https://lh3.googleusercontent.com/a-/AAuE7mDucdWRvThRuOGGMpf4XuCLzSwgNJW97EO8v5sS=s64",
      "userId": "14474330947256204580"
     },
     "user_tz": 300
    },
    "id": "N_PY5gJE5622",
    "outputId": "8261d234-ccd8-40fa-a56e-e887612db7cb"
   },
   "outputs": [
    {
     "data": {
      "image/png": "[encoded data removed]",
      "text/plain": [
       "<Figure size 432x288 with 1 Axes>"
      ]
     },
     "metadata": {
      "tags": []
     },
     "output_type": "display_data"
    }
   ],
   "source": [
    "# Year wise\n",
    "year_data = p_data.groupby(p_data['created'].dt.year).size()\n",
    "year_data.plot(kind = 'bar')\n",
    "plt.show()"
   ]
  },
  {
   "cell_type": "code",
   "execution_count": 0,
   "metadata": {
    "colab": {
     "base_uri": "https://localhost:8080/",
     "height": 291
    },
    "colab_type": "code",
    "executionInfo": {
     "elapsed": 1457,
     "status": "ok",
     "timestamp": 1574713267247,
     "user": {
      "displayName": "Skand Upmanyu",
      "photoUrl": "https://lh3.googleusercontent.com/a-/AAuE7mDucdWRvThRuOGGMpf4XuCLzSwgNJW97EO8v5sS=s64",
      "userId": "14474330947256204580"
     },
     "user_tz": 300
    },
    "id": "lHg59iEz9EvP",
    "outputId": "82446d1e-b744-489c-fd24-2a910f197441"
   },
   "outputs": [
    {
     "data": {
      "image/png": "[encoded data removed]",
      "text/plain": [
       "<Figure size 432x288 with 1 Axes>"
      ]
     },
     "metadata": {
      "tags": []
     },
     "output_type": "display_data"
    }
   ],
   "source": [
    "# averageRating\n",
    "averageRating_data = p_data.groupby(p_data['averageRating']).size()\n",
    "averageRating_data.plot(kind = 'bar')\n",
    "plt.show()"
   ]
  },
  {
   "cell_type": "code",
   "execution_count": 0,
   "metadata": {
    "colab": {
     "base_uri": "https://localhost:8080/",
     "height": 374
    },
    "colab_type": "code",
    "executionInfo": {
     "elapsed": 1224,
     "status": "ok",
     "timestamp": 1574713267248,
     "user": {
      "displayName": "Skand Upmanyu",
      "photoUrl": "https://lh3.googleusercontent.com/a-/AAuE7mDucdWRvThRuOGGMpf4XuCLzSwgNJW97EO8v5sS=s64",
      "userId": "14474330947256204580"
     },
     "user_tz": 300
    },
    "id": "09KCbZYy46Po",
    "outputId": "39824e97-2b96-452a-8841-4abd370bc3e4"
   },
   "outputs": [
    {
     "data": {
      "image/png": "[encoded data removed]",
      "text/plain": [
       "<Figure size 1440x432 with 1 Axes>"
      ]
     },
     "metadata": {
      "tags": []
     },
     "output_type": "display_data"
    }
   ],
   "source": [
    "# countRatings\n",
    "figure(num=None, figsize=(20, 6))\n",
    "plt.hist(p_data['countRatings'], bins = 50)\n",
    "plt.show()"
   ]
  },
  {
   "cell_type": "code",
   "execution_count": 0,
   "metadata": {
    "colab": {
     "base_uri": "https://localhost:8080/",
     "height": 374
    },
    "colab_type": "code",
    "executionInfo": {
     "elapsed": 1259,
     "status": "ok",
     "timestamp": 1574713267591,
     "user": {
      "displayName": "Skand Upmanyu",
      "photoUrl": "https://lh3.googleusercontent.com/a-/AAuE7mDucdWRvThRuOGGMpf4XuCLzSwgNJW97EO8v5sS=s64",
      "userId": "14474330947256204580"
     },
     "user_tz": 300
    },
    "id": "oXMhWmRP_B_f",
    "outputId": "85a952ac-0058-4034-bc9e-1dfa1d064606"
   },
   "outputs": [
    {
     "data": {
      "image/png": "[encoded data removed]",
      "text/plain": [
       "<Figure size 1440x432 with 1 Axes>"
      ]
     },
     "metadata": {
      "tags": []
     },
     "output_type": "display_data"
    }
   ],
   "source": [
    "# retail_price_value\n",
    "figure(num=None, figsize=(20, 6))\n",
    "plt.hist(p_data['retail_price_value'], bins = 50)\n",
    "plt.show()"
   ]
  },
  {
   "cell_type": "code",
   "execution_count": 0,
   "metadata": {
    "colab": {
     "base_uri": "https://localhost:8080/",
     "height": 285
    },
    "colab_type": "code",
    "executionInfo": {
     "elapsed": 1659,
     "status": "ok",
     "timestamp": 1574713268187,
     "user": {
      "displayName": "Skand Upmanyu",
      "photoUrl": "https://lh3.googleusercontent.com/a-/AAuE7mDucdWRvThRuOGGMpf4XuCLzSwgNJW97EO8v5sS=s64",
      "userId": "14474330947256204580"
     },
     "user_tz": 300
    },
    "id": "WZrzwrUPATGe",
    "outputId": "2f37b1e6-e1c4-489c-a881-80cd20f66939"
   },
   "outputs": [
    {
     "data": {
      "image/png": "[encoded data removed]",
      "text/plain": [
       "<Figure size 432x288 with 1 Axes>"
      ]
     },
     "metadata": {
      "tags": []
     },
     "output_type": "display_data"
    }
   ],
   "source": [
    "# formalityScore\n",
    "formalityScore_data = p_data.groupby(p_data['formalityScore']).size()\n",
    "formalityScore_data.plot(kind = 'bar')\n",
    "plt.show()"
   ]
  },
  {
   "cell_type": "code",
   "execution_count": 0,
   "metadata": {
    "colab": {
     "base_uri": "https://localhost:8080/",
     "height": 328
    },
    "colab_type": "code",
    "executionInfo": {
     "elapsed": 1933,
     "status": "ok",
     "timestamp": 1574713268708,
     "user": {
      "displayName": "Skand Upmanyu",
      "photoUrl": "https://lh3.googleusercontent.com/a-/AAuE7mDucdWRvThRuOGGMpf4XuCLzSwgNJW97EO8v5sS=s64",
      "userId": "14474330947256204580"
     },
     "user_tz": 300
    },
    "id": "YetC3Vg3BCb4",
    "outputId": "adf553dc-f0c7-4747-ea77-ead45b698e90"
   },
   "outputs": [
    {
     "data": {
      "image/png": "[encoded data removed]",
      "text/plain": [
       "<Figure size 432x288 with 1 Axes>"
      ]
     },
     "metadata": {
      "tags": []
     },
     "output_type": "display_data"
    }
   ],
   "source": [
    "# ageRanges\n",
    "ageRanges = [x for x in p_data.columns if x.startswith('ageRanges')]\n",
    "ageRanges_data = p_data[ageRanges].sum().sort_values()\n",
    "ageRanges_data.index = [x.replace('ageRanges_', \"\") for x in ageRanges_data.index]\n",
    "ageRanges_data.plot(kind = 'bar')\n",
    "plt.show()"
   ]
  },
  {
   "cell_type": "code",
   "execution_count": 0,
   "metadata": {
    "colab": {
     "base_uri": "https://localhost:8080/",
     "height": 334
    },
    "colab_type": "code",
    "executionInfo": {
     "elapsed": 1751,
     "status": "ok",
     "timestamp": 1574713268709,
     "user": {
      "displayName": "Skand Upmanyu",
      "photoUrl": "https://lh3.googleusercontent.com/a-/AAuE7mDucdWRvThRuOGGMpf4XuCLzSwgNJW97EO8v5sS=s64",
      "userId": "14474330947256204580"
     },
     "user_tz": 300
    },
    "id": "pEaScfkbCJ9z",
    "outputId": "d33f6616-9035-4c82-afa9-11d6c075cb2e"
   },
   "outputs": [
    {
     "data": {
      "image/png": "[encoded data removed]",
      "text/plain": [
       "<Figure size 432x288 with 1 Axes>"
      ]
     },
     "metadata": {
      "tags": []
     },
     "output_type": "display_data"
    }
   ],
   "source": [
    "# bodyTypes\n",
    "bodyTypes = [x for x in p_data.columns if x.startswith('bodyTypes')]\n",
    "bodyTypes_data = p_data[bodyTypes].sum().sort_values()\n",
    "bodyTypes_data.index = [x.replace('bodyTypes_', \"\") for x in bodyTypes_data.index]\n",
    "bodyTypes_data.plot(kind = 'bar')\n",
    "plt.show()"
   ]
  },
  {
   "cell_type": "code",
   "execution_count": 0,
   "metadata": {
    "colab": {
     "base_uri": "https://localhost:8080/",
     "height": 427
    },
    "colab_type": "code",
    "executionInfo": {
     "elapsed": 2097,
     "status": "ok",
     "timestamp": 1574713269259,
     "user": {
      "displayName": "Skand Upmanyu",
      "photoUrl": "https://lh3.googleusercontent.com/a-/AAuE7mDucdWRvThRuOGGMpf4XuCLzSwgNJW97EO8v5sS=s64",
      "userId": "14474330947256204580"
     },
     "user_tz": 300
    },
    "id": "fCdu8xRRBUZP",
    "outputId": "e202f174-104a-4a08-dedb-e04a1d32dcf5"
   },
   "outputs": [
    {
     "data": {
      "image/png": "[encoded data removed]",
      "text/plain": [
       "<Figure size 720x432 with 1 Axes>"
      ]
     },
     "metadata": {
      "tags": []
     },
     "output_type": "display_data"
    }
   ],
   "source": [
    "# colors\n",
    "colors = [x for x in p_data.columns if x.startswith('colors')]\n",
    "colors_data = p_data[colors].sum().sort_values()\n",
    "colors_data.index = [x.replace('colors_', \"\") for x in colors_data.index]\n",
    "figure(num=None, figsize=(10, 6))\n",
    "colors_data.plot(kind = 'bar')\n",
    "plt.show()"
   ]
  },
  {
   "cell_type": "code",
   "execution_count": 0,
   "metadata": {
    "colab": {
     "base_uri": "https://localhost:8080/",
     "height": 302
    },
    "colab_type": "code",
    "executionInfo": {
     "elapsed": 1872,
     "status": "ok",
     "timestamp": 1574713269260,
     "user": {
      "displayName": "Skand Upmanyu",
      "photoUrl": "https://lh3.googleusercontent.com/a-/AAuE7mDucdWRvThRuOGGMpf4XuCLzSwgNJW97EO8v5sS=s64",
      "userId": "14474330947256204580"
     },
     "user_tz": 300
    },
    "id": "rDGABeoiDXbW",
    "outputId": "8698fc98-0865-4383-949d-24abbd9e1934"
   },
   "outputs": [
    {
     "data": {
      "image/png": "[encoded data removed]",
      "text/plain": [
       "<Figure size 432x288 with 1 Axes>"
      ]
     },
     "metadata": {
      "tags": []
     },
     "output_type": "display_data"
    }
   ],
   "source": [
    "# formality\n",
    "formality = [x for x in p_data.columns if x.startswith('formality_')]\n",
    "formality_data = p_data[formality].sum().sort_values()\n",
    "formality_data.index = [x.replace('formality_', \"\") for x in formality_data.index]\n",
    "formality_data.plot(kind = 'bar')\n",
    "plt.show()"
   ]
  },
  {
   "cell_type": "code",
   "execution_count": 0,
   "metadata": {
    "colab": {
     "base_uri": "https://localhost:8080/",
     "height": 319
    },
    "colab_type": "code",
    "executionInfo": {
     "elapsed": 1479,
     "status": "ok",
     "timestamp": 1574713269261,
     "user": {
      "displayName": "Skand Upmanyu",
      "photoUrl": "https://lh3.googleusercontent.com/a-/AAuE7mDucdWRvThRuOGGMpf4XuCLzSwgNJW97EO8v5sS=s64",
      "userId": "14474330947256204580"
     },
     "user_tz": 300
    },
    "id": "FRdwS7OTDivx",
    "outputId": "7b403385-4966-4d22-cd99-3fcc4f19ee8b"
   },
   "outputs": [
    {
     "data": {
      "image/png": "[encoded data removed]",
      "text/plain": [
       "<Figure size 432x288 with 1 Axes>"
      ]
     },
     "metadata": {
      "tags": []
     },
     "output_type": "display_data"
    }
   ],
   "source": [
    "# occasions\n",
    "occasions = [x for x in p_data.columns if x.startswith('occasions')]\n",
    "occasions_data = p_data[occasions].sum().sort_values()\n",
    "occasions_data.index = [x.replace('occasions_', \"\") for x in occasions_data.index]\n",
    "occasions_data.plot(kind = 'bar')\n",
    "plt.show()"
   ]
  },
  {
   "cell_type": "code",
   "execution_count": 0,
   "metadata": {
    "colab": {
     "base_uri": "https://localhost:8080/",
     "height": 439
    },
    "colab_type": "code",
    "executionInfo": {
     "elapsed": 1612,
     "status": "ok",
     "timestamp": 1574713269785,
     "user": {
      "displayName": "Skand Upmanyu",
      "photoUrl": "https://lh3.googleusercontent.com/a-/AAuE7mDucdWRvThRuOGGMpf4XuCLzSwgNJW97EO8v5sS=s64",
      "userId": "14474330947256204580"
     },
     "user_tz": 300
    },
    "id": "c_cdKpr8DuPz",
    "outputId": "426afe18-2d0d-4f56-a5d8-c54c9f61dcdd"
   },
   "outputs": [
    {
     "data": {
      "image/png": "[encoded data removed]",
      "text/plain": [
       "<Figure size 720x432 with 1 Axes>"
      ]
     },
     "metadata": {
      "tags": []
     },
     "output_type": "display_data"
    }
   ],
   "source": [
    "# embellishments\n",
    "embellishments = [x for x in p_data.columns if x.startswith('embellishments')]\n",
    "embellishments_data = p_data[embellishments].sum().sort_values()\n",
    "embellishments_data.index = [x.replace('embellishments_', \"\") for x in embellishments_data.index]\n",
    "figure(num=None, figsize=(10, 6))\n",
    "embellishments_data.plot(kind = 'bar')\n",
    "plt.show()"
   ]
  },
  {
   "cell_type": "code",
   "execution_count": 0,
   "metadata": {
    "colab": {
     "base_uri": "https://localhost:8080/",
     "height": 529
    },
    "colab_type": "code",
    "executionInfo": {
     "elapsed": 876,
     "status": "ok",
     "timestamp": 1574713938365,
     "user": {
      "displayName": "Skand Upmanyu",
      "photoUrl": "https://lh3.googleusercontent.com/a-/AAuE7mDucdWRvThRuOGGMpf4XuCLzSwgNJW97EO8v5sS=s64",
      "userId": "14474330947256204580"
     },
     "user_tz": 300
    },
    "id": "IN91NVO6EEd5",
    "outputId": "fae4a2a1-0976-432f-9abb-3347b1998c6f"
   },
   "outputs": [
    {
     "data": {
      "image/png": "[encoded data removed]",
      "text/plain": [
       "<Figure size 720x432 with 1 Axes>"
      ]
     },
     "metadata": {
      "tags": []
     },
     "output_type": "display_data"
    }
   ],
   "source": [
    "# designer\n",
    "designer = [x for x in p_data.columns if x.startswith('designer_')]\n",
    "designer.remove('designer_name')\n",
    "designer_data = p_data[designer].sum().sort_values()\n",
    "designer_data.index = [x.replace('designer_', \"\") for x in designer_data.index]\n",
    "figure(num=None, figsize=(10, 6))\n",
    "designer_data.plot(kind = 'bar')\n",
    "plt.show()"
   ]
  },
  {
   "cell_type": "code",
   "execution_count": 0,
   "metadata": {
    "colab": {},
    "colab_type": "code",
    "id": "3FOTvjniEVTs"
   },
   "outputs": [],
   "source": [
    "# length\n",
    "length = [x for x in p_data.columns if x.startswith('length')]\n",
    "length_data = p_data[length].sum().sort_values()\n",
    "length_data.index = [x.replace('length_', \"\") for x in length_data.index]\n",
    "length_data.plot(kind = 'bar')\n",
    "plt.show()"
   ]
  },
  {
   "cell_type": "code",
   "execution_count": 0,
   "metadata": {
    "colab": {},
    "colab_type": "code",
    "id": "XfKseh1REkwD"
   },
   "outputs": [],
   "source": [
    "# neckline\n",
    "neckline = [x for x in p_data.columns if x.startswith('neckline')]\n",
    "neckline_data = p_data[neckline].sum().sort_values()\n",
    "neckline_data.index = [x.replace('neckline_', \"\") for x in neckline_data.index]\n",
    "figure(num=None, figsize=(10, 6))\n",
    "neckline_data.plot(kind = 'bar')\n",
    "plt.show()"
   ]
  },
  {
   "cell_type": "code",
   "execution_count": 0,
   "metadata": {
    "colab": {
     "base_uri": "https://localhost:8080/",
     "height": 333
    },
    "colab_type": "code",
    "executionInfo": {
     "elapsed": 866,
     "status": "ok",
     "timestamp": 1574713270215,
     "user": {
      "displayName": "Skand Upmanyu",
      "photoUrl": "https://lh3.googleusercontent.com/a-/AAuE7mDucdWRvThRuOGGMpf4XuCLzSwgNJW97EO8v5sS=s64",
      "userId": "14474330947256204580"
     },
     "user_tz": 300
    },
    "id": "EccJNv42Ek4M",
    "outputId": "1585c520-def4-42bb-c0d1-e3a979e4a4c5"
   },
   "outputs": [
    {
     "data": {
      "image/png": "[encoded data removed]",
      "text/plain": [
       "<Figure size 432x288 with 1 Axes>"
      ]
     },
     "metadata": {
      "tags": []
     },
     "output_type": "display_data"
    }
   ],
   "source": [
    "# season\n",
    "season = [x for x in p_data.columns if x.startswith('season')]\n",
    "season_data = p_data[season].sum().sort_values()\n",
    "season_data.index = [x.replace('season_', \"\") for x in season_data.index]\n",
    "season_data.plot(kind = 'bar')\n",
    "plt.show()"
   ]
  },
  {
   "cell_type": "code",
   "execution_count": 0,
   "metadata": {
    "colab": {
     "base_uri": "https://localhost:8080/",
     "height": 361
    },
    "colab_type": "code",
    "executionInfo": {
     "elapsed": 1086,
     "status": "ok",
     "timestamp": 1574713270618,
     "user": {
      "displayName": "Skand Upmanyu",
      "photoUrl": "https://lh3.googleusercontent.com/a-/AAuE7mDucdWRvThRuOGGMpf4XuCLzSwgNJW97EO8v5sS=s64",
      "userId": "14474330947256204580"
     },
     "user_tz": 300
    },
    "id": "SJSP3icIEk_6",
    "outputId": "97278877-1e3d-49ab-cfcf-ccd0dfabcb69"
   },
   "outputs": [
    {
     "data": {
      "image/png": "[encoded data removed]",
      "text/plain": [
       "<Figure size 432x288 with 1 Axes>"
      ]
     },
     "metadata": {
      "tags": []
     },
     "output_type": "display_data"
    }
   ],
   "source": [
    "# sleeve\n",
    "sleeve = [x for x in p_data.columns if x.startswith('sleeve')]\n",
    "sleeve_data = p_data[sleeve].sum().sort_values()\n",
    "sleeve_data.index = [x.replace('sleeve_', \"\") for x in sleeve_data.index]\n",
    "sleeve_data.plot(kind = 'bar')\n",
    "plt.show()"
   ]
  },
  {
   "cell_type": "code",
   "execution_count": 0,
   "metadata": {
    "colab": {
     "base_uri": "https://localhost:8080/",
     "height": 265
    },
    "colab_type": "code",
    "executionInfo": {
     "elapsed": 1128,
     "status": "ok",
     "timestamp": 1574713270876,
     "user": {
      "displayName": "Skand Upmanyu",
      "photoUrl": "https://lh3.googleusercontent.com/a-/AAuE7mDucdWRvThRuOGGMpf4XuCLzSwgNJW97EO8v5sS=s64",
      "userId": "14474330947256204580"
     },
     "user_tz": 300
    },
    "id": "javSWzjzFvlg",
    "outputId": "c1ae87fd-f526-46ad-f814-a1ec9afc8fc2"
   },
   "outputs": [
    {
     "data": {
      "image/png": "[encoded data removed]",
      "text/plain": [
       "<Figure size 432x288 with 1 Axes>"
      ]
     },
     "metadata": {
      "tags": []
     },
     "output_type": "display_data"
    }
   ],
   "source": [
    "# product_age_years\n",
    "plt.hist(p_data['product_age_years'])\n",
    "plt.show()"
   ]
  },
  {
   "cell_type": "markdown",
   "metadata": {
    "colab_type": "text",
    "id": "2_njFu0B2jAI"
   },
   "source": [
    "# Content Based Filtering"
   ]
  },
  {
   "cell_type": "markdown",
   "metadata": {
    "colab_type": "text",
    "id": "fF21sH7p3Br2"
   },
   "source": [
    "### Reset data here"
   ]
  },
  {
   "cell_type": "code",
   "execution_count": 0,
   "metadata": {
    "colab": {},
    "colab_type": "code",
    "id": "I1PTNMmQ3BBX"
   },
   "outputs": [],
   "source": [
    "p_data_content = p_data.copy()"
   ]
  },
  {
   "cell_type": "code",
   "execution_count": 0,
   "metadata": {
    "colab": {},
    "colab_type": "code",
    "id": "2CqqKuZ03H8X"
   },
   "outputs": [],
   "source": [
    "p_data_content = p_data_content.drop(columns= ['created', 'displayName', 'designer_name', 'productDetails', 'stylistNotes', 'product_img_link'])"
   ]
  },
  {
   "cell_type": "markdown",
   "metadata": {
    "colab_type": "text",
    "id": "mdBDdnDchJfb"
   },
   "source": [
    "### Standardize columns"
   ]
  },
  {
   "cell_type": "code",
   "execution_count": 0,
   "metadata": {
    "colab": {},
    "colab_type": "code",
    "id": "f6AXgWLMbjVD"
   },
   "outputs": [],
   "source": [
    "# Standardize each column vector\n",
    "def standardize_columns(df):\n",
    "  for colname in df.columns:\n",
    "    if colname == 'item_id':\n",
    "      continue\n",
    "    else:\n",
    "      mean_ = np.mean(df[colname])\n",
    "      std_ = np.std(df[colname])\n",
    "      df[colname] = (df[colname] - mean_) / std_\n",
    "  return df\n",
    "\n",
    "p_data_content_std = standardize_columns(p_data_content)"
   ]
  },
  {
   "cell_type": "markdown",
   "metadata": {
    "colab_type": "text",
    "id": "Df-DWGrEiKDk"
   },
   "source": [
    "### Singular Value Deomposition"
   ]
  },
  {
   "cell_type": "code",
   "execution_count": 0,
   "metadata": {
    "colab": {
     "base_uri": "https://localhost:8080/",
     "height": 304
    },
    "colab_type": "code",
    "executionInfo": {
     "elapsed": 2224,
     "status": "ok",
     "timestamp": 1575309960738,
     "user": {
      "displayName": "Skand Upmanyu",
      "photoUrl": "https://lh3.googleusercontent.com/a-/AAuE7mDucdWRvThRuOGGMpf4XuCLzSwgNJW97EO8v5sS=s64",
      "userId": "14474330947256204580"
     },
     "user_tz": 300
    },
    "id": "OGvcNQwuEBSo",
    "outputId": "4f446d60-5db3-481b-e0e9-452678304d87"
   },
   "outputs": [
    {
     "data": {
      "image/png": "[encoded data removed]",
      "text/plain": [
       "<Figure size 432x288 with 1 Axes>"
      ]
     },
     "metadata": {
      "tags": []
     },
     "output_type": "display_data"
    }
   ],
   "source": [
    "# products is a sparse matrix and therefore we carry out singiular value decomposition using PCA\n",
    "\n",
    "# Scree Plot values\n",
    "X = p_data_content_std.values\n",
    "tsvd = TruncatedSVD(n_components=X.shape[1] - 1) #reduce just one variable\n",
    "X_tsvd = tsvd.fit(X) #Train\n",
    "var_ratio_exp = X_tsvd.explained_variance_ratio_.cumsum()\n",
    "\n",
    "# Scree Plot\n",
    "plt.xlabel('Number of Variables', fontsize=14, color='black')\n",
    "plt.ylabel('Variance Explained(%)', fontsize=14, color='black')\n",
    "plt.title ('Scree plot for SVD Analysis' ,fontsize=20, color='blue')\n",
    "plt.plot(range(len(var_ratio_exp)), var_ratio_exp * 100) #plot\n",
    "plt.show()"
   ]
  },
  {
   "cell_type": "code",
   "execution_count": 0,
   "metadata": {
    "colab": {
     "base_uri": "https://localhost:8080/",
     "height": 34
    },
    "colab_type": "code",
    "executionInfo": {
     "elapsed": 1138,
     "status": "ok",
     "timestamp": 1575309960739,
     "user": {
      "displayName": "Skand Upmanyu",
      "photoUrl": "https://lh3.googleusercontent.com/a-/AAuE7mDucdWRvThRuOGGMpf4XuCLzSwgNJW97EO8v5sS=s64",
      "userId": "14474330947256204580"
     },
     "user_tz": 300
    },
    "id": "LA5Dz6LuJnAE",
    "outputId": "414a8dc7-adcf-424d-dc6a-4d49cd773647"
   },
   "outputs": [
    {
     "data": {
      "text/plain": [
       "97.10089301738563"
      ]
     },
     "execution_count": 23,
     "metadata": {
      "tags": []
     },
     "output_type": "execute_result"
    }
   ],
   "source": [
    "var_ratio_exp[75] * 100"
   ]
  },
  {
   "cell_type": "code",
   "execution_count": 0,
   "metadata": {
    "colab": {},
    "colab_type": "code",
    "id": "ykhgw00dMm4H"
   },
   "outputs": [],
   "source": [
    "# perform SVD using 75 principal components\n",
    "svd = TruncatedSVD(n_components = 75,random_state = 63) #Define our SVD\n",
    "normalizer = Normalizer(copy=False) #whole row to unit norm. Every document now is a unit vector\n",
    "LSA = make_pipeline(svd, normalizer) #\n",
    "Xnew = LSA.fit_transform(X)"
   ]
  },
  {
   "cell_type": "code",
   "execution_count": 0,
   "metadata": {
    "colab": {},
    "colab_type": "code",
    "id": "0411MeYSM8E4"
   },
   "outputs": [],
   "source": [
    "# Create reduced products dataframe\n",
    "products_SVD = pd.DataFrame(Xnew)\n",
    "products_SVD = products_SVD.assign(item_id = p_data_content_std.index)\n",
    "products_SVD = products_SVD.set_index('item_id')"
   ]
  },
  {
   "cell_type": "markdown",
   "metadata": {
    "colab_type": "text",
    "id": "qR4JAuOziQHs"
   },
   "source": [
    "### Cosine Similarity"
   ]
  },
  {
   "cell_type": "code",
   "execution_count": 0,
   "metadata": {
    "colab": {
     "base_uri": "https://localhost:8080/",
     "height": 439
    },
    "colab_type": "code",
    "executionInfo": {
     "elapsed": 4073,
     "status": "ok",
     "timestamp": 1575309967724,
     "user": {
      "displayName": "Skand Upmanyu",
      "photoUrl": "https://lh3.googleusercontent.com/a-/AAuE7mDucdWRvThRuOGGMpf4XuCLzSwgNJW97EO8v5sS=s64",
      "userId": "14474330947256204580"
     },
     "user_tz": 300
    },
    "id": "4DABVEEuNNhH",
    "outputId": "54046f1a-e045-4869-e5f4-b007ea7f218b"
   },
   "outputs": [
    {
     "data": {
      "text/html": [
       "<div>\n",
       "<style scoped>\n",
       "    .dataframe tbody tr th:only-of-type {\n",
       "        vertical-align: middle;\n",
       "    }\n",
       "\n",
       "    .dataframe tbody tr th {\n",
       "        vertical-align: top;\n",
       "    }\n",
       "\n",
       "    .dataframe thead th {\n",
       "        text-align: right;\n",
       "    }\n",
       "</style>\n",
       "<table border=\"1\" class=\"dataframe\">\n",
       "  <thead>\n",
       "    <tr style=\"text-align: right;\">\n",
       "      <th></th>\n",
       "      <th>FLN35</th>\n",
       "      <th>RMB77</th>\n",
       "      <th>KPL81</th>\n",
       "      <th>STS90</th>\n",
       "      <th>PR125</th>\n",
       "      <th>DLF27</th>\n",
       "      <th>RKB22</th>\n",
       "      <th>BM621</th>\n",
       "      <th>SNY39</th>\n",
       "      <th>BH174</th>\n",
       "      <th>RAHI4</th>\n",
       "      <th>JSK46</th>\n",
       "      <th>LDT17</th>\n",
       "      <th>NIS5</th>\n",
       "      <th>TMO22</th>\n",
       "      <th>TNT113</th>\n",
       "      <th>IAI49</th>\n",
       "      <th>ALC99</th>\n",
       "      <th>RED85</th>\n",
       "      <th>RZ114</th>\n",
       "      <th>MNL247</th>\n",
       "      <th>DLF29</th>\n",
       "      <th>TYB167</th>\n",
       "      <th>FLL23</th>\n",
       "      <th>IRO45</th>\n",
       "      <th>HLN6</th>\n",
       "      <th>SMY24</th>\n",
       "      <th>FZ63</th>\n",
       "      <th>FLN34</th>\n",
       "      <th>KPL65</th>\n",
       "      <th>TMO20</th>\n",
       "      <th>RZ111</th>\n",
       "      <th>LRL77</th>\n",
       "      <th>NIS1</th>\n",
       "      <th>ANR67</th>\n",
       "      <th>MQA5</th>\n",
       "      <th>BH138</th>\n",
       "      <th>ALC77</th>\n",
       "      <th>BDK98</th>\n",
       "      <th>JWC12</th>\n",
       "      <th>...</th>\n",
       "      <th>PRLPE1</th>\n",
       "      <th>KDSPE69</th>\n",
       "      <th>BAMRNG45</th>\n",
       "      <th>ABPE79</th>\n",
       "      <th>PRLPE19</th>\n",
       "      <th>DNJNK66</th>\n",
       "      <th>BAMPE1</th>\n",
       "      <th>SWABRC56</th>\n",
       "      <th>BAMPE22</th>\n",
       "      <th>ABPE73</th>\n",
       "      <th>CNRPE4</th>\n",
       "      <th>BAMPE24</th>\n",
       "      <th>ELCPE2</th>\n",
       "      <th>ABBRC71</th>\n",
       "      <th>DNJPE105</th>\n",
       "      <th>KDSPE123</th>\n",
       "      <th>KJLPE32</th>\n",
       "      <th>GJPE49</th>\n",
       "      <th>SWAPE64</th>\n",
       "      <th>SWAPE85</th>\n",
       "      <th>JPPE5</th>\n",
       "      <th>KJLPE28</th>\n",
       "      <th>DNJPE120</th>\n",
       "      <th>TDPE2</th>\n",
       "      <th>ODLRNK111</th>\n",
       "      <th>DNJBRC127</th>\n",
       "      <th>SMDPE22</th>\n",
       "      <th>NTPE14</th>\n",
       "      <th>DNJNK122</th>\n",
       "      <th>ABNK82</th>\n",
       "      <th>SMDPE35</th>\n",
       "      <th>DNJPE119</th>\n",
       "      <th>DNJNK68</th>\n",
       "      <th>LFNK81</th>\n",
       "      <th>MJPE45</th>\n",
       "      <th>KDSPE87</th>\n",
       "      <th>DNJNK118</th>\n",
       "      <th>LSBRC27</th>\n",
       "      <th>LSPE28</th>\n",
       "      <th>KSNK65</th>\n",
       "    </tr>\n",
       "  </thead>\n",
       "  <tbody>\n",
       "    <tr>\n",
       "      <th>FLN35</th>\n",
       "      <td>1.000000</td>\n",
       "      <td>-0.022734</td>\n",
       "      <td>0.458811</td>\n",
       "      <td>0.023956</td>\n",
       "      <td>0.242898</td>\n",
       "      <td>0.264144</td>\n",
       "      <td>0.293328</td>\n",
       "      <td>-0.002115</td>\n",
       "      <td>0.363600</td>\n",
       "      <td>0.403704</td>\n",
       "      <td>0.294011</td>\n",
       "      <td>0.571218</td>\n",
       "      <td>0.299391</td>\n",
       "      <td>0.073445</td>\n",
       "      <td>0.295431</td>\n",
       "      <td>0.414694</td>\n",
       "      <td>0.137863</td>\n",
       "      <td>0.115339</td>\n",
       "      <td>0.036205</td>\n",
       "      <td>0.062393</td>\n",
       "      <td>0.044644</td>\n",
       "      <td>0.182899</td>\n",
       "      <td>0.093476</td>\n",
       "      <td>0.093670</td>\n",
       "      <td>0.104574</td>\n",
       "      <td>-0.045065</td>\n",
       "      <td>0.254020</td>\n",
       "      <td>0.055814</td>\n",
       "      <td>0.198462</td>\n",
       "      <td>0.060198</td>\n",
       "      <td>0.265278</td>\n",
       "      <td>0.435472</td>\n",
       "      <td>0.063015</td>\n",
       "      <td>0.009644</td>\n",
       "      <td>0.010082</td>\n",
       "      <td>0.045998</td>\n",
       "      <td>0.200094</td>\n",
       "      <td>0.305793</td>\n",
       "      <td>0.078673</td>\n",
       "      <td>0.165448</td>\n",
       "      <td>...</td>\n",
       "      <td>-0.153908</td>\n",
       "      <td>-0.141499</td>\n",
       "      <td>-0.133366</td>\n",
       "      <td>-0.121671</td>\n",
       "      <td>-0.160567</td>\n",
       "      <td>-0.148460</td>\n",
       "      <td>-0.129147</td>\n",
       "      <td>-0.124128</td>\n",
       "      <td>-0.162675</td>\n",
       "      <td>-0.135271</td>\n",
       "      <td>-0.149376</td>\n",
       "      <td>-0.139588</td>\n",
       "      <td>-0.148135</td>\n",
       "      <td>-0.141906</td>\n",
       "      <td>-0.154081</td>\n",
       "      <td>-0.116458</td>\n",
       "      <td>-0.120581</td>\n",
       "      <td>-0.116316</td>\n",
       "      <td>-0.128578</td>\n",
       "      <td>-0.131766</td>\n",
       "      <td>-0.125642</td>\n",
       "      <td>-0.146508</td>\n",
       "      <td>-0.134050</td>\n",
       "      <td>-0.158488</td>\n",
       "      <td>-0.171252</td>\n",
       "      <td>-0.098520</td>\n",
       "      <td>-0.166399</td>\n",
       "      <td>-0.143188</td>\n",
       "      <td>-0.098325</td>\n",
       "      <td>-0.148727</td>\n",
       "      <td>-0.189541</td>\n",
       "      <td>-0.120625</td>\n",
       "      <td>-0.152748</td>\n",
       "      <td>-0.147203</td>\n",
       "      <td>-0.118585</td>\n",
       "      <td>-0.150536</td>\n",
       "      <td>-0.104306</td>\n",
       "      <td>-0.116043</td>\n",
       "      <td>-0.122796</td>\n",
       "      <td>-0.146167</td>\n",
       "    </tr>\n",
       "    <tr>\n",
       "      <th>RMB77</th>\n",
       "      <td>-0.022734</td>\n",
       "      <td>1.000000</td>\n",
       "      <td>0.033126</td>\n",
       "      <td>0.318313</td>\n",
       "      <td>0.052850</td>\n",
       "      <td>0.220810</td>\n",
       "      <td>0.099767</td>\n",
       "      <td>0.033840</td>\n",
       "      <td>-0.021596</td>\n",
       "      <td>0.095278</td>\n",
       "      <td>0.203052</td>\n",
       "      <td>0.016110</td>\n",
       "      <td>0.050785</td>\n",
       "      <td>0.141968</td>\n",
       "      <td>-0.053580</td>\n",
       "      <td>-0.072875</td>\n",
       "      <td>0.259847</td>\n",
       "      <td>0.173634</td>\n",
       "      <td>0.103651</td>\n",
       "      <td>0.094587</td>\n",
       "      <td>0.010916</td>\n",
       "      <td>0.011174</td>\n",
       "      <td>-0.137419</td>\n",
       "      <td>-0.035607</td>\n",
       "      <td>0.124967</td>\n",
       "      <td>0.126989</td>\n",
       "      <td>0.136204</td>\n",
       "      <td>-0.124073</td>\n",
       "      <td>-0.067828</td>\n",
       "      <td>-0.036961</td>\n",
       "      <td>-0.109359</td>\n",
       "      <td>0.372428</td>\n",
       "      <td>0.255259</td>\n",
       "      <td>0.233338</td>\n",
       "      <td>0.207196</td>\n",
       "      <td>-0.017237</td>\n",
       "      <td>0.396468</td>\n",
       "      <td>0.057042</td>\n",
       "      <td>0.119674</td>\n",
       "      <td>0.049099</td>\n",
       "      <td>...</td>\n",
       "      <td>-0.052246</td>\n",
       "      <td>-0.074989</td>\n",
       "      <td>0.367924</td>\n",
       "      <td>-0.006024</td>\n",
       "      <td>0.026663</td>\n",
       "      <td>0.398572</td>\n",
       "      <td>0.287987</td>\n",
       "      <td>0.329737</td>\n",
       "      <td>0.429235</td>\n",
       "      <td>0.349069</td>\n",
       "      <td>0.293490</td>\n",
       "      <td>0.322064</td>\n",
       "      <td>0.270111</td>\n",
       "      <td>0.417444</td>\n",
       "      <td>-0.080475</td>\n",
       "      <td>-0.189010</td>\n",
       "      <td>0.325974</td>\n",
       "      <td>-0.117127</td>\n",
       "      <td>0.365513</td>\n",
       "      <td>0.417445</td>\n",
       "      <td>0.329887</td>\n",
       "      <td>0.336738</td>\n",
       "      <td>-0.153123</td>\n",
       "      <td>0.498122</td>\n",
       "      <td>0.273998</td>\n",
       "      <td>0.397890</td>\n",
       "      <td>0.028237</td>\n",
       "      <td>0.035745</td>\n",
       "      <td>0.444062</td>\n",
       "      <td>0.391591</td>\n",
       "      <td>0.048691</td>\n",
       "      <td>-0.069088</td>\n",
       "      <td>0.321285</td>\n",
       "      <td>0.367800</td>\n",
       "      <td>-0.055549</td>\n",
       "      <td>-0.000486</td>\n",
       "      <td>0.481776</td>\n",
       "      <td>-0.120345</td>\n",
       "      <td>-0.143161</td>\n",
       "      <td>-0.044809</td>\n",
       "    </tr>\n",
       "    <tr>\n",
       "      <th>KPL81</th>\n",
       "      <td>0.458811</td>\n",
       "      <td>0.033126</td>\n",
       "      <td>1.000000</td>\n",
       "      <td>0.107864</td>\n",
       "      <td>0.541723</td>\n",
       "      <td>0.218161</td>\n",
       "      <td>0.632137</td>\n",
       "      <td>0.037765</td>\n",
       "      <td>0.520178</td>\n",
       "      <td>0.145590</td>\n",
       "      <td>0.135684</td>\n",
       "      <td>0.335693</td>\n",
       "      <td>0.441300</td>\n",
       "      <td>0.108496</td>\n",
       "      <td>0.403471</td>\n",
       "      <td>0.435968</td>\n",
       "      <td>0.263748</td>\n",
       "      <td>0.404055</td>\n",
       "      <td>0.212318</td>\n",
       "      <td>0.123178</td>\n",
       "      <td>0.356568</td>\n",
       "      <td>0.293368</td>\n",
       "      <td>0.310897</td>\n",
       "      <td>0.210124</td>\n",
       "      <td>0.202886</td>\n",
       "      <td>-0.105637</td>\n",
       "      <td>0.160951</td>\n",
       "      <td>0.298602</td>\n",
       "      <td>0.509504</td>\n",
       "      <td>0.209580</td>\n",
       "      <td>0.120689</td>\n",
       "      <td>0.477153</td>\n",
       "      <td>0.128801</td>\n",
       "      <td>0.256638</td>\n",
       "      <td>0.070725</td>\n",
       "      <td>0.077835</td>\n",
       "      <td>0.142254</td>\n",
       "      <td>0.193356</td>\n",
       "      <td>0.055467</td>\n",
       "      <td>0.247804</td>\n",
       "      <td>...</td>\n",
       "      <td>-0.238339</td>\n",
       "      <td>-0.207849</td>\n",
       "      <td>-0.209008</td>\n",
       "      <td>-0.155554</td>\n",
       "      <td>-0.183292</td>\n",
       "      <td>-0.185369</td>\n",
       "      <td>-0.189420</td>\n",
       "      <td>-0.217711</td>\n",
       "      <td>-0.255474</td>\n",
       "      <td>-0.191927</td>\n",
       "      <td>-0.236614</td>\n",
       "      <td>-0.214678</td>\n",
       "      <td>-0.240325</td>\n",
       "      <td>-0.183594</td>\n",
       "      <td>-0.225912</td>\n",
       "      <td>-0.216172</td>\n",
       "      <td>-0.179283</td>\n",
       "      <td>-0.185824</td>\n",
       "      <td>-0.216540</td>\n",
       "      <td>-0.192718</td>\n",
       "      <td>-0.217208</td>\n",
       "      <td>-0.222474</td>\n",
       "      <td>-0.223524</td>\n",
       "      <td>-0.237031</td>\n",
       "      <td>-0.166739</td>\n",
       "      <td>-0.123688</td>\n",
       "      <td>-0.169788</td>\n",
       "      <td>-0.154614</td>\n",
       "      <td>-0.100835</td>\n",
       "      <td>-0.203520</td>\n",
       "      <td>-0.223038</td>\n",
       "      <td>-0.154509</td>\n",
       "      <td>-0.175204</td>\n",
       "      <td>-0.205154</td>\n",
       "      <td>-0.202327</td>\n",
       "      <td>-0.202253</td>\n",
       "      <td>-0.117023</td>\n",
       "      <td>-0.144279</td>\n",
       "      <td>-0.167284</td>\n",
       "      <td>-0.205080</td>\n",
       "    </tr>\n",
       "    <tr>\n",
       "      <th>STS90</th>\n",
       "      <td>0.023956</td>\n",
       "      <td>0.318313</td>\n",
       "      <td>0.107864</td>\n",
       "      <td>1.000000</td>\n",
       "      <td>-0.088791</td>\n",
       "      <td>0.400993</td>\n",
       "      <td>0.187890</td>\n",
       "      <td>0.428562</td>\n",
       "      <td>0.127677</td>\n",
       "      <td>0.305288</td>\n",
       "      <td>0.508513</td>\n",
       "      <td>0.218605</td>\n",
       "      <td>0.132588</td>\n",
       "      <td>0.393342</td>\n",
       "      <td>0.083187</td>\n",
       "      <td>-0.025611</td>\n",
       "      <td>0.557603</td>\n",
       "      <td>0.360907</td>\n",
       "      <td>-0.023159</td>\n",
       "      <td>0.207366</td>\n",
       "      <td>0.090237</td>\n",
       "      <td>0.286921</td>\n",
       "      <td>-0.079655</td>\n",
       "      <td>0.052959</td>\n",
       "      <td>-0.002424</td>\n",
       "      <td>0.357865</td>\n",
       "      <td>0.664620</td>\n",
       "      <td>-0.075828</td>\n",
       "      <td>-0.056050</td>\n",
       "      <td>0.187213</td>\n",
       "      <td>0.202387</td>\n",
       "      <td>0.357608</td>\n",
       "      <td>0.541390</td>\n",
       "      <td>0.549710</td>\n",
       "      <td>0.759418</td>\n",
       "      <td>-0.004612</td>\n",
       "      <td>0.708289</td>\n",
       "      <td>-0.105801</td>\n",
       "      <td>-0.039019</td>\n",
       "      <td>0.176596</td>\n",
       "      <td>...</td>\n",
       "      <td>-0.053683</td>\n",
       "      <td>-0.089938</td>\n",
       "      <td>-0.046881</td>\n",
       "      <td>0.007515</td>\n",
       "      <td>0.040859</td>\n",
       "      <td>-0.011662</td>\n",
       "      <td>-0.091534</td>\n",
       "      <td>-0.088844</td>\n",
       "      <td>-0.092154</td>\n",
       "      <td>-0.048411</td>\n",
       "      <td>-0.133223</td>\n",
       "      <td>-0.093996</td>\n",
       "      <td>-0.118749</td>\n",
       "      <td>0.009868</td>\n",
       "      <td>-0.120124</td>\n",
       "      <td>-0.239729</td>\n",
       "      <td>-0.071598</td>\n",
       "      <td>-0.137060</td>\n",
       "      <td>-0.042688</td>\n",
       "      <td>0.021283</td>\n",
       "      <td>-0.074326</td>\n",
       "      <td>-0.059459</td>\n",
       "      <td>-0.189412</td>\n",
       "      <td>0.016766</td>\n",
       "      <td>-0.139168</td>\n",
       "      <td>-0.074041</td>\n",
       "      <td>0.040265</td>\n",
       "      <td>0.040496</td>\n",
       "      <td>-0.010069</td>\n",
       "      <td>-0.024637</td>\n",
       "      <td>0.071172</td>\n",
       "      <td>-0.098465</td>\n",
       "      <td>-0.054025</td>\n",
       "      <td>-0.030002</td>\n",
       "      <td>-0.079306</td>\n",
       "      <td>0.015196</td>\n",
       "      <td>-0.009641</td>\n",
       "      <td>-0.166765</td>\n",
       "      <td>-0.216264</td>\n",
       "      <td>-0.056775</td>\n",
       "    </tr>\n",
       "    <tr>\n",
       "      <th>PR125</th>\n",
       "      <td>0.242898</td>\n",
       "      <td>0.052850</td>\n",
       "      <td>0.541723</td>\n",
       "      <td>-0.088791</td>\n",
       "      <td>1.000000</td>\n",
       "      <td>0.087414</td>\n",
       "      <td>0.314746</td>\n",
       "      <td>0.096398</td>\n",
       "      <td>0.507359</td>\n",
       "      <td>0.086990</td>\n",
       "      <td>-0.069600</td>\n",
       "      <td>0.175344</td>\n",
       "      <td>0.162583</td>\n",
       "      <td>0.103439</td>\n",
       "      <td>0.323915</td>\n",
       "      <td>0.322874</td>\n",
       "      <td>-0.023920</td>\n",
       "      <td>0.042576</td>\n",
       "      <td>0.736094</td>\n",
       "      <td>0.192232</td>\n",
       "      <td>0.013015</td>\n",
       "      <td>0.410354</td>\n",
       "      <td>0.392907</td>\n",
       "      <td>0.131380</td>\n",
       "      <td>0.566499</td>\n",
       "      <td>-0.198371</td>\n",
       "      <td>-0.050944</td>\n",
       "      <td>0.501413</td>\n",
       "      <td>0.039720</td>\n",
       "      <td>0.417768</td>\n",
       "      <td>0.056813</td>\n",
       "      <td>0.414323</td>\n",
       "      <td>-0.068841</td>\n",
       "      <td>-0.054397</td>\n",
       "      <td>-0.117335</td>\n",
       "      <td>0.136508</td>\n",
       "      <td>0.157720</td>\n",
       "      <td>0.387706</td>\n",
       "      <td>0.193317</td>\n",
       "      <td>0.054418</td>\n",
       "      <td>...</td>\n",
       "      <td>-0.272637</td>\n",
       "      <td>-0.226316</td>\n",
       "      <td>-0.205172</td>\n",
       "      <td>-0.154184</td>\n",
       "      <td>-0.271140</td>\n",
       "      <td>-0.146192</td>\n",
       "      <td>-0.194528</td>\n",
       "      <td>-0.231758</td>\n",
       "      <td>-0.228262</td>\n",
       "      <td>-0.173259</td>\n",
       "      <td>-0.217933</td>\n",
       "      <td>-0.174841</td>\n",
       "      <td>-0.223034</td>\n",
       "      <td>-0.192465</td>\n",
       "      <td>-0.276962</td>\n",
       "      <td>-0.274783</td>\n",
       "      <td>-0.204189</td>\n",
       "      <td>-0.288942</td>\n",
       "      <td>-0.247088</td>\n",
       "      <td>-0.251737</td>\n",
       "      <td>-0.225580</td>\n",
       "      <td>-0.236162</td>\n",
       "      <td>-0.231324</td>\n",
       "      <td>-0.297851</td>\n",
       "      <td>0.084263</td>\n",
       "      <td>-0.162605</td>\n",
       "      <td>-0.205343</td>\n",
       "      <td>-0.221307</td>\n",
       "      <td>-0.161358</td>\n",
       "      <td>-0.199910</td>\n",
       "      <td>-0.263716</td>\n",
       "      <td>-0.211989</td>\n",
       "      <td>-0.092320</td>\n",
       "      <td>-0.177786</td>\n",
       "      <td>-0.194567</td>\n",
       "      <td>-0.239769</td>\n",
       "      <td>-0.199461</td>\n",
       "      <td>-0.155034</td>\n",
       "      <td>-0.197817</td>\n",
       "      <td>-0.240092</td>\n",
       "    </tr>\n",
       "    <tr>\n",
       "      <th>...</th>\n",
       "      <td>...</td>\n",
       "      <td>...</td>\n",
       "      <td>...</td>\n",
       "      <td>...</td>\n",
       "      <td>...</td>\n",
       "      <td>...</td>\n",
       "      <td>...</td>\n",
       "      <td>...</td>\n",
       "      <td>...</td>\n",
       "      <td>...</td>\n",
       "      <td>...</td>\n",
       "      <td>...</td>\n",
       "      <td>...</td>\n",
       "      <td>...</td>\n",
       "      <td>...</td>\n",
       "      <td>...</td>\n",
       "      <td>...</td>\n",
       "      <td>...</td>\n",
       "      <td>...</td>\n",
       "      <td>...</td>\n",
       "      <td>...</td>\n",
       "      <td>...</td>\n",
       "      <td>...</td>\n",
       "      <td>...</td>\n",
       "      <td>...</td>\n",
       "      <td>...</td>\n",
       "      <td>...</td>\n",
       "      <td>...</td>\n",
       "      <td>...</td>\n",
       "      <td>...</td>\n",
       "      <td>...</td>\n",
       "      <td>...</td>\n",
       "      <td>...</td>\n",
       "      <td>...</td>\n",
       "      <td>...</td>\n",
       "      <td>...</td>\n",
       "      <td>...</td>\n",
       "      <td>...</td>\n",
       "      <td>...</td>\n",
       "      <td>...</td>\n",
       "      <td>...</td>\n",
       "      <td>...</td>\n",
       "      <td>...</td>\n",
       "      <td>...</td>\n",
       "      <td>...</td>\n",
       "      <td>...</td>\n",
       "      <td>...</td>\n",
       "      <td>...</td>\n",
       "      <td>...</td>\n",
       "      <td>...</td>\n",
       "      <td>...</td>\n",
       "      <td>...</td>\n",
       "      <td>...</td>\n",
       "      <td>...</td>\n",
       "      <td>...</td>\n",
       "      <td>...</td>\n",
       "      <td>...</td>\n",
       "      <td>...</td>\n",
       "      <td>...</td>\n",
       "      <td>...</td>\n",
       "      <td>...</td>\n",
       "      <td>...</td>\n",
       "      <td>...</td>\n",
       "      <td>...</td>\n",
       "      <td>...</td>\n",
       "      <td>...</td>\n",
       "      <td>...</td>\n",
       "      <td>...</td>\n",
       "      <td>...</td>\n",
       "      <td>...</td>\n",
       "      <td>...</td>\n",
       "      <td>...</td>\n",
       "      <td>...</td>\n",
       "      <td>...</td>\n",
       "      <td>...</td>\n",
       "      <td>...</td>\n",
       "      <td>...</td>\n",
       "      <td>...</td>\n",
       "      <td>...</td>\n",
       "      <td>...</td>\n",
       "      <td>...</td>\n",
       "    </tr>\n",
       "    <tr>\n",
       "      <th>KDSPE87</th>\n",
       "      <td>-0.150536</td>\n",
       "      <td>-0.000486</td>\n",
       "      <td>-0.202253</td>\n",
       "      <td>0.015196</td>\n",
       "      <td>-0.239769</td>\n",
       "      <td>-0.088452</td>\n",
       "      <td>-0.092716</td>\n",
       "      <td>-0.026450</td>\n",
       "      <td>-0.251280</td>\n",
       "      <td>-0.056551</td>\n",
       "      <td>-0.113595</td>\n",
       "      <td>-0.137892</td>\n",
       "      <td>-0.084364</td>\n",
       "      <td>0.012804</td>\n",
       "      <td>-0.201017</td>\n",
       "      <td>-0.277144</td>\n",
       "      <td>-0.010589</td>\n",
       "      <td>-0.100287</td>\n",
       "      <td>-0.220268</td>\n",
       "      <td>-0.052027</td>\n",
       "      <td>-0.067691</td>\n",
       "      <td>-0.231137</td>\n",
       "      <td>-0.296315</td>\n",
       "      <td>-0.154043</td>\n",
       "      <td>-0.257189</td>\n",
       "      <td>-0.006826</td>\n",
       "      <td>-0.081224</td>\n",
       "      <td>-0.268558</td>\n",
       "      <td>-0.262501</td>\n",
       "      <td>-0.265852</td>\n",
       "      <td>-0.168714</td>\n",
       "      <td>-0.078135</td>\n",
       "      <td>0.028220</td>\n",
       "      <td>0.032032</td>\n",
       "      <td>0.013671</td>\n",
       "      <td>-0.090452</td>\n",
       "      <td>-0.005310</td>\n",
       "      <td>-0.229578</td>\n",
       "      <td>-0.176189</td>\n",
       "      <td>-0.110955</td>\n",
       "      <td>...</td>\n",
       "      <td>0.942664</td>\n",
       "      <td>0.834896</td>\n",
       "      <td>0.714768</td>\n",
       "      <td>0.696397</td>\n",
       "      <td>0.704323</td>\n",
       "      <td>0.722436</td>\n",
       "      <td>0.631642</td>\n",
       "      <td>0.662720</td>\n",
       "      <td>0.450984</td>\n",
       "      <td>0.655627</td>\n",
       "      <td>0.654875</td>\n",
       "      <td>0.669143</td>\n",
       "      <td>0.635770</td>\n",
       "      <td>0.732177</td>\n",
       "      <td>0.613154</td>\n",
       "      <td>0.442485</td>\n",
       "      <td>0.671512</td>\n",
       "      <td>0.483150</td>\n",
       "      <td>0.717037</td>\n",
       "      <td>0.734445</td>\n",
       "      <td>0.671672</td>\n",
       "      <td>0.683058</td>\n",
       "      <td>0.486585</td>\n",
       "      <td>0.474220</td>\n",
       "      <td>0.553184</td>\n",
       "      <td>0.303210</td>\n",
       "      <td>0.677115</td>\n",
       "      <td>0.605713</td>\n",
       "      <td>0.328178</td>\n",
       "      <td>0.709369</td>\n",
       "      <td>0.671071</td>\n",
       "      <td>0.439499</td>\n",
       "      <td>0.584001</td>\n",
       "      <td>0.692740</td>\n",
       "      <td>0.386784</td>\n",
       "      <td>1.000000</td>\n",
       "      <td>0.351163</td>\n",
       "      <td>0.537158</td>\n",
       "      <td>0.359778</td>\n",
       "      <td>0.353480</td>\n",
       "    </tr>\n",
       "    <tr>\n",
       "      <th>DNJNK118</th>\n",
       "      <td>-0.104306</td>\n",
       "      <td>0.481776</td>\n",
       "      <td>-0.117023</td>\n",
       "      <td>-0.009641</td>\n",
       "      <td>-0.199461</td>\n",
       "      <td>-0.039783</td>\n",
       "      <td>0.005747</td>\n",
       "      <td>-0.136881</td>\n",
       "      <td>-0.255698</td>\n",
       "      <td>-0.152726</td>\n",
       "      <td>-0.042792</td>\n",
       "      <td>-0.018811</td>\n",
       "      <td>0.018174</td>\n",
       "      <td>-0.125382</td>\n",
       "      <td>-0.216986</td>\n",
       "      <td>-0.148024</td>\n",
       "      <td>0.018390</td>\n",
       "      <td>0.064018</td>\n",
       "      <td>-0.251064</td>\n",
       "      <td>-0.162879</td>\n",
       "      <td>-0.216599</td>\n",
       "      <td>-0.283312</td>\n",
       "      <td>-0.302231</td>\n",
       "      <td>-0.198427</td>\n",
       "      <td>-0.276656</td>\n",
       "      <td>-0.184259</td>\n",
       "      <td>0.042644</td>\n",
       "      <td>-0.324066</td>\n",
       "      <td>-0.151593</td>\n",
       "      <td>-0.228037</td>\n",
       "      <td>-0.142572</td>\n",
       "      <td>-0.044362</td>\n",
       "      <td>-0.021354</td>\n",
       "      <td>-0.025033</td>\n",
       "      <td>0.027304</td>\n",
       "      <td>-0.085277</td>\n",
       "      <td>-0.001310</td>\n",
       "      <td>-0.183833</td>\n",
       "      <td>-0.221507</td>\n",
       "      <td>0.010729</td>\n",
       "      <td>...</td>\n",
       "      <td>0.335209</td>\n",
       "      <td>0.322132</td>\n",
       "      <td>0.647065</td>\n",
       "      <td>0.265248</td>\n",
       "      <td>0.554898</td>\n",
       "      <td>0.668423</td>\n",
       "      <td>0.592176</td>\n",
       "      <td>0.621244</td>\n",
       "      <td>0.794258</td>\n",
       "      <td>0.607840</td>\n",
       "      <td>0.585700</td>\n",
       "      <td>0.611503</td>\n",
       "      <td>0.556542</td>\n",
       "      <td>0.693891</td>\n",
       "      <td>0.607296</td>\n",
       "      <td>0.639340</td>\n",
       "      <td>0.637736</td>\n",
       "      <td>0.676489</td>\n",
       "      <td>0.650252</td>\n",
       "      <td>0.697179</td>\n",
       "      <td>0.621006</td>\n",
       "      <td>0.623786</td>\n",
       "      <td>0.460937</td>\n",
       "      <td>0.821940</td>\n",
       "      <td>0.535831</td>\n",
       "      <td>0.853285</td>\n",
       "      <td>0.590499</td>\n",
       "      <td>0.515140</td>\n",
       "      <td>0.886620</td>\n",
       "      <td>0.693490</td>\n",
       "      <td>0.509820</td>\n",
       "      <td>0.577150</td>\n",
       "      <td>0.568085</td>\n",
       "      <td>0.655503</td>\n",
       "      <td>0.222574</td>\n",
       "      <td>0.351163</td>\n",
       "      <td>1.000000</td>\n",
       "      <td>0.506193</td>\n",
       "      <td>0.577691</td>\n",
       "      <td>0.413025</td>\n",
       "    </tr>\n",
       "    <tr>\n",
       "      <th>LSBRC27</th>\n",
       "      <td>-0.116043</td>\n",
       "      <td>-0.120345</td>\n",
       "      <td>-0.144279</td>\n",
       "      <td>-0.166765</td>\n",
       "      <td>-0.155034</td>\n",
       "      <td>-0.217597</td>\n",
       "      <td>-0.088233</td>\n",
       "      <td>-0.149950</td>\n",
       "      <td>-0.271073</td>\n",
       "      <td>-0.199886</td>\n",
       "      <td>-0.162710</td>\n",
       "      <td>-0.063008</td>\n",
       "      <td>-0.047514</td>\n",
       "      <td>-0.204060</td>\n",
       "      <td>-0.252584</td>\n",
       "      <td>-0.203383</td>\n",
       "      <td>-0.135205</td>\n",
       "      <td>-0.075461</td>\n",
       "      <td>-0.211061</td>\n",
       "      <td>-0.191710</td>\n",
       "      <td>-0.260528</td>\n",
       "      <td>-0.303856</td>\n",
       "      <td>-0.282155</td>\n",
       "      <td>-0.184916</td>\n",
       "      <td>-0.255626</td>\n",
       "      <td>-0.278201</td>\n",
       "      <td>-0.084761</td>\n",
       "      <td>-0.287780</td>\n",
       "      <td>-0.177261</td>\n",
       "      <td>-0.258381</td>\n",
       "      <td>-0.122564</td>\n",
       "      <td>-0.174071</td>\n",
       "      <td>-0.142092</td>\n",
       "      <td>-0.151441</td>\n",
       "      <td>-0.098299</td>\n",
       "      <td>-0.090809</td>\n",
       "      <td>-0.104413</td>\n",
       "      <td>-0.154449</td>\n",
       "      <td>-0.243191</td>\n",
       "      <td>-0.052603</td>\n",
       "      <td>...</td>\n",
       "      <td>0.547369</td>\n",
       "      <td>0.729084</td>\n",
       "      <td>0.314856</td>\n",
       "      <td>0.407605</td>\n",
       "      <td>0.747674</td>\n",
       "      <td>0.327606</td>\n",
       "      <td>0.317542</td>\n",
       "      <td>0.288325</td>\n",
       "      <td>0.390098</td>\n",
       "      <td>0.303469</td>\n",
       "      <td>0.287641</td>\n",
       "      <td>0.297437</td>\n",
       "      <td>0.291099</td>\n",
       "      <td>0.343360</td>\n",
       "      <td>0.607124</td>\n",
       "      <td>0.648659</td>\n",
       "      <td>0.332179</td>\n",
       "      <td>0.649920</td>\n",
       "      <td>0.320273</td>\n",
       "      <td>0.344625</td>\n",
       "      <td>0.298158</td>\n",
       "      <td>0.310289</td>\n",
       "      <td>0.910896</td>\n",
       "      <td>0.403619</td>\n",
       "      <td>0.246869</td>\n",
       "      <td>0.664647</td>\n",
       "      <td>0.739512</td>\n",
       "      <td>0.869635</td>\n",
       "      <td>0.678692</td>\n",
       "      <td>0.317876</td>\n",
       "      <td>0.684062</td>\n",
       "      <td>0.765120</td>\n",
       "      <td>0.427062</td>\n",
       "      <td>0.298844</td>\n",
       "      <td>0.516989</td>\n",
       "      <td>0.537158</td>\n",
       "      <td>0.506193</td>\n",
       "      <td>1.000000</td>\n",
       "      <td>0.821487</td>\n",
       "      <td>0.398456</td>\n",
       "    </tr>\n",
       "    <tr>\n",
       "      <th>LSPE28</th>\n",
       "      <td>-0.122796</td>\n",
       "      <td>-0.143161</td>\n",
       "      <td>-0.167284</td>\n",
       "      <td>-0.216264</td>\n",
       "      <td>-0.197817</td>\n",
       "      <td>-0.164398</td>\n",
       "      <td>-0.097735</td>\n",
       "      <td>-0.200163</td>\n",
       "      <td>-0.278259</td>\n",
       "      <td>-0.232238</td>\n",
       "      <td>-0.193718</td>\n",
       "      <td>-0.081483</td>\n",
       "      <td>-0.051444</td>\n",
       "      <td>-0.273007</td>\n",
       "      <td>-0.117191</td>\n",
       "      <td>-0.156729</td>\n",
       "      <td>-0.162520</td>\n",
       "      <td>-0.120405</td>\n",
       "      <td>-0.271954</td>\n",
       "      <td>-0.237289</td>\n",
       "      <td>-0.265495</td>\n",
       "      <td>-0.364679</td>\n",
       "      <td>-0.346506</td>\n",
       "      <td>-0.245149</td>\n",
       "      <td>-0.333142</td>\n",
       "      <td>-0.248752</td>\n",
       "      <td>-0.070073</td>\n",
       "      <td>-0.362979</td>\n",
       "      <td>-0.122075</td>\n",
       "      <td>-0.295343</td>\n",
       "      <td>-0.137080</td>\n",
       "      <td>-0.208651</td>\n",
       "      <td>-0.194140</td>\n",
       "      <td>-0.216493</td>\n",
       "      <td>-0.163190</td>\n",
       "      <td>-0.092937</td>\n",
       "      <td>-0.160243</td>\n",
       "      <td>-0.175914</td>\n",
       "      <td>-0.234546</td>\n",
       "      <td>-0.044023</td>\n",
       "      <td>...</td>\n",
       "      <td>0.371303</td>\n",
       "      <td>0.573010</td>\n",
       "      <td>0.317045</td>\n",
       "      <td>0.261513</td>\n",
       "      <td>0.536573</td>\n",
       "      <td>0.322462</td>\n",
       "      <td>0.366258</td>\n",
       "      <td>0.316758</td>\n",
       "      <td>0.399020</td>\n",
       "      <td>0.301573</td>\n",
       "      <td>0.313677</td>\n",
       "      <td>0.301257</td>\n",
       "      <td>0.295534</td>\n",
       "      <td>0.342155</td>\n",
       "      <td>0.652994</td>\n",
       "      <td>0.803426</td>\n",
       "      <td>0.336604</td>\n",
       "      <td>0.802698</td>\n",
       "      <td>0.322908</td>\n",
       "      <td>0.346563</td>\n",
       "      <td>0.304853</td>\n",
       "      <td>0.314493</td>\n",
       "      <td>0.836305</td>\n",
       "      <td>0.405017</td>\n",
       "      <td>0.266703</td>\n",
       "      <td>0.764549</td>\n",
       "      <td>0.571511</td>\n",
       "      <td>0.752531</td>\n",
       "      <td>0.718394</td>\n",
       "      <td>0.362267</td>\n",
       "      <td>0.471349</td>\n",
       "      <td>0.925676</td>\n",
       "      <td>0.469876</td>\n",
       "      <td>0.329886</td>\n",
       "      <td>0.399525</td>\n",
       "      <td>0.359778</td>\n",
       "      <td>0.577691</td>\n",
       "      <td>0.821487</td>\n",
       "      <td>1.000000</td>\n",
       "      <td>0.466499</td>\n",
       "    </tr>\n",
       "    <tr>\n",
       "      <th>KSNK65</th>\n",
       "      <td>-0.146167</td>\n",
       "      <td>-0.044809</td>\n",
       "      <td>-0.205080</td>\n",
       "      <td>-0.056775</td>\n",
       "      <td>-0.240092</td>\n",
       "      <td>-0.112797</td>\n",
       "      <td>-0.070257</td>\n",
       "      <td>-0.085485</td>\n",
       "      <td>-0.276314</td>\n",
       "      <td>-0.116951</td>\n",
       "      <td>-0.135734</td>\n",
       "      <td>-0.140488</td>\n",
       "      <td>-0.050884</td>\n",
       "      <td>-0.080864</td>\n",
       "      <td>-0.136431</td>\n",
       "      <td>-0.259457</td>\n",
       "      <td>-0.052538</td>\n",
       "      <td>-0.056380</td>\n",
       "      <td>-0.232919</td>\n",
       "      <td>-0.107455</td>\n",
       "      <td>-0.118493</td>\n",
       "      <td>-0.265140</td>\n",
       "      <td>-0.264588</td>\n",
       "      <td>-0.153697</td>\n",
       "      <td>-0.249171</td>\n",
       "      <td>-0.129890</td>\n",
       "      <td>-0.046507</td>\n",
       "      <td>-0.260579</td>\n",
       "      <td>-0.236790</td>\n",
       "      <td>-0.240404</td>\n",
       "      <td>-0.136870</td>\n",
       "      <td>-0.108311</td>\n",
       "      <td>-0.010596</td>\n",
       "      <td>-0.005287</td>\n",
       "      <td>0.000651</td>\n",
       "      <td>-0.084248</td>\n",
       "      <td>-0.069139</td>\n",
       "      <td>-0.207209</td>\n",
       "      <td>-0.170444</td>\n",
       "      <td>-0.109024</td>\n",
       "      <td>...</td>\n",
       "      <td>0.377389</td>\n",
       "      <td>0.322349</td>\n",
       "      <td>0.327006</td>\n",
       "      <td>0.273114</td>\n",
       "      <td>0.482604</td>\n",
       "      <td>0.329621</td>\n",
       "      <td>0.364783</td>\n",
       "      <td>0.306256</td>\n",
       "      <td>0.399114</td>\n",
       "      <td>0.299984</td>\n",
       "      <td>0.317053</td>\n",
       "      <td>0.309344</td>\n",
       "      <td>0.331105</td>\n",
       "      <td>0.343582</td>\n",
       "      <td>0.515392</td>\n",
       "      <td>0.557915</td>\n",
       "      <td>0.328970</td>\n",
       "      <td>0.587736</td>\n",
       "      <td>0.332316</td>\n",
       "      <td>0.352402</td>\n",
       "      <td>0.313306</td>\n",
       "      <td>0.339274</td>\n",
       "      <td>0.417142</td>\n",
       "      <td>0.409469</td>\n",
       "      <td>0.228691</td>\n",
       "      <td>0.405128</td>\n",
       "      <td>0.453103</td>\n",
       "      <td>0.390425</td>\n",
       "      <td>0.375924</td>\n",
       "      <td>0.325888</td>\n",
       "      <td>0.550191</td>\n",
       "      <td>0.456167</td>\n",
       "      <td>0.255039</td>\n",
       "      <td>0.315932</td>\n",
       "      <td>0.297195</td>\n",
       "      <td>0.353480</td>\n",
       "      <td>0.413025</td>\n",
       "      <td>0.398456</td>\n",
       "      <td>0.466499</td>\n",
       "      <td>1.000000</td>\n",
       "    </tr>\n",
       "  </tbody>\n",
       "</table>\n",
       "<p>16751 rows × 16751 columns</p>\n",
       "</div>"
      ],
      "text/plain": [
       "             FLN35     RMB77     KPL81  ...   LSBRC27    LSPE28    KSNK65\n",
       "FLN35     1.000000 -0.022734  0.458811  ... -0.116043 -0.122796 -0.146167\n",
       "RMB77    -0.022734  1.000000  0.033126  ... -0.120345 -0.143161 -0.044809\n",
       "KPL81     0.458811  0.033126  1.000000  ... -0.144279 -0.167284 -0.205080\n",
       "STS90     0.023956  0.318313  0.107864  ... -0.166765 -0.216264 -0.056775\n",
       "PR125     0.242898  0.052850  0.541723  ... -0.155034 -0.197817 -0.240092\n",
       "...            ...       ...       ...  ...       ...       ...       ...\n",
       "KDSPE87  -0.150536 -0.000486 -0.202253  ...  0.537158  0.359778  0.353480\n",
       "DNJNK118 -0.104306  0.481776 -0.117023  ...  0.506193  0.577691  0.413025\n",
       "LSBRC27  -0.116043 -0.120345 -0.144279  ...  1.000000  0.821487  0.398456\n",
       "LSPE28   -0.122796 -0.143161 -0.167284  ...  0.821487  1.000000  0.466499\n",
       "KSNK65   -0.146167 -0.044809 -0.205080  ...  0.398456  0.466499  1.000000\n",
       "\n",
       "[16751 rows x 16751 columns]"
      ]
     },
     "execution_count": 26,
     "metadata": {
      "tags": []
     },
     "output_type": "execute_result"
    }
   ],
   "source": [
    "# Calculate cosine similarity among products\n",
    "cs = cosine_similarity(products_SVD)\n",
    "cs_matrix = pd.DataFrame(cs)\n",
    "cs_matrix.index = p_data_content_std.index\n",
    "cs_matrix.columns = p_data_content_std.index\n",
    "cs_matrix"
   ]
  },
  {
   "cell_type": "code",
   "execution_count": 0,
   "metadata": {
    "colab": {},
    "colab_type": "code",
    "id": "_-aIPX88CWBj"
   },
   "outputs": [],
   "source": [
    "# # Save to pickle\n",
    "# with open('cs_matrix_content.pkl', 'wb') as f:\n",
    "#     pickle.dump(cs_matrix, f)\n",
    "\n",
    "# # save to drive\n",
    "# link = 'https://drive.google.com/open?id=11mLhhzlzjCeArB4oE0F957IgaxHdG5et'\n",
    "# _, id = link.split(\"=\")\n",
    "\n",
    "# # get the folder id where you want to save your file\n",
    "# file = drive.CreateFile({'parents':[{u'id': id}]})\n",
    "# file.SetContentFile('cs_matrix_content.pkl')\n",
    "# file.Upload() "
   ]
  },
  {
   "cell_type": "code",
   "execution_count": 2,
   "metadata": {
    "colab": {},
    "colab_type": "code",
    "id": "BVu3tWCICk0s"
   },
   "outputs": [],
   "source": [
    "# Load from pickle\n",
    "cs_matrix_file = './Data/cs_matrix_content.pkl'\n",
    "with open(cs_matrix_file, 'rb') as f:\n",
    "  cs_matrix = pickle.load(f)"
   ]
  },
  {
   "cell_type": "markdown",
   "metadata": {
    "colab_type": "text",
    "id": "eAmcFkr8iWd9"
   },
   "source": [
    "### Top Similar Products"
   ]
  },
  {
   "cell_type": "code",
   "execution_count": 3,
   "metadata": {
    "colab": {},
    "colab_type": "code",
    "id": "nKcHqU1xjF7K"
   },
   "outputs": [],
   "source": [
    "def create_url(designer, display_name):\n",
    "  link = 'https://www.renttherunway.com/shop/designers/' + \\\n",
    "          re.sub(r'[^a-zA-Z0-9_]', '', designer.replace(' ', '_')).lower() + \\\n",
    "          '/' + \\\n",
    "          re.sub(r'[^a-zA-Z0-9_]', '', display_name.replace(' ', '_')).lower()\n",
    "  return link"
   ]
  },
  {
   "cell_type": "code",
   "execution_count": 4,
   "metadata": {
    "colab": {
     "base_uri": "https://localhost:8080/",
     "height": 153
    },
    "colab_type": "code",
    "executionInfo": {
     "elapsed": 180,
     "status": "ok",
     "timestamp": 1575310001072,
     "user": {
      "displayName": "Skand Upmanyu",
      "photoUrl": "https://lh3.googleusercontent.com/a-/AAuE7mDucdWRvThRuOGGMpf4XuCLzSwgNJW97EO8v5sS=s64",
      "userId": "14474330947256204580"
     },
     "user_tz": 300
    },
    "id": "x4XbGu2UjtLU",
    "outputId": "1e285f67-2412-4ca8-c3de-1a8899987a36"
   },
   "outputs": [
    {
     "data": {
      "text/plain": [
       "Index(['SAL31', 'BM562', 'FP164', 'WVG43', 'KRI21', 'DVF153', 'VIN85',\n",
       "       'MISA17', 'NM394', 'BM591', 'SLR105', 'JS175', 'UF15', 'BM619', 'TFL49',\n",
       "       'BODN13', 'CMO47', 'ML322', 'TNT26', 'KS180', 'NTC3', 'UF23', 'UF14',\n",
       "       'FZ9', 'UJ11', 'UF25', 'KP105', 'MKP25', 'JSK52', 'SLN39', 'JG43',\n",
       "       'SW558', 'TNT112', 'WVG132', 'TFL4', 'TLY7', 'KS253', 'PH69', 'SW612',\n",
       "       'HB101', 'FTW58', 'ML216', 'SAL93', 'CUP44', 'STS88', 'NIS4', 'BSH44',\n",
       "       'MN198', 'CD46', 'DJ91'],\n",
       "      dtype='object')"
      ]
     },
     "execution_count": 4,
     "metadata": {},
     "output_type": "execute_result"
    }
   ],
   "source": [
    "cs_matrix.columns[50:100]"
   ]
  },
  {
   "cell_type": "code",
   "execution_count": null,
   "metadata": {
    "colab": {
     "base_uri": "https://localhost:8080/",
     "height": 399
    },
    "colab_type": "code",
    "executionInfo": {
     "elapsed": 2351,
     "status": "ok",
     "timestamp": 1575312541200,
     "user": {
      "displayName": "Skand Upmanyu",
      "photoUrl": "https://lh3.googleusercontent.com/a-/AAuE7mDucdWRvThRuOGGMpf4XuCLzSwgNJW97EO8v5sS=s64",
      "userId": "14474330947256204580"
     },
     "user_tz": 300
    },
    "id": "0jZ7yeNIf6iw",
    "outputId": "f0662fe4-2f4f-4022-e8d5-b656feff67dd"
   },
   "outputs": [],
   "source": [
    "# Get top 5 similar products for a given product\n",
    "item_id = 'KSAHNB183'\n",
    "n_products = 5\n",
    "top_5 = cs_matrix[[item_id]].sort_values(ascending = False, by = item_id)[0:n_products+1]\n",
    "top_5_links = top_5.join(p_data[['product_img_link', 'displayName', 'designer_name']])\n",
    "\n",
    "fig, axs = plt.subplots(1, n_products+2, figsize=(20, 6))\n",
    "i = 0\n",
    "for id_, cosine, link, display_name, designer in zip(top_5_links.index, \\\n",
    "                                           top_5_links[item_id].values , \\\n",
    "                                           top_5_links['product_img_link'].values, \\\n",
    "                                           top_5_links['displayName'].values,\n",
    "                                           top_5_links['designer_name'].values\n",
    "                                           ):\n",
    "  product_link = create_url(designer, display_name)\n",
    "\n",
    "  if type(link) == str:\n",
    "    response = requests.get(link)\n",
    "    img = Image.open(BytesIO(response.content))\n",
    "    axs[i].imshow(np.asarray(img))\n",
    "    if i == 0:\n",
    "      axs[i].set_title('Given Product: ' + id_ + '\\n' + display_name)\n",
    "      # axs[i].axis('off')\n",
    "      print('Given product:', product_link)\n",
    "      i+=1\n",
    "      link = 'https://making-the-web.com/sites/default/files/clipart/129282/arrow-right-129282-3496286.jpg'\n",
    "      response = requests.get(link)\n",
    "      img = Image.open(BytesIO(response.content))\n",
    "      axs[i].imshow(np.asarray(img))\n",
    "      axs[i].axis('off')\n",
    "\n",
    "    else:\n",
    "      axs[i].set_title('Recommended' + '_' + str(i-1) + ': ' + id_ + '\\n' + display_name) \n",
    "      axs[i].set_xlabel('Cosine similarity: ' + str(round(cosine,2)))\n",
    "      # axs[i].axis('off')\n",
    "      print('Recommended' + '_' + str(i-1) + ':', product_link)\n",
    "  else:\n",
    "    link = 'https://www.wildhareboca.com/wp-content/uploads/sites/310/2018/03/image-not-available-200x300.jpg'\n",
    "    response = requests.get(link)\n",
    "    img = Image.open(BytesIO(response.content))\n",
    "    axs[i].imshow(np.asarray(img))\n",
    "    axs[i].set_title(id_)\n",
    "    # axs[i].axis('off')\n",
    "  i+=1\n",
    "plt.show()"
   ]
  },
  {
   "cell_type": "code",
   "execution_count": 0,
   "metadata": {
    "colab": {},
    "colab_type": "code",
    "id": "MtNBtjyymJVq"
   },
   "outputs": [],
   "source": []
  }
 ],
 "metadata": {
  "colab": {
   "collapsed_sections": [
    "6JrN8cLugaKy",
    "OAFp-jzQB5Xi",
    "rfIlXHLqwI_I",
    "lDq6V0VN3Zh4"
   ],
   "machine_shape": "hm",
   "name": "CONTENT_24_11_2019.ipynb",
   "provenance": []
  },
  "kernelspec": {
   "display_name": "Python 3",
   "language": "python",
   "name": "python3"
  },
  "language_info": {
   "codemirror_mode": {
    "name": "ipython",
    "version": 3
   },
   "file_extension": ".py",
   "mimetype": "text/x-python",
   "name": "python",
   "nbconvert_exporter": "python",
   "pygments_lexer": "ipython3",
   "version": "3.7.4"
  }
 },
 "nbformat": 4,
 "nbformat_minor": 1
}
