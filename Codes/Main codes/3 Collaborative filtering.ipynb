{
 "cells": [
  {
   "cell_type": "markdown",
   "metadata": {
    "colab_type": "text",
    "id": "CykWanTLqGGi"
   },
   "source": [
    "# Setup - This notebook runs on google colab"
   ]
  },
  {
   "cell_type": "code",
   "execution_count": null,
   "metadata": {
    "colab": {},
    "colab_type": "code",
    "id": "5pN8sC88p_2r"
   },
   "outputs": [],
   "source": [
    "from pydrive.auth import GoogleAuth\n",
    "from pydrive.drive import GoogleDrive\n",
    "from google.colab import auth\n",
    "from oauth2client.client import GoogleCredentials\n",
    "# Authenticate and create the PyDrive client.\n",
    "auth.authenticate_user()\n",
    "gauth = GoogleAuth()\n",
    "gauth.credentials = GoogleCredentials.get_application_default()\n",
    "drive = GoogleDrive(gauth)\n",
    "\n",
    "import pickle\n",
    "import pandas as pd\n",
    "import numpy as np\n",
    "import matplotlib.pyplot as plt\n",
    "from matplotlib.pyplot import imshow\n",
    "from matplotlib.pyplot import figure\n",
    "from PIL import Image\n",
    "import requests\n",
    "from io import BytesIO\n",
    "import os\n",
    "from sklearn.decomposition import TruncatedSVD\n",
    "from sklearn.preprocessing import Normalizer\n",
    "from sklearn.pipeline import make_pipeline\n",
    "from sklearn.metrics.pairwise import cosine_similarity\n",
    "from sklearn.preprocessing import StandardScaler\n",
    "from scipy import sparse\n",
    "import re\n",
    "\n",
    "import warnings\n",
    "warnings.simplefilter(\"ignore\")"
   ]
  },
  {
   "cell_type": "markdown",
   "metadata": {
    "colab_type": "text",
    "id": "xY-vOeRXqM3n"
   },
   "source": [
    "# Getting data"
   ]
  },
  {
   "cell_type": "markdown",
   "metadata": {
    "colab_type": "text",
    "id": "2ZsRH04PqYCt"
   },
   "source": [
    "## Download the files from google drive to colab cloud"
   ]
  },
  {
   "cell_type": "code",
   "execution_count": 2,
   "metadata": {
    "colab": {
     "base_uri": "https://localhost:8080/",
     "height": 0
    },
    "colab_type": "code",
    "executionInfo": {
     "elapsed": 71185,
     "status": "ok",
     "timestamp": 1575335327887,
     "user": {
      "displayName": "Skand Upmanyu",
      "photoUrl": "https://lh3.googleusercontent.com/a-/AAuE7mDucdWRvThRuOGGMpf4XuCLzSwgNJW97EO8v5sS=s64",
      "userId": "14474330947256204580"
     },
     "user_tz": 300
    },
    "id": "rMQR3JPkqI_J",
    "outputId": "9e13c20d-f5e9-4d14-ba75-ddf6357f4fce"
   },
   "outputs": [
    {
     "name": "stdout",
     "output_type": "stream",
     "text": [
      "title: cs_matrix_collaborative.pkl, id: 1UdyxoRIlAO4XfkA8XXeq-QXPMirgJdac\n",
      "downloading to /root/data/pickle/cs_matrix_collaborative.pkl\n",
      "title: cs_matrix_content.pkl, id: 1TJ8RQtr4hwXuIPSt-nQhzhibkMw0v_qg\n",
      "downloading to /root/data/pickle/cs_matrix_content.pkl\n",
      "title: mat.pkl, id: 1FkD0eLhFfVJahz_xVDKCYa5UNO0eTsv4\n",
      "downloading to /root/data/pickle/mat.pkl\n",
      "title: reviews_processed.pkl, id: 1INZrQArrHolzKwv4TYw6Hsfvj-5c9BPr\n",
      "downloading to /root/data/pickle/reviews_processed.pkl\n",
      "title: products_processed.pkl, id: 1kQqYMQoM4ouh6HAY5OwSMLo5M4F6tw7q\n",
      "downloading to /root/data/pickle/products_processed.pkl\n",
      "title: id_link.pkl, id: 1fDN_D2b7NA6-rk1dLH5zlwaqfo0OS27d\n",
      "downloading to /root/data/pickle/id_link.pkl\n",
      "title: all_review_data_list.pkl, id: 1xoD2dCAghDOVq6z97UAhpl_lC_-aPqph\n",
      "downloading to /root/data/pickle/all_review_data_list.pkl\n",
      "title: all_product_data_list.pkl, id: 1g_fXH7Dx348OL06Yc3z0j_VbVHdcRzqz\n",
      "downloading to /root/data/pickle/all_product_data_list.pkl\n"
     ]
    }
   ],
   "source": [
    "# choose a local (colab) directory to store the data.\n",
    "local_download_path = os.path.expanduser('~/data/pickle/')\n",
    "try:\n",
    "  os.makedirs(local_download_path)\n",
    "except: pass\n",
    "\n",
    "# 2. Auto-iterate using the query syntax\n",
    "#    https://developers.google.com/drive/v2/web/search-parameters\n",
    "file_list = drive.ListFile(\n",
    "    {'q': \"'11mLhhzlzjCeArB4oE0F957IgaxHdG5et' in parents\"}).GetList()\n",
    "\n",
    "for f in file_list:\n",
    "  # 3. Create & download by id.\n",
    "  print('title: %s, id: %s' % (f['title'], f['id']))\n",
    "  fname = os.path.join(local_download_path, f['title'])\n",
    "  print('downloading to {}'.format(fname))\n",
    "  f_ = drive.CreateFile({'id': f['id']})\n",
    "  f_.GetContentFile(fname)"
   ]
  },
  {
   "cell_type": "markdown",
   "metadata": {
    "colab_type": "text",
    "id": "vvYhyLV9qcZZ"
   },
   "source": [
    "## Reading from colab into the notebook"
   ]
  },
  {
   "cell_type": "code",
   "execution_count": null,
   "metadata": {
    "colab": {},
    "colab_type": "code",
    "id": "J8fB_xYgqdOQ"
   },
   "outputs": [],
   "source": [
    "# retrieve data from pickle files\n",
    "pkl_product_file = '/root/data/pickle/products_processed.pkl'\n",
    "pkl_review_file = '/root/data/pickle/reviews_processed.pkl'\n",
    "\n",
    "# product_data_list\n",
    "with open(pkl_product_file, 'rb') as f:\n",
    "  all_product_data_list = pickle.load(f)\n",
    "  \n",
    "# product_review_list\n",
    "with open(pkl_review_file, 'rb') as f:\n",
    "  all_review_data_list = pickle.load(f)"
   ]
  },
  {
   "cell_type": "markdown",
   "metadata": {
    "colab_type": "text",
    "id": "Vzka8ec0qldr"
   },
   "source": [
    "# Data preprocessing"
   ]
  },
  {
   "cell_type": "markdown",
   "metadata": {
    "colab_type": "text",
    "id": "UkZ55cOnqq1M"
   },
   "source": [
    "## Reset here"
   ]
  },
  {
   "cell_type": "code",
   "execution_count": 0,
   "metadata": {
    "colab": {},
    "colab_type": "code",
    "id": "p7Iib0LBqmOe"
   },
   "outputs": [],
   "source": [
    "# Code for resetting data\n",
    "review_data = all_review_data_list.copy()"
   ]
  },
  {
   "cell_type": "markdown",
   "metadata": {
    "colab_type": "text",
    "id": "WJrQyqM4tpdz"
   },
   "source": [
    "## Drop redundant columns"
   ]
  },
  {
   "cell_type": "code",
   "execution_count": 0,
   "metadata": {
    "colab": {},
    "colab_type": "code",
    "id": "VmNBxxA_tpBE"
   },
   "outputs": [],
   "source": [
    "# dropping reduntant columns\n",
    "review_data = review_data.drop(columns= ['birthday','height','standardSize','weight', 'reviewId'])"
   ]
  },
  {
   "cell_type": "code",
   "execution_count": 6,
   "metadata": {
    "colab": {
     "base_uri": "https://localhost:8080/",
     "height": 0
    },
    "colab_type": "code",
    "executionInfo": {
     "elapsed": 70336,
     "status": "ok",
     "timestamp": 1575335330197,
     "user": {
      "displayName": "Skand Upmanyu",
      "photoUrl": "https://lh3.googleusercontent.com/a-/AAuE7mDucdWRvThRuOGGMpf4XuCLzSwgNJW97EO8v5sS=s64",
      "userId": "14474330947256204580"
     },
     "user_tz": 300
    },
    "id": "Pty4rh2Aq51t",
    "outputId": "084a04dd-87c2-4bb6-9cca-50884c3b5095"
   },
   "outputs": [
    {
     "data": {
      "text/html": [
       "<div>\n",
       "<style scoped>\n",
       "    .dataframe tbody tr th:only-of-type {\n",
       "        vertical-align: middle;\n",
       "    }\n",
       "\n",
       "    .dataframe tbody tr th {\n",
       "        vertical-align: top;\n",
       "    }\n",
       "\n",
       "    .dataframe thead th {\n",
       "        text-align: right;\n",
       "    }\n",
       "</style>\n",
       "<table border=\"1\" class=\"dataframe\">\n",
       "  <thead>\n",
       "    <tr style=\"text-align: right;\">\n",
       "      <th></th>\n",
       "      <th>item_id</th>\n",
       "      <th>averageRating</th>\n",
       "      <th>countRatings</th>\n",
       "      <th>currentCount</th>\n",
       "      <th>user_id</th>\n",
       "      <th>age</th>\n",
       "      <th>bodyType</th>\n",
       "      <th>bustSize</th>\n",
       "      <th>numReviewsByUser</th>\n",
       "      <th>heightInches</th>\n",
       "      <th>joined</th>\n",
       "      <th>nickName</th>\n",
       "      <th>usStandardSize</th>\n",
       "      <th>weightPounds</th>\n",
       "      <th>caption</th>\n",
       "      <th>content</th>\n",
       "      <th>fit</th>\n",
       "      <th>rating</th>\n",
       "      <th>uploadedAt</th>\n",
       "      <th>product_img_link</th>\n",
       "    </tr>\n",
       "  </thead>\n",
       "  <tbody>\n",
       "    <tr>\n",
       "      <th>0</th>\n",
       "      <td>FLN35</td>\n",
       "      <td>8.0</td>\n",
       "      <td>10</td>\n",
       "      <td>10</td>\n",
       "      <td>16844044</td>\n",
       "      <td>24</td>\n",
       "      <td>Hourglass</td>\n",
       "      <td>32DDD/E</td>\n",
       "      <td>3</td>\n",
       "      <td>65</td>\n",
       "      <td>None</td>\n",
       "      <td>None</td>\n",
       "      <td>4</td>\n",
       "      <td>None</td>\n",
       "      <td>Super cute dress but wide neck can gape</td>\n",
       "      <td>This fit great in the waist but not so much an...</td>\n",
       "      <td>None</td>\n",
       "      <td>8</td>\n",
       "      <td>2019-11-15T18:50:02.000+00:00</td>\n",
       "      <td>https://pc-ap.rtrcdn.com/productimages/nomodel...</td>\n",
       "    </tr>\n",
       "    <tr>\n",
       "      <th>1</th>\n",
       "      <td>FLN35</td>\n",
       "      <td>8.0</td>\n",
       "      <td>10</td>\n",
       "      <td>10</td>\n",
       "      <td>17725300</td>\n",
       "      <td>29</td>\n",
       "      <td>Petite</td>\n",
       "      <td>34D</td>\n",
       "      <td>44</td>\n",
       "      <td>61</td>\n",
       "      <td>None</td>\n",
       "      <td>Lucie</td>\n",
       "      <td>4</td>\n",
       "      <td>125</td>\n",
       "      <td>RTR TEAM REVIEW</td>\n",
       "      <td>This dress was so good I had to take the bathr...</td>\n",
       "      <td>None</td>\n",
       "      <td>10</td>\n",
       "      <td>2019-11-12T13:12:08.000+00:00</td>\n",
       "      <td>https://pc-ap.rtrcdn.com/productimages/nomodel...</td>\n",
       "    </tr>\n",
       "    <tr>\n",
       "      <th>2</th>\n",
       "      <td>FLN35</td>\n",
       "      <td>8.0</td>\n",
       "      <td>10</td>\n",
       "      <td>10</td>\n",
       "      <td>19431324</td>\n",
       "      <td>21</td>\n",
       "      <td>Hourglass</td>\n",
       "      <td>34DDD/E</td>\n",
       "      <td>4</td>\n",
       "      <td>66</td>\n",
       "      <td>2019-10-02T18:26:21.000+00:00</td>\n",
       "      <td>Courtney</td>\n",
       "      <td>6</td>\n",
       "      <td>155</td>\n",
       "      <td>Soooooo cute</td>\n",
       "      <td>Loved it, definitely mini length. It was tight...</td>\n",
       "      <td>None</td>\n",
       "      <td>10</td>\n",
       "      <td>2019-11-12T00:59:48.000+00:00</td>\n",
       "      <td>https://pc-ap.rtrcdn.com/productimages/nomodel...</td>\n",
       "    </tr>\n",
       "    <tr>\n",
       "      <th>3</th>\n",
       "      <td>FLN35</td>\n",
       "      <td>8.0</td>\n",
       "      <td>10</td>\n",
       "      <td>10</td>\n",
       "      <td>10992590</td>\n",
       "      <td>30</td>\n",
       "      <td>Hourglass</td>\n",
       "      <td>32DDD/E</td>\n",
       "      <td>9</td>\n",
       "      <td>67</td>\n",
       "      <td>None</td>\n",
       "      <td>Alyssa</td>\n",
       "      <td>6</td>\n",
       "      <td>150</td>\n",
       "      <td>Cute dress, too short.</td>\n",
       "      <td>The fit of this dress was great, but the lengt...</td>\n",
       "      <td>None</td>\n",
       "      <td>6</td>\n",
       "      <td>2019-10-28T01:31:08.000+00:00</td>\n",
       "      <td>https://pc-ap.rtrcdn.com/productimages/nomodel...</td>\n",
       "    </tr>\n",
       "    <tr>\n",
       "      <th>4</th>\n",
       "      <td>FLN35</td>\n",
       "      <td>8.0</td>\n",
       "      <td>10</td>\n",
       "      <td>10</td>\n",
       "      <td>12064814</td>\n",
       "      <td>40</td>\n",
       "      <td>Hourglass</td>\n",
       "      <td>36B</td>\n",
       "      <td>10</td>\n",
       "      <td>65</td>\n",
       "      <td>2016-07-27T05:06:28.000+00:00</td>\n",
       "      <td>Mayra</td>\n",
       "      <td>10</td>\n",
       "      <td>164</td>\n",
       "      <td>Sexy but classy</td>\n",
       "      <td>I really felt sexy in this dress but with a to...</td>\n",
       "      <td>None</td>\n",
       "      <td>8</td>\n",
       "      <td>2019-10-22T06:38:46.000+00:00</td>\n",
       "      <td>https://pc-ap.rtrcdn.com/productimages/nomodel...</td>\n",
       "    </tr>\n",
       "  </tbody>\n",
       "</table>\n",
       "</div>"
      ],
      "text/plain": [
       "  item_id  ...                                   product_img_link\n",
       "0   FLN35  ...  https://pc-ap.rtrcdn.com/productimages/nomodel...\n",
       "1   FLN35  ...  https://pc-ap.rtrcdn.com/productimages/nomodel...\n",
       "2   FLN35  ...  https://pc-ap.rtrcdn.com/productimages/nomodel...\n",
       "3   FLN35  ...  https://pc-ap.rtrcdn.com/productimages/nomodel...\n",
       "4   FLN35  ...  https://pc-ap.rtrcdn.com/productimages/nomodel...\n",
       "\n",
       "[5 rows x 20 columns]"
      ]
     },
     "execution_count": 6,
     "metadata": {
      "tags": []
     },
     "output_type": "execute_result"
    }
   ],
   "source": [
    "review_data.head()"
   ]
  },
  {
   "cell_type": "markdown",
   "metadata": {
    "colab_type": "text",
    "id": "Sd9_FIMtq_1c"
   },
   "source": [
    "## Fixing variable types"
   ]
  },
  {
   "cell_type": "markdown",
   "metadata": {
    "colab_type": "text",
    "id": "VCoFIaFNrFs_"
   },
   "source": [
    "### Numeric data"
   ]
  },
  {
   "cell_type": "code",
   "execution_count": 0,
   "metadata": {
    "colab": {},
    "colab_type": "code",
    "id": "TQyTsJ6DrRU1"
   },
   "outputs": [],
   "source": [
    "review_data = review_data.astype({'numReviewsByUser': 'int',\\\n",
    "                                  'rating': 'int', \\\n",
    "                                  'age': 'float', \\\n",
    "                                  'heightInches': 'float',\\\n",
    "                                  'weightPounds': 'float'})"
   ]
  },
  {
   "cell_type": "markdown",
   "metadata": {
    "colab_type": "text",
    "id": "jR8EGMwYu84d"
   },
   "source": [
    "### US Standard size"
   ]
  },
  {
   "cell_type": "code",
   "execution_count": 0,
   "metadata": {
    "colab": {},
    "colab_type": "code",
    "id": "FLcqxW-KuXPD"
   },
   "outputs": [],
   "source": [
    "numeric_sizes = ['0', '2', '4', '6', '8', '10', '12', '14', '16', '18', '20', '22']\n",
    "                 \n",
    "size_numeric = review_data.loc[review_data['usStandardSize'].isin(numeric_sizes), :]\n",
    "size_24p = review_data.loc[review_data['usStandardSize'] == '24+', :]\n",
    "size_others = review_data.loc[ ((review_data['usStandardSize'].isin(numeric_sizes)) | (review_data['usStandardSize'] == '24+')) == False, :]\n",
    "\n",
    "size_others['usStandardSize'] = np.nan\n",
    "size_24p['usStandardSize'] = 24\n",
    "size_numeric = size_numeric.astype({'usStandardSize': 'float'})\n",
    "review_data = pd.concat([size_numeric, size_24p, size_others])"
   ]
  },
  {
   "cell_type": "markdown",
   "metadata": {
    "colab_type": "text",
    "id": "dlR37zrpsFKV"
   },
   "source": [
    "### Date Time "
   ]
  },
  {
   "cell_type": "code",
   "execution_count": 0,
   "metadata": {
    "colab": {},
    "colab_type": "code",
    "id": "EcKezuODsFQc"
   },
   "outputs": [],
   "source": [
    "review_data['joined'] = pd.to_datetime(review_data['joined'])\n",
    "review_data['uploadedAt'] = pd.to_datetime(review_data['uploadedAt'])"
   ]
  },
  {
   "cell_type": "markdown",
   "metadata": {
    "colab_type": "text",
    "id": "DVmILTzQsan2"
   },
   "source": [
    "### Bust data"
   ]
  },
  {
   "cell_type": "code",
   "execution_count": 0,
   "metadata": {
    "colab": {},
    "colab_type": "code",
    "id": "iHmQr9UAq6WQ"
   },
   "outputs": [],
   "source": [
    "# fixing bust_data column \n",
    "bust_data = review_data['bustSize'].str.extract('([^a-zA-Z]+)([a-zA-Z]+)', expand=True)\n",
    "bust_data.columns = ['bust_size', 'bust_type']\n",
    "review_data = review_data.join(bust_data)\n",
    "review_data = review_data.astype({'bust_size': 'float'})\n",
    "review_data = review_data.drop(columns=['bustSize'])"
   ]
  },
  {
   "cell_type": "markdown",
   "metadata": {
    "colab_type": "text",
    "id": "07HRwG8dxf4Z"
   },
   "source": [
    "## Missing value treatment"
   ]
  },
  {
   "cell_type": "code",
   "execution_count": 11,
   "metadata": {
    "colab": {
     "base_uri": "https://localhost:8080/",
     "height": 0
    },
    "colab_type": "code",
    "executionInfo": {
     "elapsed": 70590,
     "status": "ok",
     "timestamp": 1575335332724,
     "user": {
      "displayName": "Skand Upmanyu",
      "photoUrl": "https://lh3.googleusercontent.com/a-/AAuE7mDucdWRvThRuOGGMpf4XuCLzSwgNJW97EO8v5sS=s64",
      "userId": "14474330947256204580"
     },
     "user_tz": 300
    },
    "id": "k85y1dDOstE5",
    "outputId": "2171ab8a-27a7-4bca-cf16-768204296bba"
   },
   "outputs": [
    {
     "name": "stdout",
     "output_type": "stream",
     "text": [
      "item_id                  0\n",
      "averageRating            0\n",
      "countRatings             0\n",
      "currentCount             0\n",
      "user_id                  0\n",
      "age                  12259\n",
      "bodyType             51378\n",
      "numReviewsByUser         0\n",
      "heightInches         33927\n",
      "joined              228698\n",
      "nickName             77495\n",
      "usStandardSize        6637\n",
      "weightPounds         91751\n",
      "caption                 17\n",
      "content                  0\n",
      "fit                 209138\n",
      "rating                   0\n",
      "uploadedAt               0\n",
      "product_img_link       386\n",
      "bust_size            66278\n",
      "bust_type            66278\n",
      "dtype: int64\n"
     ]
    }
   ],
   "source": [
    "pd.set_option(\"display.max_rows\",None)\n",
    "print(review_data.isna().sum())\n",
    "pd.set_option(\"display.max_rows\",60)"
   ]
  },
  {
   "cell_type": "markdown",
   "metadata": {
    "colab_type": "text",
    "id": "pSr-wT88zS4M"
   },
   "source": [
    "### Numerical data"
   ]
  },
  {
   "cell_type": "code",
   "execution_count": 0,
   "metadata": {
    "colab": {},
    "colab_type": "code",
    "id": "IxpeUAwCxahk"
   },
   "outputs": [],
   "source": [
    "#Imptuting data with mean \n",
    "review_data.loc[review_data['age'].isna(), 'age'] = np.mean(review_data['age'])\n",
    "review_data.loc[review_data['heightInches'].isna(), 'heightInches'] = np.mean(review_data['heightInches'])\n",
    "review_data.loc[review_data['weightPounds'].isna(), 'weightPounds'] = np.mean(review_data['weightPounds'])"
   ]
  },
  {
   "cell_type": "markdown",
   "metadata": {
    "colab_type": "text",
    "id": "BJ_v4WdvzWvS"
   },
   "source": [
    "### Categorical data"
   ]
  },
  {
   "cell_type": "code",
   "execution_count": 0,
   "metadata": {
    "colab": {},
    "colab_type": "code",
    "id": "6WOA5g6bzXrw"
   },
   "outputs": [],
   "source": [
    "# Imputing data with mode\n",
    "review_data.loc[review_data['bodyType'].isna(), 'bodyType'] = review_data['bodyType'].value_counts().index[0]\n",
    "review_data.loc[review_data['bust_size'].isna(), 'bust_size'] = review_data['bust_size'].value_counts().index[0]\n",
    "review_data.loc[review_data['bust_type'].isna(), 'bust_type'] = review_data['bust_type'].value_counts().index[0]\n",
    "review_data.loc[review_data['usStandardSize'].isna(), 'usStandardSize'] = review_data['usStandardSize'].value_counts().index[0]"
   ]
  },
  {
   "cell_type": "markdown",
   "metadata": {
    "colab_type": "text",
    "id": "TUUvW0T50NF5"
   },
   "source": [
    "### Removing columns with more than 50% missing values"
   ]
  },
  {
   "cell_type": "code",
   "execution_count": 0,
   "metadata": {
    "colab": {},
    "colab_type": "code",
    "id": "N4ktYpMr0sh7"
   },
   "outputs": [],
   "source": [
    "review_data = review_data.drop(columns = 'joined')"
   ]
  },
  {
   "cell_type": "markdown",
   "metadata": {
    "colab_type": "text",
    "id": "Ac0sHoxb1wQR"
   },
   "source": [
    "### Final summary for missing values"
   ]
  },
  {
   "cell_type": "code",
   "execution_count": 15,
   "metadata": {
    "colab": {
     "base_uri": "https://localhost:8080/",
     "height": 0
    },
    "colab_type": "code",
    "executionInfo": {
     "elapsed": 69216,
     "status": "ok",
     "timestamp": 1575335333386,
     "user": {
      "displayName": "Skand Upmanyu",
      "photoUrl": "https://lh3.googleusercontent.com/a-/AAuE7mDucdWRvThRuOGGMpf4XuCLzSwgNJW97EO8v5sS=s64",
      "userId": "14474330947256204580"
     },
     "user_tz": 300
    },
    "id": "zX2lzESLzuIy",
    "outputId": "53604ec4-d96b-44e6-ea10-0445b9a80c5c"
   },
   "outputs": [
    {
     "name": "stdout",
     "output_type": "stream",
     "text": [
      "item_id                  0\n",
      "averageRating            0\n",
      "countRatings             0\n",
      "currentCount             0\n",
      "user_id                  0\n",
      "age                      0\n",
      "bodyType                 0\n",
      "numReviewsByUser         0\n",
      "heightInches             0\n",
      "nickName             77495\n",
      "usStandardSize           0\n",
      "weightPounds             0\n",
      "caption                 17\n",
      "content                  0\n",
      "fit                 209138\n",
      "rating                   0\n",
      "uploadedAt               0\n",
      "product_img_link       386\n",
      "bust_size                0\n",
      "bust_type                0\n",
      "dtype: int64\n"
     ]
    }
   ],
   "source": [
    "pd.set_option(\"display.max_rows\",None)\n",
    "print(review_data.isna().sum())\n",
    "pd.set_option(\"display.max_rows\",60)"
   ]
  },
  {
   "cell_type": "markdown",
   "metadata": {
    "colab_type": "text",
    "id": "wekSPKOY13Fv"
   },
   "source": [
    "## Dummy variables"
   ]
  },
  {
   "cell_type": "markdown",
   "metadata": {
    "colab_type": "text",
    "id": "bV7zTyY82FKZ"
   },
   "source": [
    "### bodyType"
   ]
  },
  {
   "cell_type": "code",
   "execution_count": 0,
   "metadata": {
    "colab": {},
    "colab_type": "code",
    "id": "DfiPDDbm18kh"
   },
   "outputs": [],
   "source": [
    "bodyType_dummies = pd.get_dummies(review_data['bodyType'], prefix='bodyType')\n",
    "review_data = review_data.join(bodyType_dummies)\n",
    "review_data = review_data.drop(columns = ['bodyType'])"
   ]
  },
  {
   "cell_type": "markdown",
   "metadata": {
    "colab_type": "text",
    "id": "KErD2Ify2hLu"
   },
   "source": [
    "### fit"
   ]
  },
  {
   "cell_type": "code",
   "execution_count": 0,
   "metadata": {
    "colab": {},
    "colab_type": "code",
    "id": "nlJAqN_v2TJE"
   },
   "outputs": [],
   "source": [
    "fit_dummies = pd.get_dummies(review_data['fit'], prefix='fit')\n",
    "review_data = review_data.join(fit_dummies)\n",
    "review_data = review_data.drop(columns = ['fit'])"
   ]
  },
  {
   "cell_type": "markdown",
   "metadata": {
    "colab_type": "text",
    "id": "OYJ10Ju92yNl"
   },
   "source": [
    "### bust_type"
   ]
  },
  {
   "cell_type": "code",
   "execution_count": 0,
   "metadata": {
    "colab": {},
    "colab_type": "code",
    "id": "hMTWhSZL2yWH"
   },
   "outputs": [],
   "source": [
    "bust_type_dummies = pd.get_dummies(review_data['bust_type'], prefix='bust_type')\n",
    "review_data = review_data.join(bust_type_dummies)\n",
    "review_data = review_data.drop(columns = ['bust_type'])"
   ]
  },
  {
   "cell_type": "markdown",
   "metadata": {
    "colab_type": "text",
    "id": "zhRIGT2m3X2A"
   },
   "source": [
    "# Data Exploration"
   ]
  },
  {
   "cell_type": "code",
   "execution_count": 19,
   "metadata": {
    "colab": {
     "base_uri": "https://localhost:8080/",
     "height": 0
    },
    "colab_type": "code",
    "executionInfo": {
     "elapsed": 67088,
     "status": "ok",
     "timestamp": 1575335334379,
     "user": {
      "displayName": "Skand Upmanyu",
      "photoUrl": "https://lh3.googleusercontent.com/a-/AAuE7mDucdWRvThRuOGGMpf4XuCLzSwgNJW97EO8v5sS=s64",
      "userId": "14474330947256204580"
     },
     "user_tz": 300
    },
    "id": "R3cznADS3Zkl",
    "outputId": "eb82827b-6a52-423f-a43a-5ed8af5da463"
   },
   "outputs": [
    {
     "name": "stdout",
     "output_type": "stream",
     "text": [
      "item_id                                    object\n",
      "averageRating                             float64\n",
      "countRatings                                int64\n",
      "currentCount                                int64\n",
      "user_id                                     int64\n",
      "age                                       float64\n",
      "numReviewsByUser                            int64\n",
      "heightInches                              float64\n",
      "nickName                                   object\n",
      "usStandardSize                            float64\n",
      "weightPounds                              float64\n",
      "caption                                    object\n",
      "content                                    object\n",
      "rating                                      int64\n",
      "uploadedAt                    datetime64[ns, UTC]\n",
      "product_img_link                           object\n",
      "bust_size                                 float64\n",
      "bodyType_Apple                              uint8\n",
      "bodyType_Athletic                           uint8\n",
      "bodyType_Full Bust                          uint8\n",
      "bodyType_Hourglass                          uint8\n",
      "bodyType_Pear                               uint8\n",
      "bodyType_Petite                             uint8\n",
      "bodyType_Straight & narrow                  uint8\n",
      "fit_Large                                   uint8\n",
      "fit_Small                                   uint8\n",
      "fit_True to Size                            uint8\n",
      "bust_type_A                                 uint8\n",
      "bust_type_AA                                uint8\n",
      "bust_type_B                                 uint8\n",
      "bust_type_C                                 uint8\n",
      "bust_type_D                                 uint8\n",
      "bust_type_DD                                uint8\n",
      "bust_type_DDD                               uint8\n",
      "bust_type_F                                 uint8\n",
      "bust_type_G                                 uint8\n",
      "bust_type_H                                 uint8\n",
      "bust_type_I                                 uint8\n",
      "bust_type_J                                 uint8\n",
      "dtype: object\n"
     ]
    }
   ],
   "source": [
    "# Columns and data types\n",
    "pd.set_option(\"display.max_rows\",None)\n",
    "print(review_data.dtypes)\n",
    "pd.set_option(\"display.max_rows\",60)"
   ]
  },
  {
   "cell_type": "code",
   "execution_count": 0,
   "metadata": {
    "colab": {
     "base_uri": "https://localhost:8080/",
     "height": 34
    },
    "colab_type": "code",
    "executionInfo": {
     "elapsed": 457,
     "status": "ok",
     "timestamp": 1575062868949,
     "user": {
      "displayName": "Skand Upmanyu",
      "photoUrl": "https://lh3.googleusercontent.com/a-/AAuE7mDucdWRvThRuOGGMpf4XuCLzSwgNJW97EO8v5sS=s64",
      "userId": "14474330947256204580"
     },
     "user_tz": 300
    },
    "id": "qTKVVzjx3gW6",
    "outputId": "5f5a0c06-f5c2-4936-d871-4058caa6c946"
   },
   "outputs": [
    {
     "name": "stdout",
     "output_type": "stream",
     "text": [
      "The dataset has  375480 products and  39 columns\n"
     ]
    }
   ],
   "source": [
    "# Rows and columns\n",
    "print('The dataset has ', review_data.shape[0], 'reviews and ' , review_data.shape[1], 'columns')"
   ]
  },
  {
   "cell_type": "code",
   "execution_count": 0,
   "metadata": {
    "colab": {
     "base_uri": "https://localhost:8080/",
     "height": 34
    },
    "colab_type": "code",
    "executionInfo": {
     "elapsed": 1718,
     "status": "ok",
     "timestamp": 1575062870852,
     "user": {
      "displayName": "Skand Upmanyu",
      "photoUrl": "https://lh3.googleusercontent.com/a-/AAuE7mDucdWRvThRuOGGMpf4XuCLzSwgNJW97EO8v5sS=s64",
      "userId": "14474330947256204580"
     },
     "user_tz": 300
    },
    "id": "UNsWIuJn3jgS",
    "outputId": "611a35d1-f8ed-4e3d-a7e0-968d1983062b"
   },
   "outputs": [
    {
     "name": "stdout",
     "output_type": "stream",
     "text": [
      "Total distinct users: 137879\n"
     ]
    }
   ],
   "source": [
    "# Unique users\n",
    "print('Total distinct users:', review_data['user_id'].nunique())"
   ]
  },
  {
   "cell_type": "code",
   "execution_count": 0,
   "metadata": {
    "colab": {
     "base_uri": "https://localhost:8080/",
     "height": 34
    },
    "colab_type": "code",
    "executionInfo": {
     "elapsed": 1053,
     "status": "ok",
     "timestamp": 1575062396539,
     "user": {
      "displayName": "Skand Upmanyu",
      "photoUrl": "https://lh3.googleusercontent.com/a-/AAuE7mDucdWRvThRuOGGMpf4XuCLzSwgNJW97EO8v5sS=s64",
      "userId": "14474330947256204580"
     },
     "user_tz": 300
    },
    "id": "vKbc1Cn14PMy",
    "outputId": "55c7a549-cd01-4680-f346-94e327b9056c"
   },
   "outputs": [
    {
     "name": "stdout",
     "output_type": "stream",
     "text": [
      "Total distinct products with reviews: 15611\n"
     ]
    }
   ],
   "source": [
    "# Unique products with reviews\n",
    "print('Total distinct products with reviews:', review_data['item_id'].nunique())"
   ]
  },
  {
   "cell_type": "code",
   "execution_count": 0,
   "metadata": {
    "colab": {
     "base_uri": "https://localhost:8080/",
     "height": 34
    },
    "colab_type": "code",
    "executionInfo": {
     "elapsed": 825,
     "status": "ok",
     "timestamp": 1575062396541,
     "user": {
      "displayName": "Skand Upmanyu",
      "photoUrl": "https://lh3.googleusercontent.com/a-/AAuE7mDucdWRvThRuOGGMpf4XuCLzSwgNJW97EO8v5sS=s64",
      "userId": "14474330947256204580"
     },
     "user_tz": 300
    },
    "id": "r6Pj9nMa3suA",
    "outputId": "1aabbf31-a81f-440b-9197-fa02a7af7b00"
   },
   "outputs": [
    {
     "name": "stdout",
     "output_type": "stream",
     "text": [
      "Review data from 2013-09-19 to 2019-11-23\n"
     ]
    }
   ],
   "source": [
    "# Duration of uploadedAt\n",
    "min_upload_date = review_data['uploadedAt'].min().date()\n",
    "max_upload_date = review_data['uploadedAt'].max().date()\n",
    "\n",
    "print('Review data from', min_upload_date, 'to', max_upload_date)"
   ]
  },
  {
   "cell_type": "code",
   "execution_count": 2,
   "metadata": {
    "colab": {
     "base_uri": "https://localhost:8080/",
     "height": 295
    },
    "colab_type": "code",
    "executionInfo": {
     "elapsed": 649,
     "status": "ok",
     "timestamp": 1575062396718,
     "user": {
      "displayName": "Skand Upmanyu",
      "photoUrl": "https://lh3.googleusercontent.com/a-/AAuE7mDucdWRvThRuOGGMpf4XuCLzSwgNJW97EO8v5sS=s64",
      "userId": "14474330947256204580"
     },
     "user_tz": 300
    },
    "id": "SCnfIT704ARS",
    "outputId": "ce4224dc-8ebd-4f3b-a2b3-569b049d41cd"
   },
   "outputs": [
    {
     "ename": "NameError",
     "evalue": "name 'review_data' is not defined",
     "output_type": "error",
     "traceback": [
      "\u001b[1;31m---------------------------------------------------------------------------\u001b[0m",
      "\u001b[1;31mNameError\u001b[0m                                 Traceback (most recent call last)",
      "\u001b[1;32m<ipython-input-2-928be1bf5f18>\u001b[0m in \u001b[0;36m<module>\u001b[1;34m\u001b[0m\n\u001b[0;32m      1\u001b[0m \u001b[1;31m# Year wise\u001b[0m\u001b[1;33m\u001b[0m\u001b[1;33m\u001b[0m\u001b[1;33m\u001b[0m\u001b[0m\n\u001b[1;32m----> 2\u001b[1;33m \u001b[0myear_data\u001b[0m \u001b[1;33m=\u001b[0m \u001b[0mreview_data\u001b[0m\u001b[1;33m.\u001b[0m\u001b[0mgroupby\u001b[0m\u001b[1;33m(\u001b[0m\u001b[0mreview_data\u001b[0m\u001b[1;33m[\u001b[0m\u001b[1;34m'uploadedAt'\u001b[0m\u001b[1;33m]\u001b[0m\u001b[1;33m.\u001b[0m\u001b[0mdt\u001b[0m\u001b[1;33m.\u001b[0m\u001b[0myear\u001b[0m\u001b[1;33m)\u001b[0m\u001b[1;33m.\u001b[0m\u001b[0msize\u001b[0m\u001b[1;33m(\u001b[0m\u001b[1;33m)\u001b[0m\u001b[1;33m\u001b[0m\u001b[1;33m\u001b[0m\u001b[0m\n\u001b[0m\u001b[0;32m      3\u001b[0m \u001b[0myear_data\u001b[0m\u001b[1;33m.\u001b[0m\u001b[0mplot\u001b[0m\u001b[1;33m(\u001b[0m\u001b[0mkind\u001b[0m \u001b[1;33m=\u001b[0m \u001b[1;34m'bar'\u001b[0m\u001b[1;33m)\u001b[0m\u001b[1;33m\u001b[0m\u001b[1;33m\u001b[0m\u001b[0m\n\u001b[0;32m      4\u001b[0m \u001b[0mplt\u001b[0m\u001b[1;33m.\u001b[0m\u001b[0mtitle\u001b[0m\u001b[1;33m(\u001b[0m\u001b[1;34m'uploadedAT'\u001b[0m\u001b[1;33m)\u001b[0m\u001b[1;33m\u001b[0m\u001b[1;33m\u001b[0m\u001b[0m\n\u001b[0;32m      5\u001b[0m \u001b[0mplt\u001b[0m\u001b[1;33m.\u001b[0m\u001b[0mshow\u001b[0m\u001b[1;33m(\u001b[0m\u001b[1;33m)\u001b[0m\u001b[1;33m\u001b[0m\u001b[1;33m\u001b[0m\u001b[0m\n",
      "\u001b[1;31mNameError\u001b[0m: name 'review_data' is not defined"
     ]
    }
   ],
   "source": [
    "# Year wise\n",
    "year_data = review_data.groupby(review_data['uploadedAt'].dt.year).size()\n",
    "year_data.plot(kind = 'bar')\n",
    "plt.title('uploadedAT')\n",
    "plt.show()"
   ]
  },
  {
   "cell_type": "code",
   "execution_count": 0,
   "metadata": {
    "colab": {
     "base_uri": "https://localhost:8080/",
     "height": 374
    },
    "colab_type": "code",
    "executionInfo": {
     "elapsed": 774,
     "status": "ok",
     "timestamp": 1575062397149,
     "user": {
      "displayName": "Skand Upmanyu",
      "photoUrl": "https://lh3.googleusercontent.com/a-/AAuE7mDucdWRvThRuOGGMpf4XuCLzSwgNJW97EO8v5sS=s64",
      "userId": "14474330947256204580"
     },
     "user_tz": 300
    },
    "id": "VZBvZ0nB4ICd",
    "outputId": "c09f023c-92f8-4901-aa25-281bd275101a"
   },
   "outputs": [
    {
     "data": {
      "image/png": "[encoded data removed]",
      "text/plain": [
       "<Figure size 1440x432 with 1 Axes>"
      ]
     },
     "metadata": {
      "tags": []
     },
     "output_type": "display_data"
    }
   ],
   "source": [
    "# age\n",
    "figure(num=None, figsize=(20, 6))\n",
    "plt.hist(review_data['age'], bins = 50)\n",
    "plt.show()"
   ]
  },
  {
   "cell_type": "code",
   "execution_count": 0,
   "metadata": {
    "colab": {
     "base_uri": "https://localhost:8080/",
     "height": 374
    },
    "colab_type": "code",
    "executionInfo": {
     "elapsed": 940,
     "status": "ok",
     "timestamp": 1575062398514,
     "user": {
      "displayName": "Skand Upmanyu",
      "photoUrl": "https://lh3.googleusercontent.com/a-/AAuE7mDucdWRvThRuOGGMpf4XuCLzSwgNJW97EO8v5sS=s64",
      "userId": "14474330947256204580"
     },
     "user_tz": 300
    },
    "id": "OIFBxaas4kc-",
    "outputId": "e2781815-39b3-400c-95c1-f8a57c173ab0"
   },
   "outputs": [
    {
     "data": {
      "image/png": "[encoded data removed]",
      "text/plain": [
       "<Figure size 1440x432 with 1 Axes>"
      ]
     },
     "metadata": {
      "tags": []
     },
     "output_type": "display_data"
    }
   ],
   "source": [
    "# numReviewsByUser\n",
    "dedup = review_data.drop_duplicates('user_id')\n",
    "figure(num=None, figsize=(20, 6))\n",
    "plt.hist(dedup.loc[:, 'numReviewsByUser'], bins = 70)\n",
    "plt.show()"
   ]
  },
  {
   "cell_type": "code",
   "execution_count": 0,
   "metadata": {
    "colab": {
     "base_uri": "https://localhost:8080/",
     "height": 265
    },
    "colab_type": "code",
    "executionInfo": {
     "elapsed": 264275,
     "status": "ok",
     "timestamp": 1574656741301,
     "user": {
      "displayName": "Skand Upmanyu",
      "photoUrl": "https://lh3.googleusercontent.com/a-/AAuE7mDucdWRvThRuOGGMpf4XuCLzSwgNJW97EO8v5sS=s64",
      "userId": "14474330947256204580"
     },
     "user_tz": 300
    },
    "id": "cGKRfZgpVdMy",
    "outputId": "a4af1560-ad81-4571-8e26-f7a74bf32df8"
   },
   "outputs": [
    {
     "data": {
      "image/png": "[encoded data removed]",
      "text/plain": [
       "<Figure size 432x288 with 1 Axes>"
      ]
     },
     "metadata": {
      "tags": []
     },
     "output_type": "display_data"
    }
   ],
   "source": [
    "# averageRating\n",
    "dedup = review_data.drop_duplicates('item_id')\n",
    "plt.hist(dedup['averageRating'], bins = 20)\n",
    "plt.show()"
   ]
  },
  {
   "cell_type": "code",
   "execution_count": 0,
   "metadata": {
    "colab": {
     "base_uri": "https://localhost:8080/",
     "height": 265
    },
    "colab_type": "code",
    "executionInfo": {
     "elapsed": 264257,
     "status": "ok",
     "timestamp": 1574656741303,
     "user": {
      "displayName": "Skand Upmanyu",
      "photoUrl": "https://lh3.googleusercontent.com/a-/AAuE7mDucdWRvThRuOGGMpf4XuCLzSwgNJW97EO8v5sS=s64",
      "userId": "14474330947256204580"
     },
     "user_tz": 300
    },
    "id": "mqiLUk9I44cF",
    "outputId": "2d34637e-3502-4bcd-a9fe-44422bb6517c"
   },
   "outputs": [
    {
     "data": {
      "image/png": "[encoded data removed]",
      "text/plain": [
       "<Figure size 432x288 with 1 Axes>"
      ]
     },
     "metadata": {
      "tags": []
     },
     "output_type": "display_data"
    }
   ],
   "source": [
    "# heightInches\n",
    "plt.hist(review_data['heightInches'], bins = 20)\n",
    "plt.show()"
   ]
  },
  {
   "cell_type": "code",
   "execution_count": 0,
   "metadata": {
    "colab": {
     "base_uri": "https://localhost:8080/",
     "height": 292
    },
    "colab_type": "code",
    "executionInfo": {
     "elapsed": 264798,
     "status": "ok",
     "timestamp": 1574656741866,
     "user": {
      "displayName": "Skand Upmanyu",
      "photoUrl": "https://lh3.googleusercontent.com/a-/AAuE7mDucdWRvThRuOGGMpf4XuCLzSwgNJW97EO8v5sS=s64",
      "userId": "14474330947256204580"
     },
     "user_tz": 300
    },
    "id": "T1a1BHEP5IGS",
    "outputId": "18575f0f-a0fb-4cc6-a18a-1ba11c03bb19"
   },
   "outputs": [
    {
     "data": {
      "image/png": "[encoded data removed]",
      "text/plain": [
       "<Figure size 432x288 with 1 Axes>"
      ]
     },
     "metadata": {
      "tags": []
     },
     "output_type": "display_data"
    }
   ],
   "source": [
    "# usStandardSize\n",
    "usStandardSize_data = review_data.groupby('usStandardSize').size()\n",
    "usStandardSize_data.plot(kind = 'bar')\n",
    "plt.show()"
   ]
  },
  {
   "cell_type": "code",
   "execution_count": 0,
   "metadata": {
    "colab": {
     "base_uri": "https://localhost:8080/",
     "height": 265
    },
    "colab_type": "code",
    "executionInfo": {
     "elapsed": 264748,
     "status": "ok",
     "timestamp": 1574656741867,
     "user": {
      "displayName": "Skand Upmanyu",
      "photoUrl": "https://lh3.googleusercontent.com/a-/AAuE7mDucdWRvThRuOGGMpf4XuCLzSwgNJW97EO8v5sS=s64",
      "userId": "14474330947256204580"
     },
     "user_tz": 300
    },
    "id": "LJsiQPeGMC-z",
    "outputId": "aceee842-24fa-426f-ad93-187a37d78486"
   },
   "outputs": [
    {
     "data": {
      "image/png": "[encoded data removed]",
      "text/plain": [
       "<Figure size 432x288 with 1 Axes>"
      ]
     },
     "metadata": {
      "tags": []
     },
     "output_type": "display_data"
    }
   ],
   "source": [
    "# weightPounds\n",
    "plt.hist(review_data['weightPounds'], bins = 30)\n",
    "plt.show()"
   ]
  },
  {
   "cell_type": "code",
   "execution_count": 0,
   "metadata": {
    "colab": {
     "base_uri": "https://localhost:8080/",
     "height": 282
    },
    "colab_type": "code",
    "executionInfo": {
     "elapsed": 264701,
     "status": "ok",
     "timestamp": 1574656741868,
     "user": {
      "displayName": "Skand Upmanyu",
      "photoUrl": "https://lh3.googleusercontent.com/a-/AAuE7mDucdWRvThRuOGGMpf4XuCLzSwgNJW97EO8v5sS=s64",
      "userId": "14474330947256204580"
     },
     "user_tz": 300
    },
    "id": "JHt_KpEAR2Eo",
    "outputId": "879c4032-87cd-41d9-b928-3118fe7c40f1"
   },
   "outputs": [
    {
     "data": {
      "image/png": "[encoded data removed]",
      "text/plain": [
       "<Figure size 432x288 with 1 Axes>"
      ]
     },
     "metadata": {
      "tags": []
     },
     "output_type": "display_data"
    }
   ],
   "source": [
    "# rating\n",
    "rating_data = review_data.groupby('rating').size()\n",
    "rating_data.plot(kind = 'bar')\n",
    "plt.show()"
   ]
  },
  {
   "cell_type": "code",
   "execution_count": 0,
   "metadata": {
    "colab": {
     "base_uri": "https://localhost:8080/",
     "height": 292
    },
    "colab_type": "code",
    "executionInfo": {
     "elapsed": 264672,
     "status": "ok",
     "timestamp": 1574656741869,
     "user": {
      "displayName": "Skand Upmanyu",
      "photoUrl": "https://lh3.googleusercontent.com/a-/AAuE7mDucdWRvThRuOGGMpf4XuCLzSwgNJW97EO8v5sS=s64",
      "userId": "14474330947256204580"
     },
     "user_tz": 300
    },
    "id": "MRo1_f7jSDlO",
    "outputId": "64c26fea-3fcf-451e-967c-be25b8843717"
   },
   "outputs": [
    {
     "data": {
      "image/png": "[encoded data removed]",
      "text/plain": [
       "<Figure size 432x288 with 1 Axes>"
      ]
     },
     "metadata": {
      "tags": []
     },
     "output_type": "display_data"
    }
   ],
   "source": [
    "# bust_size\n",
    "rating_data = review_data.groupby('bust_size').size()\n",
    "rating_data.plot(kind = 'bar')\n",
    "plt.show()"
   ]
  },
  {
   "cell_type": "code",
   "execution_count": 0,
   "metadata": {
    "colab": {
     "base_uri": "https://localhost:8080/",
     "height": 346
    },
    "colab_type": "code",
    "executionInfo": {
     "elapsed": 264649,
     "status": "ok",
     "timestamp": 1574656741870,
     "user": {
      "displayName": "Skand Upmanyu",
      "photoUrl": "https://lh3.googleusercontent.com/a-/AAuE7mDucdWRvThRuOGGMpf4XuCLzSwgNJW97EO8v5sS=s64",
      "userId": "14474330947256204580"
     },
     "user_tz": 300
    },
    "id": "f9_ZNrTbSmBM",
    "outputId": "1981ffef-63d8-4fc4-e97a-3c66b1a7a516"
   },
   "outputs": [
    {
     "data": {
      "image/png": "[encoded data removed]",
      "text/plain": [
       "<Figure size 432x288 with 1 Axes>"
      ]
     },
     "metadata": {
      "tags": []
     },
     "output_type": "display_data"
    }
   ],
   "source": [
    "# bodyType\n",
    "bodyType = [x for x in review_data.columns if x.startswith('bodyType')]\n",
    "bodyType_data = review_data[bodyType].sum().sort_values()\n",
    "bodyType_data.index = [x.replace('bodyType_', \"\") for x in bodyType_data.index]\n",
    "bodyType_data.plot(kind = 'bar')\n",
    "plt.show()"
   ]
  },
  {
   "cell_type": "code",
   "execution_count": 0,
   "metadata": {
    "colab": {
     "base_uri": "https://localhost:8080/",
     "height": 330
    },
    "colab_type": "code",
    "executionInfo": {
     "elapsed": 265374,
     "status": "ok",
     "timestamp": 1574656742623,
     "user": {
      "displayName": "Skand Upmanyu",
      "photoUrl": "https://lh3.googleusercontent.com/a-/AAuE7mDucdWRvThRuOGGMpf4XuCLzSwgNJW97EO8v5sS=s64",
      "userId": "14474330947256204580"
     },
     "user_tz": 300
    },
    "id": "QoXvPkbPTCpS",
    "outputId": "3f4ec23c-03a8-4039-d1cd-e770b48e8562"
   },
   "outputs": [
    {
     "data": {
      "image/png": "[encoded data removed]",
      "text/plain": [
       "<Figure size 432x288 with 1 Axes>"
      ]
     },
     "metadata": {
      "tags": []
     },
     "output_type": "display_data"
    }
   ],
   "source": [
    "# bodyType\n",
    "fit = [x for x in review_data.columns if x.startswith('fit')]\n",
    "fit_data = review_data[fit].sum().sort_values()\n",
    "fit_data.index = [x.replace('bodyType_', \"\") for x in fit_data.index]\n",
    "fit_data.plot(kind = 'bar')\n",
    "plt.show()"
   ]
  },
  {
   "cell_type": "code",
   "execution_count": 0,
   "metadata": {
    "colab": {
     "base_uri": "https://localhost:8080/",
     "height": 332
    },
    "colab_type": "code",
    "executionInfo": {
     "elapsed": 265345,
     "status": "ok",
     "timestamp": 1574656742625,
     "user": {
      "displayName": "Skand Upmanyu",
      "photoUrl": "https://lh3.googleusercontent.com/a-/AAuE7mDucdWRvThRuOGGMpf4XuCLzSwgNJW97EO8v5sS=s64",
      "userId": "14474330947256204580"
     },
     "user_tz": 300
    },
    "id": "qNHnURSCUlFM",
    "outputId": "0e9726c9-1c3d-40d3-eb4b-f9a92c8c77d5"
   },
   "outputs": [
    {
     "data": {
      "image/png": "[encoded data removed]",
      "text/plain": [
       "<Figure size 432x288 with 1 Axes>"
      ]
     },
     "metadata": {
      "tags": []
     },
     "output_type": "display_data"
    }
   ],
   "source": [
    "# bust_type\n",
    "bust_type = [x for x in review_data.columns if x.startswith('bust_type')]\n",
    "bust_type_data = review_data[bust_type].sum().sort_values()\n",
    "bust_type_data.index = [x.replace('bodyType_', \"\") for x in bust_type_data.index]\n",
    "bust_type_data.plot(kind = 'bar')\n",
    "plt.show()"
   ]
  },
  {
   "cell_type": "markdown",
   "metadata": {
    "colab_type": "text",
    "id": "LdOC2cQrXlLg"
   },
   "source": [
    "# Collaborative Filtering"
   ]
  },
  {
   "cell_type": "code",
   "execution_count": 21,
   "metadata": {
    "colab": {
     "base_uri": "https://localhost:8080/",
     "height": 680
    },
    "colab_type": "code",
    "executionInfo": {
     "elapsed": 343,
     "status": "ok",
     "timestamp": 1575336303811,
     "user": {
      "displayName": "Skand Upmanyu",
      "photoUrl": "https://lh3.googleusercontent.com/a-/AAuE7mDucdWRvThRuOGGMpf4XuCLzSwgNJW97EO8v5sS=s64",
      "userId": "14474330947256204580"
     },
     "user_tz": 300
    },
    "id": "ldIQIyI5XCRz",
    "outputId": "c0d6b76c-2a93-46b3-a6dc-6fee429d64e2"
   },
   "outputs": [
    {
     "data": {
      "text/plain": [
       "['item_id',\n",
       " 'averageRating',\n",
       " 'countRatings',\n",
       " 'currentCount',\n",
       " 'user_id',\n",
       " 'age',\n",
       " 'numReviewsByUser',\n",
       " 'heightInches',\n",
       " 'nickName',\n",
       " 'usStandardSize',\n",
       " 'weightPounds',\n",
       " 'caption',\n",
       " 'content',\n",
       " 'rating',\n",
       " 'uploadedAt',\n",
       " 'product_img_link',\n",
       " 'bust_size',\n",
       " 'bodyType_Apple',\n",
       " 'bodyType_Athletic',\n",
       " 'bodyType_Full Bust',\n",
       " 'bodyType_Hourglass',\n",
       " 'bodyType_Pear',\n",
       " 'bodyType_Petite',\n",
       " 'bodyType_Straight & narrow',\n",
       " 'fit_Large',\n",
       " 'fit_Small',\n",
       " 'fit_True to Size',\n",
       " 'bust_type_A',\n",
       " 'bust_type_AA',\n",
       " 'bust_type_B',\n",
       " 'bust_type_C',\n",
       " 'bust_type_D',\n",
       " 'bust_type_DD',\n",
       " 'bust_type_DDD',\n",
       " 'bust_type_F',\n",
       " 'bust_type_G',\n",
       " 'bust_type_H',\n",
       " 'bust_type_I',\n",
       " 'bust_type_J']"
      ]
     },
     "execution_count": 21,
     "metadata": {
      "tags": []
     },
     "output_type": "execute_result"
    }
   ],
   "source": [
    "list(review_data)"
   ]
  },
  {
   "cell_type": "markdown",
   "metadata": {
    "colab_type": "text",
    "id": "7ZtLEBFvgq6C"
   },
   "source": [
    "## Creating Sparse matrix of user vectors"
   ]
  },
  {
   "cell_type": "markdown",
   "metadata": {
    "colab_type": "text",
    "id": "uQP5-D2Zgyph"
   },
   "source": [
    "### User-Item attributes"
   ]
  },
  {
   "cell_type": "markdown",
   "metadata": {
    "colab_type": "text",
    "id": "15OhwJyjYIeB"
   },
   "source": [
    "###### Get unique users and products"
   ]
  },
  {
   "cell_type": "code",
   "execution_count": 0,
   "metadata": {
    "colab": {},
    "colab_type": "code",
    "id": "4cmYrk6QXsBJ"
   },
   "outputs": [],
   "source": [
    "all_users = review_data['user_id'].value_counts()\n",
    "filter_ = all_users > 5 # Filter users with at least these number of ratings\n",
    "users = list(all_users[filter_].index)\n",
    "\n",
    "all_products = review_data.loc[review_data['user_id'].isin(users), 'item_id'].value_counts()\n",
    "products = list(all_products.index)"
   ]
  },
  {
   "cell_type": "markdown",
   "metadata": {
    "colab_type": "text",
    "id": "XMAvmxmiYLa7"
   },
   "source": [
    "###### Create user and product mapping for sparse matrix"
   ]
  },
  {
   "cell_type": "code",
   "execution_count": 0,
   "metadata": {
    "colab": {},
    "colab_type": "code",
    "id": "EwJ8dxFGX-MB"
   },
   "outputs": [],
   "source": [
    "user_mapping = {}\n",
    "for i, user in enumerate(users):\n",
    "  user_mapping[user] = i\n",
    "\n",
    "product_mapping = {}\n",
    "for i, product in enumerate(products):\n",
    "  product_mapping[product] = i"
   ]
  },
  {
   "cell_type": "markdown",
   "metadata": {
    "colab_type": "text",
    "id": "3JK-EAK-gOyP"
   },
   "source": [
    "##### Remove users with less than given number of ratings count"
   ]
  },
  {
   "cell_type": "code",
   "execution_count": 0,
   "metadata": {
    "colab": {},
    "colab_type": "code",
    "id": "p1u37gqBgO4s"
   },
   "outputs": [],
   "source": [
    "data_coll = review_data.loc[review_data['user_id'].isin(users), :]"
   ]
  },
  {
   "cell_type": "markdown",
   "metadata": {
    "colab_type": "text",
    "id": "U6H0bVG5YOzM"
   },
   "source": [
    "##### Calculate mean rating per user and product combination"
   ]
  },
  {
   "cell_type": "code",
   "execution_count": 0,
   "metadata": {
    "colab": {},
    "colab_type": "code",
    "id": "RxYM3lTOYCUz"
   },
   "outputs": [],
   "source": [
    "user_item_rating = data_coll.groupby(['user_id', 'item_id']).agg({'rating': 'mean'}).reset_index()"
   ]
  },
  {
   "cell_type": "markdown",
   "metadata": {
    "colab_type": "text",
    "id": "gIz1P6iTev5s"
   },
   "source": [
    "### User-demog attributes"
   ]
  },
  {
   "cell_type": "markdown",
   "metadata": {
    "colab_type": "text",
    "id": "G4Tbsx3Fe3NW"
   },
   "source": [
    "#### Dedup user rows"
   ]
  },
  {
   "cell_type": "code",
   "execution_count": 0,
   "metadata": {
    "colab": {},
    "colab_type": "code",
    "id": "ezypBksKaClN"
   },
   "outputs": [],
   "source": [
    "cols_to_keep = ['user_id', \n",
    "                'age', \n",
    "                'numReviewsByUser',\n",
    "                'heightInches',\n",
    "                'usStandardSize',\n",
    "                'weightPounds',\n",
    "                'bust_size',\n",
    "                'bodyType_Apple',\n",
    "                'bodyType_Athletic',\n",
    "                'bodyType_Full Bust',\n",
    "                'bodyType_Hourglass',\n",
    "                'bodyType_Pear',\n",
    "                'bodyType_Petite',\n",
    "                'bodyType_Straight & narrow',\n",
    "                'fit_Large',\n",
    "                'fit_Small',\n",
    "                'fit_True to Size',\n",
    "                'bust_type_A',\n",
    "                'bust_type_AA',\n",
    "                'bust_type_B',\n",
    "                'bust_type_C',\n",
    "                'bust_type_D',\n",
    "                'bust_type_DD',\n",
    "                'bust_type_DDD',\n",
    "                'bust_type_F',\n",
    "                'bust_type_G',\n",
    "                'bust_type_H',\n",
    "                'bust_type_I',\n",
    "                'bust_type_J']\n",
    "\n",
    "review_data_nodup = review_data.drop_duplicates('user_id')\n",
    "review_data_nodup = review_data_nodup[cols_to_keep]"
   ]
  },
  {
   "cell_type": "markdown",
   "metadata": {
    "colab_type": "text",
    "id": "oKEGVO3SgDNJ"
   },
   "source": [
    "##### Remove users with less than given number of ratings count"
   ]
  },
  {
   "cell_type": "code",
   "execution_count": 0,
   "metadata": {
    "colab": {},
    "colab_type": "code",
    "id": "HZeTppXaf_67"
   },
   "outputs": [],
   "source": [
    "review_data_nodup = review_data_nodup.loc[review_data_nodup['user_id'].isin(users), :]"
   ]
  },
  {
   "cell_type": "markdown",
   "metadata": {
    "colab_type": "text",
    "id": "gQVucjQde495"
   },
   "source": [
    "##### Melt"
   ]
  },
  {
   "cell_type": "code",
   "execution_count": 0,
   "metadata": {
    "colab": {},
    "colab_type": "code",
    "id": "ZoA9TTE3bnV8"
   },
   "outputs": [],
   "source": [
    "review_data_nodup_melt = review_data_nodup.melt(id_vars = ['user_id'])"
   ]
  },
  {
   "cell_type": "markdown",
   "metadata": {
    "colab_type": "text",
    "id": "WvOG5tf4e-IE"
   },
   "source": [
    "#### Create demog mapping"
   ]
  },
  {
   "cell_type": "code",
   "execution_count": 0,
   "metadata": {
    "colab": {},
    "colab_type": "code",
    "id": "k8BoXyqmbOzL"
   },
   "outputs": [],
   "source": [
    "uniq_demogs = ['age', \n",
    "               'numReviewsByUser',\n",
    "               'heightInches',\n",
    "               'usStandardSize',\n",
    "               'weightPounds',\n",
    "               'bust_size',\n",
    "               'bodyType_Apple',\n",
    "               'bodyType_Athletic',\n",
    "               'bodyType_Full Bust',\n",
    "               'bodyType_Hourglass',\n",
    "               'bodyType_Pear',\n",
    "               'bodyType_Petite',\n",
    "               'bodyType_Straight & narrow',\n",
    "               'fit_Large',\n",
    "               'fit_Small',\n",
    "               'fit_True to Size',\n",
    "               'bust_type_A',\n",
    "               'bust_type_AA',\n",
    "               'bust_type_B', \n",
    "               'bust_type_C', \n",
    "               'bust_type_D',\n",
    "               'bust_type_DD',\n",
    "               'bust_type_DDD',\n",
    "               'bust_type_F',\n",
    "               'bust_type_G',\n",
    "               'bust_type_H',\n",
    "               'bust_type_I',\n",
    "               'bust_type_J']\n",
    "demog_mapping = {}\n",
    "for i, demog in enumerate(uniq_demogs):\n",
    "  demog_mapping[demog] = i + max(product_mapping.values())"
   ]
  },
  {
   "cell_type": "markdown",
   "metadata": {
    "colab_type": "text",
    "id": "1n-_CF6HfKRo"
   },
   "source": [
    "### Join the mapping to variables"
   ]
  },
  {
   "cell_type": "code",
   "execution_count": 0,
   "metadata": {
    "colab": {},
    "colab_type": "code",
    "id": "02EVk6i8dBhu"
   },
   "outputs": [],
   "source": [
    "# user_item_rating\n",
    "user_item_rating['user_mapping'] = user_item_rating['user_id'].map(user_mapping)\n",
    "user_item_rating['product_mapping'] = user_item_rating['item_id'].map(product_mapping)\n",
    "\n",
    "# review_data_nodup_melt \n",
    "review_data_nodup_melt['user_mapping'] = review_data_nodup_melt['user_id'].map(user_mapping)\n",
    "review_data_nodup_melt['demog_mapping'] = review_data_nodup_melt['variable'].map(demog_mapping)"
   ]
  },
  {
   "cell_type": "markdown",
   "metadata": {
    "colab_type": "text",
    "id": "-XpqPjtNh5CH"
   },
   "source": [
    "### Create Sparse matrix"
   ]
  },
  {
   "cell_type": "code",
   "execution_count": 0,
   "metadata": {
    "colab": {},
    "colab_type": "code",
    "id": "qFV88aqhdNq9"
   },
   "outputs": [],
   "source": [
    "# segregate product variables\n",
    "user_item_rating['item_id'] = 'Product_' + user_item_rating['item_id']"
   ]
  },
  {
   "cell_type": "code",
   "execution_count": 0,
   "metadata": {
    "colab": {},
    "colab_type": "code",
    "id": "b3qZG4xndTEu"
   },
   "outputs": [],
   "source": [
    "# Rename columns for appending dataframes\n",
    "colnames = ['user_id', 'variable', 'value', 'user_mapping', 'variable_mapping']\n",
    "user_item_rating.columns = colnames\n",
    "review_data_nodup_melt.columns = colnames"
   ]
  },
  {
   "cell_type": "code",
   "execution_count": 0,
   "metadata": {
    "colab": {},
    "colab_type": "code",
    "id": "wbJZd1ZEdsmi"
   },
   "outputs": [],
   "source": [
    "# Append dataframes\n",
    "row_col_mapping_dense = pd.concat([user_item_rating, review_data_nodup_melt])"
   ]
  },
  {
   "cell_type": "code",
   "execution_count": 0,
   "metadata": {
    "colab": {},
    "colab_type": "code",
    "id": "ygoGbgAod-Ek"
   },
   "outputs": [],
   "source": [
    "# Create Sparse matrix\n",
    "mat = sparse.coo_matrix( ( row_col_mapping_dense[\"value\"], (row_col_mapping_dense[\"user_mapping\"], row_col_mapping_dense[\"variable_mapping\"]) ) )"
   ]
  },
  {
   "cell_type": "markdown",
   "metadata": {
    "colab_type": "text",
    "id": "pFLhCKhFrMho"
   },
   "source": [
    "## Cosine Similarity"
   ]
  },
  {
   "cell_type": "markdown",
   "metadata": {
    "colab_type": "text",
    "id": "CtWZ3pXfijwk"
   },
   "source": [
    "### Scaling"
   ]
  },
  {
   "cell_type": "code",
   "execution_count": 0,
   "metadata": {
    "colab": {},
    "colab_type": "code",
    "id": "uAzQy2k492yU"
   },
   "outputs": [],
   "source": [
    "scaler = StandardScaler(with_mean = False)\n",
    "scaler.fit(mat)\n",
    "mat_std = scaler.transform(mat)"
   ]
  },
  {
   "cell_type": "markdown",
   "metadata": {
    "colab_type": "text",
    "id": "xwDHkVQ3rjPL"
   },
   "source": [
    "### Unit Vectors"
   ]
  },
  {
   "cell_type": "code",
   "execution_count": 0,
   "metadata": {
    "colab": {},
    "colab_type": "code",
    "id": "E72RYIlSrjYS"
   },
   "outputs": [],
   "source": [
    "normalizer = Normalizer(copy=False) \n",
    "mat_std_unit = normalizer.fit_transform(mat_std)"
   ]
  },
  {
   "cell_type": "markdown",
   "metadata": {
    "colab_type": "text",
    "id": "qR4JAuOziQHs"
   },
   "source": [
    "### Cosine Similarity matrix"
   ]
  },
  {
   "cell_type": "code",
   "execution_count": 0,
   "metadata": {
    "colab": {
     "base_uri": "https://localhost:8080/",
     "height": 439
    },
    "colab_type": "code",
    "executionInfo": {
     "elapsed": 12950,
     "status": "ok",
     "timestamp": 1575309939838,
     "user": {
      "displayName": "Skand Upmanyu",
      "photoUrl": "https://lh3.googleusercontent.com/a-/AAuE7mDucdWRvThRuOGGMpf4XuCLzSwgNJW97EO8v5sS=s64",
      "userId": "14474330947256204580"
     },
     "user_tz": 300
    },
    "id": "4DABVEEuNNhH",
    "outputId": "8f3272dd-b967-4d0e-ed16-edf943ead363"
   },
   "outputs": [
    {
     "data": {
      "text/html": [
       "<div>\n",
       "<style scoped>\n",
       "    .dataframe tbody tr th:only-of-type {\n",
       "        vertical-align: middle;\n",
       "    }\n",
       "\n",
       "    .dataframe tbody tr th {\n",
       "        vertical-align: top;\n",
       "    }\n",
       "\n",
       "    .dataframe thead th {\n",
       "        text-align: right;\n",
       "    }\n",
       "</style>\n",
       "<table border=\"1\" class=\"dataframe\">\n",
       "  <thead>\n",
       "    <tr style=\"text-align: right;\">\n",
       "      <th></th>\n",
       "      <th>12247768</th>\n",
       "      <th>10979088</th>\n",
       "      <th>7840766</th>\n",
       "      <th>1060714</th>\n",
       "      <th>1752866</th>\n",
       "      <th>14851802</th>\n",
       "      <th>7950828</th>\n",
       "      <th>12735534</th>\n",
       "      <th>1420959</th>\n",
       "      <th>9552632</th>\n",
       "      <th>10589418</th>\n",
       "      <th>8868288</th>\n",
       "      <th>13649902</th>\n",
       "      <th>9081020</th>\n",
       "      <th>10358490</th>\n",
       "      <th>14136216</th>\n",
       "      <th>5724452</th>\n",
       "      <th>9048222</th>\n",
       "      <th>9778022</th>\n",
       "      <th>1069816</th>\n",
       "      <th>11189028</th>\n",
       "      <th>7633784</th>\n",
       "      <th>1638410</th>\n",
       "      <th>15675340</th>\n",
       "      <th>17897161</th>\n",
       "      <th>3326359</th>\n",
       "      <th>14158544</th>\n",
       "      <th>2522915</th>\n",
       "      <th>3533477</th>\n",
       "      <th>3168407</th>\n",
       "      <th>7583092</th>\n",
       "      <th>13235844</th>\n",
       "      <th>12406074</th>\n",
       "      <th>10796556</th>\n",
       "      <th>1529381</th>\n",
       "      <th>11201762</th>\n",
       "      <th>10336722</th>\n",
       "      <th>16429924</th>\n",
       "      <th>7000276</th>\n",
       "      <th>17794177</th>\n",
       "      <th>...</th>\n",
       "      <th>17162032</th>\n",
       "      <th>11162856</th>\n",
       "      <th>8807832</th>\n",
       "      <th>18630179</th>\n",
       "      <th>18243393</th>\n",
       "      <th>18865583</th>\n",
       "      <th>18362197</th>\n",
       "      <th>16386421</th>\n",
       "      <th>16255285</th>\n",
       "      <th>17530852</th>\n",
       "      <th>10351900</th>\n",
       "      <th>1009774</th>\n",
       "      <th>18259452</th>\n",
       "      <th>1722111</th>\n",
       "      <th>9256398</th>\n",
       "      <th>17595109</th>\n",
       "      <th>18239841</th>\n",
       "      <th>2021032</th>\n",
       "      <th>16547588</th>\n",
       "      <th>17763022</th>\n",
       "      <th>12120650</th>\n",
       "      <th>16945341</th>\n",
       "      <th>16423226</th>\n",
       "      <th>1040840</th>\n",
       "      <th>17172554</th>\n",
       "      <th>9877494</th>\n",
       "      <th>10598332</th>\n",
       "      <th>7414906</th>\n",
       "      <th>16903569</th>\n",
       "      <th>3401403</th>\n",
       "      <th>18821833</th>\n",
       "      <th>8134440</th>\n",
       "      <th>1327364</th>\n",
       "      <th>18820167</th>\n",
       "      <th>4388970</th>\n",
       "      <th>9131718</th>\n",
       "      <th>1725706</th>\n",
       "      <th>1865658</th>\n",
       "      <th>11991124</th>\n",
       "      <th>9725552</th>\n",
       "    </tr>\n",
       "  </thead>\n",
       "  <tbody>\n",
       "    <tr>\n",
       "      <th>12247768</th>\n",
       "      <td>1.000000</td>\n",
       "      <td>0.026409</td>\n",
       "      <td>0.014369</td>\n",
       "      <td>0.020789</td>\n",
       "      <td>0.051383</td>\n",
       "      <td>0.005955</td>\n",
       "      <td>0.028322</td>\n",
       "      <td>0.009995</td>\n",
       "      <td>0.008442</td>\n",
       "      <td>0.012224</td>\n",
       "      <td>0.027451</td>\n",
       "      <td>0.022263</td>\n",
       "      <td>0.034865</td>\n",
       "      <td>0.018594</td>\n",
       "      <td>0.021232</td>\n",
       "      <td>0.027934</td>\n",
       "      <td>0.045417</td>\n",
       "      <td>0.009695</td>\n",
       "      <td>0.020458</td>\n",
       "      <td>0.033045</td>\n",
       "      <td>0.020947</td>\n",
       "      <td>0.019552</td>\n",
       "      <td>0.023779</td>\n",
       "      <td>0.029223</td>\n",
       "      <td>0.005640</td>\n",
       "      <td>0.011621</td>\n",
       "      <td>0.011144</td>\n",
       "      <td>0.025014</td>\n",
       "      <td>0.026630</td>\n",
       "      <td>0.025159</td>\n",
       "      <td>0.010788</td>\n",
       "      <td>0.008493</td>\n",
       "      <td>0.025396</td>\n",
       "      <td>0.012633</td>\n",
       "      <td>0.007395</td>\n",
       "      <td>0.025852</td>\n",
       "      <td>0.011668</td>\n",
       "      <td>0.006192</td>\n",
       "      <td>0.020050</td>\n",
       "      <td>0.023970</td>\n",
       "      <td>...</td>\n",
       "      <td>0.024396</td>\n",
       "      <td>0.023819</td>\n",
       "      <td>0.016294</td>\n",
       "      <td>0.020396</td>\n",
       "      <td>0.018962</td>\n",
       "      <td>0.023527</td>\n",
       "      <td>0.017786</td>\n",
       "      <td>0.021800</td>\n",
       "      <td>0.025291</td>\n",
       "      <td>0.027035</td>\n",
       "      <td>0.026061</td>\n",
       "      <td>0.016863</td>\n",
       "      <td>0.020344</td>\n",
       "      <td>0.018040</td>\n",
       "      <td>0.015428</td>\n",
       "      <td>0.011855</td>\n",
       "      <td>0.022342</td>\n",
       "      <td>0.020631</td>\n",
       "      <td>0.018244</td>\n",
       "      <td>0.019723</td>\n",
       "      <td>0.013257</td>\n",
       "      <td>0.016097</td>\n",
       "      <td>0.015909</td>\n",
       "      <td>0.015990</td>\n",
       "      <td>0.032804</td>\n",
       "      <td>0.015109</td>\n",
       "      <td>0.021484</td>\n",
       "      <td>0.012631</td>\n",
       "      <td>0.014745</td>\n",
       "      <td>0.015488</td>\n",
       "      <td>0.014813</td>\n",
       "      <td>0.016273</td>\n",
       "      <td>0.021848</td>\n",
       "      <td>0.015097</td>\n",
       "      <td>0.023239</td>\n",
       "      <td>0.013087</td>\n",
       "      <td>0.018709</td>\n",
       "      <td>0.022155</td>\n",
       "      <td>0.011147</td>\n",
       "      <td>0.012647</td>\n",
       "    </tr>\n",
       "    <tr>\n",
       "      <th>10979088</th>\n",
       "      <td>0.026409</td>\n",
       "      <td>1.000000</td>\n",
       "      <td>0.005254</td>\n",
       "      <td>0.021410</td>\n",
       "      <td>0.025631</td>\n",
       "      <td>0.015591</td>\n",
       "      <td>0.022717</td>\n",
       "      <td>0.004908</td>\n",
       "      <td>0.015540</td>\n",
       "      <td>0.005821</td>\n",
       "      <td>0.028191</td>\n",
       "      <td>0.007976</td>\n",
       "      <td>0.036048</td>\n",
       "      <td>0.020130</td>\n",
       "      <td>0.011608</td>\n",
       "      <td>0.005551</td>\n",
       "      <td>0.017927</td>\n",
       "      <td>0.004357</td>\n",
       "      <td>0.013512</td>\n",
       "      <td>0.022315</td>\n",
       "      <td>0.013655</td>\n",
       "      <td>0.024637</td>\n",
       "      <td>0.016349</td>\n",
       "      <td>0.010152</td>\n",
       "      <td>0.027934</td>\n",
       "      <td>0.027944</td>\n",
       "      <td>0.021709</td>\n",
       "      <td>0.006164</td>\n",
       "      <td>0.007320</td>\n",
       "      <td>0.007004</td>\n",
       "      <td>0.015690</td>\n",
       "      <td>0.010454</td>\n",
       "      <td>0.018712</td>\n",
       "      <td>0.005328</td>\n",
       "      <td>0.014596</td>\n",
       "      <td>0.035860</td>\n",
       "      <td>0.011342</td>\n",
       "      <td>0.010342</td>\n",
       "      <td>0.012544</td>\n",
       "      <td>0.013420</td>\n",
       "      <td>...</td>\n",
       "      <td>0.028525</td>\n",
       "      <td>0.027919</td>\n",
       "      <td>0.019266</td>\n",
       "      <td>0.024095</td>\n",
       "      <td>0.022107</td>\n",
       "      <td>0.027672</td>\n",
       "      <td>0.020862</td>\n",
       "      <td>0.025566</td>\n",
       "      <td>0.029835</td>\n",
       "      <td>0.031594</td>\n",
       "      <td>0.030432</td>\n",
       "      <td>0.019710</td>\n",
       "      <td>0.023768</td>\n",
       "      <td>0.021126</td>\n",
       "      <td>0.018115</td>\n",
       "      <td>0.013885</td>\n",
       "      <td>0.026120</td>\n",
       "      <td>0.024020</td>\n",
       "      <td>0.021441</td>\n",
       "      <td>0.023166</td>\n",
       "      <td>0.015450</td>\n",
       "      <td>0.018842</td>\n",
       "      <td>0.018544</td>\n",
       "      <td>0.018788</td>\n",
       "      <td>0.025696</td>\n",
       "      <td>0.017585</td>\n",
       "      <td>0.025205</td>\n",
       "      <td>0.014918</td>\n",
       "      <td>0.017262</td>\n",
       "      <td>0.018115</td>\n",
       "      <td>0.017372</td>\n",
       "      <td>0.019067</td>\n",
       "      <td>0.016751</td>\n",
       "      <td>0.017742</td>\n",
       "      <td>0.027257</td>\n",
       "      <td>0.015238</td>\n",
       "      <td>0.021757</td>\n",
       "      <td>0.025928</td>\n",
       "      <td>0.013047</td>\n",
       "      <td>0.014725</td>\n",
       "    </tr>\n",
       "    <tr>\n",
       "      <th>7840766</th>\n",
       "      <td>0.014369</td>\n",
       "      <td>0.005254</td>\n",
       "      <td>1.000000</td>\n",
       "      <td>0.024412</td>\n",
       "      <td>0.017932</td>\n",
       "      <td>0.021156</td>\n",
       "      <td>0.012581</td>\n",
       "      <td>0.003672</td>\n",
       "      <td>0.006436</td>\n",
       "      <td>0.028169</td>\n",
       "      <td>0.018390</td>\n",
       "      <td>0.010922</td>\n",
       "      <td>0.016140</td>\n",
       "      <td>0.011001</td>\n",
       "      <td>0.009223</td>\n",
       "      <td>0.006832</td>\n",
       "      <td>0.009801</td>\n",
       "      <td>0.024479</td>\n",
       "      <td>0.009544</td>\n",
       "      <td>0.006994</td>\n",
       "      <td>0.012487</td>\n",
       "      <td>0.003388</td>\n",
       "      <td>0.015243</td>\n",
       "      <td>0.005728</td>\n",
       "      <td>0.027233</td>\n",
       "      <td>0.008546</td>\n",
       "      <td>0.005692</td>\n",
       "      <td>0.026511</td>\n",
       "      <td>0.008045</td>\n",
       "      <td>0.005300</td>\n",
       "      <td>0.013153</td>\n",
       "      <td>0.007268</td>\n",
       "      <td>0.011628</td>\n",
       "      <td>0.011778</td>\n",
       "      <td>0.019395</td>\n",
       "      <td>0.007505</td>\n",
       "      <td>0.005784</td>\n",
       "      <td>0.007370</td>\n",
       "      <td>0.009949</td>\n",
       "      <td>0.009862</td>\n",
       "      <td>...</td>\n",
       "      <td>0.021985</td>\n",
       "      <td>0.021580</td>\n",
       "      <td>0.014839</td>\n",
       "      <td>0.018565</td>\n",
       "      <td>0.017004</td>\n",
       "      <td>0.021179</td>\n",
       "      <td>0.016026</td>\n",
       "      <td>0.036995</td>\n",
       "      <td>0.022965</td>\n",
       "      <td>0.024293</td>\n",
       "      <td>0.023471</td>\n",
       "      <td>0.015149</td>\n",
       "      <td>0.018272</td>\n",
       "      <td>0.016333</td>\n",
       "      <td>0.013989</td>\n",
       "      <td>0.010713</td>\n",
       "      <td>0.020121</td>\n",
       "      <td>0.018391</td>\n",
       "      <td>0.016515</td>\n",
       "      <td>0.017786</td>\n",
       "      <td>0.011965</td>\n",
       "      <td>0.014490</td>\n",
       "      <td>0.014305</td>\n",
       "      <td>0.050826</td>\n",
       "      <td>0.019780</td>\n",
       "      <td>0.013419</td>\n",
       "      <td>0.019399</td>\n",
       "      <td>0.011489</td>\n",
       "      <td>0.013193</td>\n",
       "      <td>0.013950</td>\n",
       "      <td>0.013423</td>\n",
       "      <td>0.014614</td>\n",
       "      <td>0.012941</td>\n",
       "      <td>0.013627</td>\n",
       "      <td>0.021063</td>\n",
       "      <td>0.011776</td>\n",
       "      <td>0.016745</td>\n",
       "      <td>0.032869</td>\n",
       "      <td>0.010033</td>\n",
       "      <td>0.011310</td>\n",
       "    </tr>\n",
       "    <tr>\n",
       "      <th>1060714</th>\n",
       "      <td>0.020789</td>\n",
       "      <td>0.021410</td>\n",
       "      <td>0.024412</td>\n",
       "      <td>1.000000</td>\n",
       "      <td>0.036506</td>\n",
       "      <td>0.013157</td>\n",
       "      <td>0.025619</td>\n",
       "      <td>0.011072</td>\n",
       "      <td>0.014669</td>\n",
       "      <td>0.005420</td>\n",
       "      <td>0.011723</td>\n",
       "      <td>0.012223</td>\n",
       "      <td>0.026851</td>\n",
       "      <td>0.010128</td>\n",
       "      <td>0.015649</td>\n",
       "      <td>0.019081</td>\n",
       "      <td>0.012338</td>\n",
       "      <td>0.012636</td>\n",
       "      <td>0.012704</td>\n",
       "      <td>0.005809</td>\n",
       "      <td>0.013969</td>\n",
       "      <td>0.020291</td>\n",
       "      <td>0.008034</td>\n",
       "      <td>0.013787</td>\n",
       "      <td>0.029178</td>\n",
       "      <td>0.022921</td>\n",
       "      <td>0.017084</td>\n",
       "      <td>0.005709</td>\n",
       "      <td>0.005529</td>\n",
       "      <td>0.006472</td>\n",
       "      <td>0.006591</td>\n",
       "      <td>0.005812</td>\n",
       "      <td>0.006022</td>\n",
       "      <td>0.011091</td>\n",
       "      <td>0.020772</td>\n",
       "      <td>0.017014</td>\n",
       "      <td>0.006601</td>\n",
       "      <td>0.009666</td>\n",
       "      <td>0.005264</td>\n",
       "      <td>0.004330</td>\n",
       "      <td>...</td>\n",
       "      <td>0.026020</td>\n",
       "      <td>0.031974</td>\n",
       "      <td>0.017519</td>\n",
       "      <td>0.064946</td>\n",
       "      <td>0.020480</td>\n",
       "      <td>0.025305</td>\n",
       "      <td>0.019055</td>\n",
       "      <td>0.023303</td>\n",
       "      <td>0.027009</td>\n",
       "      <td>0.029318</td>\n",
       "      <td>0.027908</td>\n",
       "      <td>0.018072</td>\n",
       "      <td>0.021602</td>\n",
       "      <td>0.019291</td>\n",
       "      <td>0.049557</td>\n",
       "      <td>0.012688</td>\n",
       "      <td>0.023947</td>\n",
       "      <td>0.022026</td>\n",
       "      <td>0.019691</td>\n",
       "      <td>0.021269</td>\n",
       "      <td>0.014188</td>\n",
       "      <td>0.017213</td>\n",
       "      <td>0.017166</td>\n",
       "      <td>0.017113</td>\n",
       "      <td>0.023627</td>\n",
       "      <td>0.016040</td>\n",
       "      <td>0.022988</td>\n",
       "      <td>0.013509</td>\n",
       "      <td>0.015719</td>\n",
       "      <td>0.016585</td>\n",
       "      <td>0.015855</td>\n",
       "      <td>0.017393</td>\n",
       "      <td>0.015274</td>\n",
       "      <td>0.016142</td>\n",
       "      <td>0.024969</td>\n",
       "      <td>0.013977</td>\n",
       "      <td>0.019978</td>\n",
       "      <td>0.023510</td>\n",
       "      <td>0.011902</td>\n",
       "      <td>0.013445</td>\n",
       "    </tr>\n",
       "    <tr>\n",
       "      <th>1752866</th>\n",
       "      <td>0.051383</td>\n",
       "      <td>0.025631</td>\n",
       "      <td>0.017932</td>\n",
       "      <td>0.036506</td>\n",
       "      <td>1.000000</td>\n",
       "      <td>0.004820</td>\n",
       "      <td>0.023226</td>\n",
       "      <td>0.008585</td>\n",
       "      <td>0.009813</td>\n",
       "      <td>0.015115</td>\n",
       "      <td>0.016020</td>\n",
       "      <td>0.019652</td>\n",
       "      <td>0.051980</td>\n",
       "      <td>0.022337</td>\n",
       "      <td>0.018963</td>\n",
       "      <td>0.025544</td>\n",
       "      <td>0.044807</td>\n",
       "      <td>0.004774</td>\n",
       "      <td>0.020621</td>\n",
       "      <td>0.010973</td>\n",
       "      <td>0.015792</td>\n",
       "      <td>0.026007</td>\n",
       "      <td>0.027634</td>\n",
       "      <td>0.013473</td>\n",
       "      <td>0.006680</td>\n",
       "      <td>0.020552</td>\n",
       "      <td>0.012087</td>\n",
       "      <td>0.017840</td>\n",
       "      <td>0.012705</td>\n",
       "      <td>0.007735</td>\n",
       "      <td>0.004240</td>\n",
       "      <td>0.007037</td>\n",
       "      <td>0.013746</td>\n",
       "      <td>0.010611</td>\n",
       "      <td>0.031472</td>\n",
       "      <td>0.019302</td>\n",
       "      <td>0.010921</td>\n",
       "      <td>0.007591</td>\n",
       "      <td>0.008712</td>\n",
       "      <td>0.021722</td>\n",
       "      <td>...</td>\n",
       "      <td>0.063299</td>\n",
       "      <td>0.031182</td>\n",
       "      <td>0.021114</td>\n",
       "      <td>0.026554</td>\n",
       "      <td>0.024530</td>\n",
       "      <td>0.030435</td>\n",
       "      <td>0.023057</td>\n",
       "      <td>0.044650</td>\n",
       "      <td>0.032932</td>\n",
       "      <td>0.034896</td>\n",
       "      <td>0.033877</td>\n",
       "      <td>0.021874</td>\n",
       "      <td>0.047061</td>\n",
       "      <td>0.023617</td>\n",
       "      <td>0.020161</td>\n",
       "      <td>0.015425</td>\n",
       "      <td>0.028967</td>\n",
       "      <td>0.041107</td>\n",
       "      <td>0.023876</td>\n",
       "      <td>0.025582</td>\n",
       "      <td>0.017342</td>\n",
       "      <td>0.020913</td>\n",
       "      <td>0.020541</td>\n",
       "      <td>0.020920</td>\n",
       "      <td>0.029086</td>\n",
       "      <td>0.019373</td>\n",
       "      <td>0.028015</td>\n",
       "      <td>0.016385</td>\n",
       "      <td>0.019047</td>\n",
       "      <td>0.020236</td>\n",
       "      <td>0.019370</td>\n",
       "      <td>0.021167</td>\n",
       "      <td>0.018701</td>\n",
       "      <td>0.019628</td>\n",
       "      <td>0.065116</td>\n",
       "      <td>0.017035</td>\n",
       "      <td>0.024212</td>\n",
       "      <td>0.028701</td>\n",
       "      <td>0.014490</td>\n",
       "      <td>0.016344</td>\n",
       "    </tr>\n",
       "    <tr>\n",
       "      <th>...</th>\n",
       "      <td>...</td>\n",
       "      <td>...</td>\n",
       "      <td>...</td>\n",
       "      <td>...</td>\n",
       "      <td>...</td>\n",
       "      <td>...</td>\n",
       "      <td>...</td>\n",
       "      <td>...</td>\n",
       "      <td>...</td>\n",
       "      <td>...</td>\n",
       "      <td>...</td>\n",
       "      <td>...</td>\n",
       "      <td>...</td>\n",
       "      <td>...</td>\n",
       "      <td>...</td>\n",
       "      <td>...</td>\n",
       "      <td>...</td>\n",
       "      <td>...</td>\n",
       "      <td>...</td>\n",
       "      <td>...</td>\n",
       "      <td>...</td>\n",
       "      <td>...</td>\n",
       "      <td>...</td>\n",
       "      <td>...</td>\n",
       "      <td>...</td>\n",
       "      <td>...</td>\n",
       "      <td>...</td>\n",
       "      <td>...</td>\n",
       "      <td>...</td>\n",
       "      <td>...</td>\n",
       "      <td>...</td>\n",
       "      <td>...</td>\n",
       "      <td>...</td>\n",
       "      <td>...</td>\n",
       "      <td>...</td>\n",
       "      <td>...</td>\n",
       "      <td>...</td>\n",
       "      <td>...</td>\n",
       "      <td>...</td>\n",
       "      <td>...</td>\n",
       "      <td>...</td>\n",
       "      <td>...</td>\n",
       "      <td>...</td>\n",
       "      <td>...</td>\n",
       "      <td>...</td>\n",
       "      <td>...</td>\n",
       "      <td>...</td>\n",
       "      <td>...</td>\n",
       "      <td>...</td>\n",
       "      <td>...</td>\n",
       "      <td>...</td>\n",
       "      <td>...</td>\n",
       "      <td>...</td>\n",
       "      <td>...</td>\n",
       "      <td>...</td>\n",
       "      <td>...</td>\n",
       "      <td>...</td>\n",
       "      <td>...</td>\n",
       "      <td>...</td>\n",
       "      <td>...</td>\n",
       "      <td>...</td>\n",
       "      <td>...</td>\n",
       "      <td>...</td>\n",
       "      <td>...</td>\n",
       "      <td>...</td>\n",
       "      <td>...</td>\n",
       "      <td>...</td>\n",
       "      <td>...</td>\n",
       "      <td>...</td>\n",
       "      <td>...</td>\n",
       "      <td>...</td>\n",
       "      <td>...</td>\n",
       "      <td>...</td>\n",
       "      <td>...</td>\n",
       "      <td>...</td>\n",
       "      <td>...</td>\n",
       "      <td>...</td>\n",
       "      <td>...</td>\n",
       "      <td>...</td>\n",
       "      <td>...</td>\n",
       "      <td>...</td>\n",
       "    </tr>\n",
       "    <tr>\n",
       "      <th>9131718</th>\n",
       "      <td>0.013087</td>\n",
       "      <td>0.015238</td>\n",
       "      <td>0.011776</td>\n",
       "      <td>0.013977</td>\n",
       "      <td>0.017035</td>\n",
       "      <td>0.016969</td>\n",
       "      <td>0.020100</td>\n",
       "      <td>0.017790</td>\n",
       "      <td>0.018654</td>\n",
       "      <td>0.020998</td>\n",
       "      <td>0.015850</td>\n",
       "      <td>0.031793</td>\n",
       "      <td>0.020129</td>\n",
       "      <td>0.019321</td>\n",
       "      <td>0.018679</td>\n",
       "      <td>0.021300</td>\n",
       "      <td>0.022274</td>\n",
       "      <td>0.016905</td>\n",
       "      <td>0.020002</td>\n",
       "      <td>0.024433</td>\n",
       "      <td>0.041786</td>\n",
       "      <td>0.015872</td>\n",
       "      <td>0.032833</td>\n",
       "      <td>0.018609</td>\n",
       "      <td>0.016923</td>\n",
       "      <td>0.023914</td>\n",
       "      <td>0.017921</td>\n",
       "      <td>0.024579</td>\n",
       "      <td>0.019071</td>\n",
       "      <td>0.027462</td>\n",
       "      <td>0.015434</td>\n",
       "      <td>0.024574</td>\n",
       "      <td>0.025175</td>\n",
       "      <td>0.020963</td>\n",
       "      <td>0.018766</td>\n",
       "      <td>0.025620</td>\n",
       "      <td>0.020246</td>\n",
       "      <td>0.027380</td>\n",
       "      <td>0.022728</td>\n",
       "      <td>0.018880</td>\n",
       "      <td>...</td>\n",
       "      <td>0.122217</td>\n",
       "      <td>0.120275</td>\n",
       "      <td>0.081765</td>\n",
       "      <td>0.102697</td>\n",
       "      <td>0.095566</td>\n",
       "      <td>0.117995</td>\n",
       "      <td>0.089338</td>\n",
       "      <td>0.109283</td>\n",
       "      <td>0.126688</td>\n",
       "      <td>0.136134</td>\n",
       "      <td>0.130290</td>\n",
       "      <td>0.084368</td>\n",
       "      <td>0.102234</td>\n",
       "      <td>0.091324</td>\n",
       "      <td>0.078017</td>\n",
       "      <td>0.059576</td>\n",
       "      <td>0.112114</td>\n",
       "      <td>0.103542</td>\n",
       "      <td>0.092064</td>\n",
       "      <td>0.099023</td>\n",
       "      <td>0.067338</td>\n",
       "      <td>0.080929</td>\n",
       "      <td>0.080251</td>\n",
       "      <td>0.080886</td>\n",
       "      <td>0.110302</td>\n",
       "      <td>0.074213</td>\n",
       "      <td>0.108326</td>\n",
       "      <td>0.063541</td>\n",
       "      <td>0.073450</td>\n",
       "      <td>0.078047</td>\n",
       "      <td>0.074574</td>\n",
       "      <td>0.081787</td>\n",
       "      <td>0.072071</td>\n",
       "      <td>0.075745</td>\n",
       "      <td>0.117536</td>\n",
       "      <td>1.000000</td>\n",
       "      <td>0.093741</td>\n",
       "      <td>0.110498</td>\n",
       "      <td>0.055984</td>\n",
       "      <td>0.062773</td>\n",
       "    </tr>\n",
       "    <tr>\n",
       "      <th>1725706</th>\n",
       "      <td>0.018709</td>\n",
       "      <td>0.021757</td>\n",
       "      <td>0.016745</td>\n",
       "      <td>0.019978</td>\n",
       "      <td>0.024212</td>\n",
       "      <td>0.037801</td>\n",
       "      <td>0.028683</td>\n",
       "      <td>0.025800</td>\n",
       "      <td>0.026634</td>\n",
       "      <td>0.029973</td>\n",
       "      <td>0.022531</td>\n",
       "      <td>0.025566</td>\n",
       "      <td>0.028595</td>\n",
       "      <td>0.027610</td>\n",
       "      <td>0.026701</td>\n",
       "      <td>0.048811</td>\n",
       "      <td>0.031784</td>\n",
       "      <td>0.024130</td>\n",
       "      <td>0.028434</td>\n",
       "      <td>0.034862</td>\n",
       "      <td>0.032877</td>\n",
       "      <td>0.022728</td>\n",
       "      <td>0.046807</td>\n",
       "      <td>0.026495</td>\n",
       "      <td>0.023981</td>\n",
       "      <td>0.034119</td>\n",
       "      <td>0.025568</td>\n",
       "      <td>0.035516</td>\n",
       "      <td>0.026995</td>\n",
       "      <td>0.039137</td>\n",
       "      <td>0.022023</td>\n",
       "      <td>0.035010</td>\n",
       "      <td>0.035846</td>\n",
       "      <td>0.029855</td>\n",
       "      <td>0.046993</td>\n",
       "      <td>0.036389</td>\n",
       "      <td>0.028847</td>\n",
       "      <td>0.038942</td>\n",
       "      <td>0.032450</td>\n",
       "      <td>0.026950</td>\n",
       "      <td>...</td>\n",
       "      <td>0.173049</td>\n",
       "      <td>0.170666</td>\n",
       "      <td>0.115673</td>\n",
       "      <td>0.144996</td>\n",
       "      <td>0.135864</td>\n",
       "      <td>0.168179</td>\n",
       "      <td>0.126996</td>\n",
       "      <td>0.155381</td>\n",
       "      <td>0.182960</td>\n",
       "      <td>0.193811</td>\n",
       "      <td>0.184577</td>\n",
       "      <td>0.119965</td>\n",
       "      <td>0.145033</td>\n",
       "      <td>0.129371</td>\n",
       "      <td>0.110547</td>\n",
       "      <td>0.084462</td>\n",
       "      <td>0.158437</td>\n",
       "      <td>0.147223</td>\n",
       "      <td>0.131234</td>\n",
       "      <td>0.140721</td>\n",
       "      <td>0.095527</td>\n",
       "      <td>0.115063</td>\n",
       "      <td>0.113604</td>\n",
       "      <td>0.114590</td>\n",
       "      <td>0.157052</td>\n",
       "      <td>0.105565</td>\n",
       "      <td>0.156292</td>\n",
       "      <td>0.089803</td>\n",
       "      <td>0.104444</td>\n",
       "      <td>0.110992</td>\n",
       "      <td>0.105899</td>\n",
       "      <td>0.116458</td>\n",
       "      <td>0.102148</td>\n",
       "      <td>0.107752</td>\n",
       "      <td>0.166627</td>\n",
       "      <td>0.093741</td>\n",
       "      <td>1.000000</td>\n",
       "      <td>0.157379</td>\n",
       "      <td>0.079603</td>\n",
       "      <td>0.089274</td>\n",
       "    </tr>\n",
       "    <tr>\n",
       "      <th>1865658</th>\n",
       "      <td>0.022155</td>\n",
       "      <td>0.025928</td>\n",
       "      <td>0.032869</td>\n",
       "      <td>0.023510</td>\n",
       "      <td>0.028701</td>\n",
       "      <td>0.028709</td>\n",
       "      <td>0.049145</td>\n",
       "      <td>0.030136</td>\n",
       "      <td>0.031735</td>\n",
       "      <td>0.035723</td>\n",
       "      <td>0.040973</td>\n",
       "      <td>0.030251</td>\n",
       "      <td>0.033899</td>\n",
       "      <td>0.032880</td>\n",
       "      <td>0.031613</td>\n",
       "      <td>0.036007</td>\n",
       "      <td>0.037914</td>\n",
       "      <td>0.028971</td>\n",
       "      <td>0.033652</td>\n",
       "      <td>0.041547</td>\n",
       "      <td>0.039184</td>\n",
       "      <td>0.026738</td>\n",
       "      <td>0.055409</td>\n",
       "      <td>0.031645</td>\n",
       "      <td>0.028475</td>\n",
       "      <td>0.040417</td>\n",
       "      <td>0.030299</td>\n",
       "      <td>0.041557</td>\n",
       "      <td>0.032275</td>\n",
       "      <td>0.046417</td>\n",
       "      <td>0.026079</td>\n",
       "      <td>0.041488</td>\n",
       "      <td>0.042471</td>\n",
       "      <td>0.035762</td>\n",
       "      <td>0.032182</td>\n",
       "      <td>0.043121</td>\n",
       "      <td>0.034174</td>\n",
       "      <td>0.046127</td>\n",
       "      <td>0.073571</td>\n",
       "      <td>0.031932</td>\n",
       "      <td>...</td>\n",
       "      <td>0.205252</td>\n",
       "      <td>0.202359</td>\n",
       "      <td>0.137144</td>\n",
       "      <td>0.172101</td>\n",
       "      <td>0.160088</td>\n",
       "      <td>0.200268</td>\n",
       "      <td>0.150348</td>\n",
       "      <td>0.184132</td>\n",
       "      <td>0.213996</td>\n",
       "      <td>0.228315</td>\n",
       "      <td>0.218762</td>\n",
       "      <td>0.142261</td>\n",
       "      <td>0.172167</td>\n",
       "      <td>0.153307</td>\n",
       "      <td>0.130946</td>\n",
       "      <td>0.100758</td>\n",
       "      <td>0.187850</td>\n",
       "      <td>0.174552</td>\n",
       "      <td>0.155693</td>\n",
       "      <td>0.167905</td>\n",
       "      <td>0.112550</td>\n",
       "      <td>0.136289</td>\n",
       "      <td>0.133786</td>\n",
       "      <td>0.135819</td>\n",
       "      <td>0.186351</td>\n",
       "      <td>0.125875</td>\n",
       "      <td>0.182771</td>\n",
       "      <td>0.106297</td>\n",
       "      <td>0.124590</td>\n",
       "      <td>0.131648</td>\n",
       "      <td>0.125516</td>\n",
       "      <td>0.138844</td>\n",
       "      <td>0.121110</td>\n",
       "      <td>0.127692</td>\n",
       "      <td>0.197549</td>\n",
       "      <td>0.110498</td>\n",
       "      <td>0.157379</td>\n",
       "      <td>1.000000</td>\n",
       "      <td>0.095034</td>\n",
       "      <td>0.106546</td>\n",
       "    </tr>\n",
       "    <tr>\n",
       "      <th>11991124</th>\n",
       "      <td>0.011147</td>\n",
       "      <td>0.013047</td>\n",
       "      <td>0.010033</td>\n",
       "      <td>0.011902</td>\n",
       "      <td>0.014490</td>\n",
       "      <td>0.014571</td>\n",
       "      <td>0.017372</td>\n",
       "      <td>0.015195</td>\n",
       "      <td>0.016087</td>\n",
       "      <td>0.017952</td>\n",
       "      <td>0.013419</td>\n",
       "      <td>0.015284</td>\n",
       "      <td>0.017155</td>\n",
       "      <td>0.016540</td>\n",
       "      <td>0.015973</td>\n",
       "      <td>0.018206</td>\n",
       "      <td>0.019181</td>\n",
       "      <td>0.014556</td>\n",
       "      <td>0.017065</td>\n",
       "      <td>0.020880</td>\n",
       "      <td>0.019735</td>\n",
       "      <td>0.013498</td>\n",
       "      <td>0.028104</td>\n",
       "      <td>0.015907</td>\n",
       "      <td>0.014404</td>\n",
       "      <td>0.020661</td>\n",
       "      <td>0.015219</td>\n",
       "      <td>0.021004</td>\n",
       "      <td>0.016351</td>\n",
       "      <td>0.023727</td>\n",
       "      <td>0.013206</td>\n",
       "      <td>0.021223</td>\n",
       "      <td>0.021544</td>\n",
       "      <td>0.018049</td>\n",
       "      <td>0.016148</td>\n",
       "      <td>0.021806</td>\n",
       "      <td>0.017190</td>\n",
       "      <td>0.023302</td>\n",
       "      <td>0.019503</td>\n",
       "      <td>0.016060</td>\n",
       "      <td>...</td>\n",
       "      <td>0.104166</td>\n",
       "      <td>0.102317</td>\n",
       "      <td>0.069755</td>\n",
       "      <td>0.087505</td>\n",
       "      <td>0.081225</td>\n",
       "      <td>0.100956</td>\n",
       "      <td>0.076451</td>\n",
       "      <td>0.093507</td>\n",
       "      <td>0.108172</td>\n",
       "      <td>0.115856</td>\n",
       "      <td>0.110924</td>\n",
       "      <td>0.072124</td>\n",
       "      <td>0.088282</td>\n",
       "      <td>0.077653</td>\n",
       "      <td>0.066426</td>\n",
       "      <td>0.051089</td>\n",
       "      <td>0.095584</td>\n",
       "      <td>0.087871</td>\n",
       "      <td>0.078632</td>\n",
       "      <td>0.085312</td>\n",
       "      <td>0.056844</td>\n",
       "      <td>0.069941</td>\n",
       "      <td>0.068030</td>\n",
       "      <td>0.068874</td>\n",
       "      <td>0.094215</td>\n",
       "      <td>0.063466</td>\n",
       "      <td>0.092564</td>\n",
       "      <td>0.054186</td>\n",
       "      <td>0.062799</td>\n",
       "      <td>0.067344</td>\n",
       "      <td>0.063458</td>\n",
       "      <td>0.069792</td>\n",
       "      <td>0.061306</td>\n",
       "      <td>0.064813</td>\n",
       "      <td>0.099992</td>\n",
       "      <td>0.055984</td>\n",
       "      <td>0.079603</td>\n",
       "      <td>0.095034</td>\n",
       "      <td>1.000000</td>\n",
       "      <td>0.054006</td>\n",
       "    </tr>\n",
       "    <tr>\n",
       "      <th>9725552</th>\n",
       "      <td>0.012647</td>\n",
       "      <td>0.014725</td>\n",
       "      <td>0.011310</td>\n",
       "      <td>0.013445</td>\n",
       "      <td>0.016344</td>\n",
       "      <td>0.016404</td>\n",
       "      <td>0.019373</td>\n",
       "      <td>0.017162</td>\n",
       "      <td>0.018133</td>\n",
       "      <td>0.020281</td>\n",
       "      <td>0.015164</td>\n",
       "      <td>0.017318</td>\n",
       "      <td>0.019346</td>\n",
       "      <td>0.018680</td>\n",
       "      <td>0.018064</td>\n",
       "      <td>0.020514</td>\n",
       "      <td>0.021600</td>\n",
       "      <td>0.016381</td>\n",
       "      <td>0.019227</td>\n",
       "      <td>0.023511</td>\n",
       "      <td>0.022195</td>\n",
       "      <td>0.015283</td>\n",
       "      <td>0.031659</td>\n",
       "      <td>0.017893</td>\n",
       "      <td>0.016207</td>\n",
       "      <td>0.022998</td>\n",
       "      <td>0.017133</td>\n",
       "      <td>0.023627</td>\n",
       "      <td>0.018398</td>\n",
       "      <td>0.026419</td>\n",
       "      <td>0.014849</td>\n",
       "      <td>0.023632</td>\n",
       "      <td>0.024255</td>\n",
       "      <td>0.020296</td>\n",
       "      <td>0.018158</td>\n",
       "      <td>0.024510</td>\n",
       "      <td>0.019351</td>\n",
       "      <td>0.034939</td>\n",
       "      <td>0.021686</td>\n",
       "      <td>0.018054</td>\n",
       "      <td>...</td>\n",
       "      <td>0.116821</td>\n",
       "      <td>0.114744</td>\n",
       "      <td>0.078217</td>\n",
       "      <td>0.098121</td>\n",
       "      <td>0.091064</td>\n",
       "      <td>0.113187</td>\n",
       "      <td>0.088056</td>\n",
       "      <td>0.104842</td>\n",
       "      <td>0.121316</td>\n",
       "      <td>0.129893</td>\n",
       "      <td>0.124401</td>\n",
       "      <td>0.083173</td>\n",
       "      <td>0.097922</td>\n",
       "      <td>0.087067</td>\n",
       "      <td>0.074472</td>\n",
       "      <td>0.057269</td>\n",
       "      <td>0.107175</td>\n",
       "      <td>0.098525</td>\n",
       "      <td>0.088185</td>\n",
       "      <td>0.095620</td>\n",
       "      <td>0.063739</td>\n",
       "      <td>0.077550</td>\n",
       "      <td>0.076266</td>\n",
       "      <td>0.077222</td>\n",
       "      <td>0.105665</td>\n",
       "      <td>0.071191</td>\n",
       "      <td>0.103789</td>\n",
       "      <td>0.060737</td>\n",
       "      <td>0.070424</td>\n",
       "      <td>0.074682</td>\n",
       "      <td>0.071169</td>\n",
       "      <td>0.078258</td>\n",
       "      <td>0.068751</td>\n",
       "      <td>0.074602</td>\n",
       "      <td>0.112125</td>\n",
       "      <td>0.062773</td>\n",
       "      <td>0.089274</td>\n",
       "      <td>0.106546</td>\n",
       "      <td>0.054006</td>\n",
       "      <td>1.000000</td>\n",
       "    </tr>\n",
       "  </tbody>\n",
       "</table>\n",
       "<p>13497 rows × 13497 columns</p>\n",
       "</div>"
      ],
      "text/plain": [
       "          12247768  10979088  7840766   ...  1865658   11991124  9725552 \n",
       "12247768  1.000000  0.026409  0.014369  ...  0.022155  0.011147  0.012647\n",
       "10979088  0.026409  1.000000  0.005254  ...  0.025928  0.013047  0.014725\n",
       "7840766   0.014369  0.005254  1.000000  ...  0.032869  0.010033  0.011310\n",
       "1060714   0.020789  0.021410  0.024412  ...  0.023510  0.011902  0.013445\n",
       "1752866   0.051383  0.025631  0.017932  ...  0.028701  0.014490  0.016344\n",
       "...            ...       ...       ...  ...       ...       ...       ...\n",
       "9131718   0.013087  0.015238  0.011776  ...  0.110498  0.055984  0.062773\n",
       "1725706   0.018709  0.021757  0.016745  ...  0.157379  0.079603  0.089274\n",
       "1865658   0.022155  0.025928  0.032869  ...  1.000000  0.095034  0.106546\n",
       "11991124  0.011147  0.013047  0.010033  ...  0.095034  1.000000  0.054006\n",
       "9725552   0.012647  0.014725  0.011310  ...  0.106546  0.054006  1.000000\n",
       "\n",
       "[13497 rows x 13497 columns]"
      ]
     },
     "execution_count": 34,
     "metadata": {
      "tags": []
     },
     "output_type": "execute_result"
    }
   ],
   "source": [
    "# Calculate cosine similarity among products\n",
    "cs = cosine_similarity(mat_std_unit)\n",
    "cs_matrix = pd.DataFrame(cs)\n",
    "cs_matrix.index = users\n",
    "cs_matrix.columns = users\n",
    "cs_matrix"
   ]
  },
  {
   "cell_type": "code",
   "execution_count": 0,
   "metadata": {
    "colab": {},
    "colab_type": "code",
    "id": "s3wBchLGht8d"
   },
   "outputs": [],
   "source": [
    "# # Save to pickle\n",
    "# with open('cs_matrix_collaborative.pkl', 'wb') as f:\n",
    "#     pickle.dump(cs_matrix, f)\n",
    "\n",
    "# # save to drive\n",
    "# link = 'https://drive.google.com/open?id=11mLhhzlzjCeArB4oE0F957IgaxHdG5et'\n",
    "# _, id = link.split(\"=\")\n",
    "\n",
    "# # get the folder id where you want to save your file\n",
    "# file = drive.CreateFile({'parents':[{u'id': id}]})\n",
    "# file.SetContentFile('cs_matrix_collaborative.pkl')\n",
    "# file.Upload() "
   ]
  },
  {
   "cell_type": "code",
   "execution_count": 0,
   "metadata": {
    "colab": {},
    "colab_type": "code",
    "id": "JnRwZztLht8i"
   },
   "outputs": [],
   "source": [
    "# # Load from pickle\n",
    "# cs_matrix_file = '/root/data/pickle/cs_matrix_collaborative.pkl'\n",
    "# with open(cs_matrix_file, 'rb') as f:\n",
    "#   cs_matrix = pickle.load(f)"
   ]
  },
  {
   "cell_type": "markdown",
   "metadata": {
    "colab_type": "text",
    "id": "J14siBcfq6Jk"
   },
   "source": [
    "## Making recommendations"
   ]
  },
  {
   "cell_type": "markdown",
   "metadata": {
    "colab_type": "text",
    "id": "tRwkQnISqsv9"
   },
   "source": [
    "### Functions"
   ]
  },
  {
   "cell_type": "markdown",
   "metadata": {
    "colab_type": "text",
    "id": "TlI8n1OkN9En"
   },
   "source": [
    "#### Function for getting similar attributes and activities"
   ]
  },
  {
   "cell_type": "code",
   "execution_count": 0,
   "metadata": {
    "colab": {},
    "colab_type": "code",
    "id": "QAum_fU_OCiV"
   },
   "outputs": [],
   "source": [
    "def get_similarities(user1, user2):\n",
    "  # Similar ratings\n",
    "  user1_rating_df = user_item_rating.loc[(user_item_rating['user_id'] == user1) &\n",
    "                      (user_item_rating['value'] != 0), ['variable', 'value']]\n",
    "\n",
    "  user2_rating_df = user_item_rating.loc[(user_item_rating['user_id'] == user2) &\n",
    "                      (user_item_rating['value'] != 0), ['variable', 'value']]\n",
    "\n",
    "  similarities_rating_df = user1_rating_df.merge(user2_rating_df, \n",
    "                                                left_on = 'variable', \n",
    "                                                right_on = 'variable', \n",
    "                                                how='inner', \n",
    "                                                suffixes=('_'+str(user1), '_'+str(user2)))\n",
    "\n",
    "  # Similar demogs\n",
    "  user1_demog_df = review_data_nodup_melt.loc[(review_data_nodup_melt['user_id'] == user1) &\n",
    "                      (review_data_nodup_melt['value'] != 0), ['variable', 'value']]\n",
    "\n",
    "  user2_demog_df = review_data_nodup_melt.loc[(review_data_nodup_melt['user_id'] == user2) &\n",
    "                      (review_data_nodup_melt['value'] != 0), ['variable', 'value']]\n",
    "\n",
    "  similarities_demog_df = user1_demog_df.merge(user2_demog_df, \n",
    "                                              left_on = 'variable', \n",
    "                                              right_on = 'variable', \n",
    "                                              how='inner', \n",
    "                                               suffixes=('_'+str(user1), '_'+str(user2)))\n",
    "\n",
    "  # Append\n",
    "  similarities_df = pd.concat([similarities_rating_df, similarities_demog_df])\n",
    "  return similarities_df"
   ]
  },
  {
   "cell_type": "markdown",
   "metadata": {
    "colab_type": "text",
    "id": "X3aAr8b0Zg2P"
   },
   "source": [
    "#### Function for getting same products links"
   ]
  },
  {
   "cell_type": "code",
   "execution_count": 0,
   "metadata": {
    "colab": {},
    "colab_type": "code",
    "id": "IxYCplYnZg-y"
   },
   "outputs": [],
   "source": [
    "def same_products_links(similarities_df):\n",
    "  similarities_df_products = similarities_df.loc[similarities_df['variable']\\\n",
    "                                      .apply(lambda x: x.startswith('Product')), :]\\\n",
    "\n",
    "  similarities_df_products['product'] = similarities_df_products['variable'].apply(lambda x: x.split('_')[1])\n",
    "  similarities_df_products = similarities_df_products.join(all_product_data_list[['designer_name', 'displayName','product_img_link']], on='product')\n",
    "  similarities_df_products.columns = ['variable', 'user1', 'user2', 'product', 'designer_name', 'displayName', 'product_img_link']\n",
    "\n",
    "  i = 1\n",
    "  for designer, display_name in zip(similarities_df_products['designer_name'], similarities_df_products['displayName']):\n",
    "    product_link = create_url(designer, display_name)\n",
    "    print('Same product', str(i), product_link)\n",
    "    i+=1\n",
    "  return similarities_df_products[['product', 'displayName', 'product_img_link']]"
   ]
  },
  {
   "cell_type": "markdown",
   "metadata": {
    "colab_type": "text",
    "id": "TFVVuW6XQzTT"
   },
   "source": [
    "#### Function for getting recommendations based on unrated products"
   ]
  },
  {
   "cell_type": "code",
   "execution_count": 0,
   "metadata": {
    "colab": {},
    "colab_type": "code",
    "id": "KsOrQGq-QzbJ"
   },
   "outputs": [],
   "source": [
    "def get_recommendations_two_users(user1, user2):\n",
    "  # Ratings\n",
    "  user1_rating_df = user_item_rating.loc[(user_item_rating['user_id'] == user1) &\n",
    "                      (user_item_rating['value'] != 0), ['variable', 'value']]\n",
    "\n",
    "  user2_rating_df = user_item_rating.loc[(user_item_rating['user_id'] == user2) &\n",
    "                      (user_item_rating['value'] != 0), ['variable', 'value']]\n",
    "  # Join\n",
    "  joined_rating_df = user2_rating_df.merge(user1_rating_df, \n",
    "                                                left_on = 'variable', \n",
    "                                                right_on = 'variable', \n",
    "                                                how='left', \n",
    "                                                suffixes=('_'+str(user2), '_'+str(user1)))\n",
    "  # Unrated products by user1\n",
    "  unrated_products_df = joined_rating_df.loc[joined_rating_df['value_' + str(user1)].isna(), :]\n",
    "  # Sort by ratings\n",
    "  unrated_products_df = unrated_products_df.sort_values(by='value_' + str(user2), ascending=False)\n",
    "  # Filter products with at least rating = 8\n",
    "  recommended_products = unrated_products_df.loc[unrated_products_df['value_' + str(user2)] >= 8, 'variable']\n",
    "  # Recommend top 5 products\n",
    "  recommended_products = recommended_products[:5]\n",
    "  return recommended_products, unrated_products_df"
   ]
  },
  {
   "cell_type": "markdown",
   "metadata": {
    "colab_type": "text",
    "id": "wHjtEtcgR89X"
   },
   "source": [
    "#### Function for getting product link"
   ]
  },
  {
   "cell_type": "code",
   "execution_count": 0,
   "metadata": {
    "colab": {},
    "colab_type": "code",
    "id": "iCZrRMfvR9It"
   },
   "outputs": [],
   "source": [
    "def create_url(designer, display_name):\n",
    "  link = 'https://www.renttherunway.com/shop/designers/' + \\\n",
    "          re.sub(r'[^a-zA-Z0-9_]', '', designer.replace(' ', '_')).lower() + \\\n",
    "          '/' + \\\n",
    "          re.sub(r'[^a-zA-Z0-9_]', '', display_name.replace(' ', '_')).lower()\n",
    "  return link"
   ]
  },
  {
   "cell_type": "markdown",
   "metadata": {
    "colab_type": "text",
    "id": "RmxD_Jk3hNSm"
   },
   "source": [
    "#### Function for printing images"
   ]
  },
  {
   "cell_type": "code",
   "execution_count": 0,
   "metadata": {
    "colab": {},
    "colab_type": "code",
    "id": "nKPuzVjLhNfW"
   },
   "outputs": [],
   "source": [
    "def print_images(df, text_to_write):\n",
    "  if df.shape[0] > 5:\n",
    "    df = df.iloc[:5,:]\n",
    "\n",
    "  product_img_link = df['product_img_link'].values\n",
    "  displayName = df['displayName'].values\n",
    "  product = df['product'].values\n",
    "\n",
    "  n = len(product_img_link)\n",
    "  if n > 1:\n",
    "    fig, axs = plt.subplots(1, n, figsize=(n*4, 5))\n",
    "    i = 0\n",
    "    for link, display_name, id_ in zip(product_img_link, displayName, product):\n",
    "      if type(link) == str:\n",
    "          response = requests.get(link)\n",
    "          img = Image.open(BytesIO(response.content))\n",
    "          axs[i].imshow(np.asarray(img))\n",
    "          axs[i].set_title(text_to_write + str(i+1) + ': ' + id_ + '\\n' + display_name)\n",
    "          # axs[i].axis('off')\n",
    "\n",
    "      else:\n",
    "        link = 'https://www.wildhareboca.com/wp-content/uploads/sites/310/2018/03/image-not-available-200x300.jpg'\n",
    "        response = requests.get(link)\n",
    "        img = Image.open(BytesIO(response.content))\n",
    "        axs[i].imshow(np.asarray(img))\n",
    "        axs[i].set_title(id_)\n",
    "        # axs[i].axis('off')\n",
    "      i+=1\n",
    "    plt.show()\n",
    "\n",
    "  else:\n",
    "    fig, axs = plt.subplots(1, n, figsize=(n*4, 5))\n",
    "    i = 0\n",
    "    for link, display_name, id_ in zip(product_img_link, displayName, product):\n",
    "      if type(link) == str:\n",
    "          response = requests.get(link)\n",
    "          img = Image.open(BytesIO(response.content))\n",
    "          axs.imshow(np.asarray(img))\n",
    "          axs.set_title(text_to_write + str(i+1) + ': ' + id_ + '\\n' + display_name)\n",
    "          # axs[i].axis('off')\n",
    "\n",
    "      else:\n",
    "        link = 'https://www.wildhareboca.com/wp-content/uploads/sites/310/2018/03/image-not-available-200x300.jpg'\n",
    "        response = requests.get(link)\n",
    "        img = Image.open(BytesIO(response.content))\n",
    "        axs.imshow(np.asarray(img))\n",
    "        axs.set_title(id_)\n",
    "        # axs[i].axis('off')\n",
    "      i+=1\n",
    "    plt.show()"
   ]
  },
  {
   "cell_type": "markdown",
   "metadata": {
    "colab_type": "text",
    "id": "_CNK-0LTsDMY"
   },
   "source": [
    "### Recommend"
   ]
  },
  {
   "cell_type": "markdown",
   "metadata": {
    "colab_type": "text",
    "id": "WFQ8GTIErAq8"
   },
   "source": [
    "#### Get some user IDs"
   ]
  },
  {
   "cell_type": "code",
   "execution_count": 0,
   "metadata": {
    "colab": {
     "base_uri": "https://localhost:8080/",
     "height": 187
    },
    "colab_type": "code",
    "executionInfo": {
     "elapsed": 304,
     "status": "ok",
     "timestamp": 1575309986403,
     "user": {
      "displayName": "Skand Upmanyu",
      "photoUrl": "https://lh3.googleusercontent.com/a-/AAuE7mDucdWRvThRuOGGMpf4XuCLzSwgNJW97EO8v5sS=s64",
      "userId": "14474330947256204580"
     },
     "user_tz": 300
    },
    "id": "x4XbGu2UjtLU",
    "outputId": "4091909b-0a10-4a68-af79-b16a188c5512"
   },
   "outputs": [
    {
     "data": {
      "text/plain": [
       "Int64Index([18286340,  8213438,  2077394,  1922833, 10467724, 16772914,\n",
       "             1102156, 15277568,  3340225, 15143026, 16255079, 17601220,\n",
       "             4613566,  1077975, 16611580, 12083148, 18025438,  3849381,\n",
       "            11377866,  8642554, 17793799, 17465125,  1489559,  6212880,\n",
       "            12495690,  8049456,  1717703,  8237044,  3528685, 17114947,\n",
       "            16159103,  7730184, 12177980,  5619288,  3683619,  2566619,\n",
       "             9642504, 15601638,  6655488, 18228939, 15255662, 12052494,\n",
       "            15367084, 13253654, 15846621,  1233836, 12075038, 15403204,\n",
       "            12550826, 16600062],\n",
       "           dtype='int64')"
      ]
     },
     "execution_count": 40,
     "metadata": {
      "tags": []
     },
     "output_type": "execute_result"
    }
   ],
   "source": [
    "cs_matrix.columns[50:100]"
   ]
  },
  {
   "cell_type": "markdown",
   "metadata": {
    "colab_type": "text",
    "id": "dWZjM59FrDYQ"
   },
   "source": [
    "#### Recommendations"
   ]
  },
  {
   "cell_type": "code",
   "execution_count": 0,
   "metadata": {
    "colab": {
     "base_uri": "https://localhost:8080/",
     "height": 1000
    },
    "colab_type": "code",
    "executionInfo": {
     "elapsed": 3822,
     "status": "ok",
     "timestamp": 1575312566489,
     "user": {
      "displayName": "Skand Upmanyu",
      "photoUrl": "https://lh3.googleusercontent.com/a-/AAuE7mDucdWRvThRuOGGMpf4XuCLzSwgNJW97EO8v5sS=s64",
      "userId": "14474330947256204580"
     },
     "user_tz": 300
    },
    "id": "68QUveTLFD7h",
    "outputId": "2d87573e-afe7-4b40-ac0a-4cbca7c4d205"
   },
   "outputs": [
    {
     "name": "stdout",
     "output_type": "stream",
     "text": [
      "\n",
      "---------------------------------------------------\n",
      "\n",
      "Finding similar user\n",
      "Iteration: 1\n",
      "\n",
      "---------------------------------------------------\n",
      "\n",
      "Top Similar User: 6496966\n",
      "cosine: [0.15317195]\n",
      "\n",
      "---------------------------------------------------\n",
      "\n",
      "Similarites:\n"
     ]
    },
    {
     "data": {
      "text/html": [
       "<div>\n",
       "<style scoped>\n",
       "    .dataframe tbody tr th:only-of-type {\n",
       "        vertical-align: middle;\n",
       "    }\n",
       "\n",
       "    .dataframe tbody tr th {\n",
       "        vertical-align: top;\n",
       "    }\n",
       "\n",
       "    .dataframe thead th {\n",
       "        text-align: right;\n",
       "    }\n",
       "</style>\n",
       "<table border=\"1\" class=\"dataframe\">\n",
       "  <thead>\n",
       "    <tr style=\"text-align: right;\">\n",
       "      <th></th>\n",
       "      <th>variable</th>\n",
       "      <th>value_1233836</th>\n",
       "      <th>value_6496966</th>\n",
       "    </tr>\n",
       "  </thead>\n",
       "  <tbody>\n",
       "    <tr>\n",
       "      <th>0</th>\n",
       "      <td>Product_ASI15</td>\n",
       "      <td>8.0</td>\n",
       "      <td>10.0</td>\n",
       "    </tr>\n",
       "    <tr>\n",
       "      <th>1</th>\n",
       "      <td>Product_GA33</td>\n",
       "      <td>10.0</td>\n",
       "      <td>10.0</td>\n",
       "    </tr>\n",
       "    <tr>\n",
       "      <th>2</th>\n",
       "      <td>Product_RZ37</td>\n",
       "      <td>8.0</td>\n",
       "      <td>10.0</td>\n",
       "    </tr>\n",
       "    <tr>\n",
       "      <th>0</th>\n",
       "      <td>age</td>\n",
       "      <td>46.0</td>\n",
       "      <td>36.0</td>\n",
       "    </tr>\n",
       "    <tr>\n",
       "      <th>1</th>\n",
       "      <td>numReviewsByUser</td>\n",
       "      <td>182.0</td>\n",
       "      <td>26.0</td>\n",
       "    </tr>\n",
       "    <tr>\n",
       "      <th>2</th>\n",
       "      <td>heightInches</td>\n",
       "      <td>67.0</td>\n",
       "      <td>63.0</td>\n",
       "    </tr>\n",
       "    <tr>\n",
       "      <th>3</th>\n",
       "      <td>usStandardSize</td>\n",
       "      <td>6.0</td>\n",
       "      <td>4.0</td>\n",
       "    </tr>\n",
       "    <tr>\n",
       "      <th>4</th>\n",
       "      <td>weightPounds</td>\n",
       "      <td>140.0</td>\n",
       "      <td>115.0</td>\n",
       "    </tr>\n",
       "    <tr>\n",
       "      <th>5</th>\n",
       "      <td>bust_size</td>\n",
       "      <td>36.0</td>\n",
       "      <td>34.0</td>\n",
       "    </tr>\n",
       "  </tbody>\n",
       "</table>\n",
       "</div>"
      ],
      "text/plain": [
       "           variable  value_1233836  value_6496966\n",
       "0     Product_ASI15            8.0           10.0\n",
       "1      Product_GA33           10.0           10.0\n",
       "2      Product_RZ37            8.0           10.0\n",
       "0               age           46.0           36.0\n",
       "1  numReviewsByUser          182.0           26.0\n",
       "2      heightInches           67.0           63.0\n",
       "3    usStandardSize            6.0            4.0\n",
       "4      weightPounds          140.0          115.0\n",
       "5         bust_size           36.0           34.0"
      ]
     },
     "metadata": {
      "tags": []
     },
     "output_type": "display_data"
    },
    {
     "name": "stdout",
     "output_type": "stream",
     "text": [
      "Same product 1 https://www.renttherunway.com/shop/designers/asilio/on_the_edge_sweater\n",
      "Same product 2 https://www.renttherunway.com/shop/designers/galvan/clara_sequin_top\n",
      "Same product 3 https://www.renttherunway.com/shop/designers/rachel_zoe/black_lace_zip_dress\n",
      "\n",
      "---------------------------------------------------\n",
      "\n"
     ]
    },
    {
     "data": {
      "image/png": "[encoded data removed]",
      "text/plain": [
       "<Figure size 864x360 with 3 Axes>"
      ]
     },
     "metadata": {
      "tags": []
     },
     "output_type": "display_data"
    },
    {
     "name": "stdout",
     "output_type": "stream",
     "text": [
      "\n",
      "---------------------------------------------------\n",
      "\n",
      "Products rated by similar user but not by given user:\n"
     ]
    },
    {
     "data": {
      "text/html": [
       "<div>\n",
       "<style scoped>\n",
       "    .dataframe tbody tr th:only-of-type {\n",
       "        vertical-align: middle;\n",
       "    }\n",
       "\n",
       "    .dataframe tbody tr th {\n",
       "        vertical-align: top;\n",
       "    }\n",
       "\n",
       "    .dataframe thead th {\n",
       "        text-align: right;\n",
       "    }\n",
       "</style>\n",
       "<table border=\"1\" class=\"dataframe\">\n",
       "  <thead>\n",
       "    <tr style=\"text-align: right;\">\n",
       "      <th></th>\n",
       "      <th>variable</th>\n",
       "      <th>value_6496966</th>\n",
       "      <th>value_1233836</th>\n",
       "    </tr>\n",
       "  </thead>\n",
       "  <tbody>\n",
       "    <tr>\n",
       "      <th>1</th>\n",
       "      <td>Product_ECZ3</td>\n",
       "      <td>10</td>\n",
       "      <td>NaN</td>\n",
       "    </tr>\n",
       "    <tr>\n",
       "      <th>4</th>\n",
       "      <td>Product_HB20</td>\n",
       "      <td>10</td>\n",
       "      <td>NaN</td>\n",
       "    </tr>\n",
       "    <tr>\n",
       "      <th>3</th>\n",
       "      <td>Product_GEN1</td>\n",
       "      <td>8</td>\n",
       "      <td>NaN</td>\n",
       "    </tr>\n",
       "    <tr>\n",
       "      <th>7</th>\n",
       "      <td>Product_RZ63</td>\n",
       "      <td>8</td>\n",
       "      <td>NaN</td>\n",
       "    </tr>\n",
       "    <tr>\n",
       "      <th>5</th>\n",
       "      <td>Product_KP91</td>\n",
       "      <td>4</td>\n",
       "      <td>NaN</td>\n",
       "    </tr>\n",
       "  </tbody>\n",
       "</table>\n",
       "</div>"
      ],
      "text/plain": [
       "       variable  value_6496966  value_1233836\n",
       "1  Product_ECZ3             10            NaN\n",
       "4  Product_HB20             10            NaN\n",
       "3  Product_GEN1              8            NaN\n",
       "7  Product_RZ63              8            NaN\n",
       "5  Product_KP91              4            NaN"
      ]
     },
     "metadata": {
      "tags": []
     },
     "output_type": "display_data"
    },
    {
     "name": "stdout",
     "output_type": "stream",
     "text": [
      "\n",
      "---------------------------------------------------\n",
      "\n"
     ]
    },
    {
     "data": {
      "image/png": "[encoded data removed]",
      "text/plain": [
       "<Figure size 1152x360 with 4 Axes>"
      ]
     },
     "metadata": {
      "tags": []
     },
     "output_type": "display_data"
    },
    {
     "name": "stdout",
     "output_type": "stream",
     "text": [
      "Recommended products:\n",
      "Recommendation 1 https://www.renttherunway.com/shop/designers/esteban_cortazar/long_sleeve_full_circle_dress\n",
      "Recommendation 2 https://www.renttherunway.com/shop/designers/hunter_bell/black_chevron_skirt\n",
      "Recommendation 3 https://www.renttherunway.com/shop/designers/genny/asymmetric_cocktail_dress\n",
      "Recommendation 4 https://www.renttherunway.com/shop/designers/rachel_zoe/pewter_rixey_blazer\n",
      "\n",
      "---------------------------------------------------\n",
      "\n",
      "Finding similar user\n",
      "Iteration: 2\n",
      "\n",
      "---------------------------------------------------\n",
      "\n",
      "Top Similar User: 17976123\n",
      "cosine: [0.14239677]\n",
      "\n",
      "---------------------------------------------------\n",
      "\n",
      "Similarites:\n"
     ]
    },
    {
     "data": {
      "text/html": [
       "<div>\n",
       "<style scoped>\n",
       "    .dataframe tbody tr th:only-of-type {\n",
       "        vertical-align: middle;\n",
       "    }\n",
       "\n",
       "    .dataframe tbody tr th {\n",
       "        vertical-align: top;\n",
       "    }\n",
       "\n",
       "    .dataframe thead th {\n",
       "        text-align: right;\n",
       "    }\n",
       "</style>\n",
       "<table border=\"1\" class=\"dataframe\">\n",
       "  <thead>\n",
       "    <tr style=\"text-align: right;\">\n",
       "      <th></th>\n",
       "      <th>variable</th>\n",
       "      <th>value_1233836</th>\n",
       "      <th>value_17976123</th>\n",
       "    </tr>\n",
       "  </thead>\n",
       "  <tbody>\n",
       "    <tr>\n",
       "      <th>0</th>\n",
       "      <td>Product_EJ118</td>\n",
       "      <td>10.0</td>\n",
       "      <td>8.0</td>\n",
       "    </tr>\n",
       "    <tr>\n",
       "      <th>0</th>\n",
       "      <td>age</td>\n",
       "      <td>46.0</td>\n",
       "      <td>26.0</td>\n",
       "    </tr>\n",
       "    <tr>\n",
       "      <th>1</th>\n",
       "      <td>numReviewsByUser</td>\n",
       "      <td>182.0</td>\n",
       "      <td>37.0</td>\n",
       "    </tr>\n",
       "    <tr>\n",
       "      <th>2</th>\n",
       "      <td>heightInches</td>\n",
       "      <td>67.0</td>\n",
       "      <td>61.0</td>\n",
       "    </tr>\n",
       "    <tr>\n",
       "      <th>3</th>\n",
       "      <td>usStandardSize</td>\n",
       "      <td>6.0</td>\n",
       "      <td>2.0</td>\n",
       "    </tr>\n",
       "    <tr>\n",
       "      <th>4</th>\n",
       "      <td>weightPounds</td>\n",
       "      <td>140.0</td>\n",
       "      <td>120.0</td>\n",
       "    </tr>\n",
       "    <tr>\n",
       "      <th>5</th>\n",
       "      <td>bust_size</td>\n",
       "      <td>36.0</td>\n",
       "      <td>34.0</td>\n",
       "    </tr>\n",
       "    <tr>\n",
       "      <th>6</th>\n",
       "      <td>bust_type_C</td>\n",
       "      <td>1.0</td>\n",
       "      <td>1.0</td>\n",
       "    </tr>\n",
       "  </tbody>\n",
       "</table>\n",
       "</div>"
      ],
      "text/plain": [
       "           variable  value_1233836  value_17976123\n",
       "0     Product_EJ118           10.0             8.0\n",
       "0               age           46.0            26.0\n",
       "1  numReviewsByUser          182.0            37.0\n",
       "2      heightInches           67.0            61.0\n",
       "3    usStandardSize            6.0             2.0\n",
       "4      weightPounds          140.0           120.0\n",
       "5         bust_size           36.0            34.0\n",
       "6       bust_type_C            1.0             1.0"
      ]
     },
     "metadata": {
      "tags": []
     },
     "output_type": "display_data"
    },
    {
     "name": "stdout",
     "output_type": "stream",
     "text": [
      "Same product 1 https://www.renttherunway.com/shop/designers/elizabeth_and_james/black_britt_dress\n",
      "\n",
      "---------------------------------------------------\n",
      "\n"
     ]
    },
    {
     "data": {
      "image/png": "[encoded data removed]",
      "text/plain": [
       "<Figure size 288x360 with 1 Axes>"
      ]
     },
     "metadata": {
      "tags": []
     },
     "output_type": "display_data"
    },
    {
     "name": "stdout",
     "output_type": "stream",
     "text": [
      "\n",
      "---------------------------------------------------\n",
      "\n",
      "Products rated by similar user but not by given user:\n"
     ]
    },
    {
     "data": {
      "text/html": [
       "<div>\n",
       "<style scoped>\n",
       "    .dataframe tbody tr th:only-of-type {\n",
       "        vertical-align: middle;\n",
       "    }\n",
       "\n",
       "    .dataframe tbody tr th {\n",
       "        vertical-align: top;\n",
       "    }\n",
       "\n",
       "    .dataframe thead th {\n",
       "        text-align: right;\n",
       "    }\n",
       "</style>\n",
       "<table border=\"1\" class=\"dataframe\">\n",
       "  <thead>\n",
       "    <tr style=\"text-align: right;\">\n",
       "      <th></th>\n",
       "      <th>variable</th>\n",
       "      <th>value_17976123</th>\n",
       "      <th>value_1233836</th>\n",
       "    </tr>\n",
       "  </thead>\n",
       "  <tbody>\n",
       "    <tr>\n",
       "      <th>15</th>\n",
       "      <td>Product_MH41</td>\n",
       "      <td>10</td>\n",
       "      <td>NaN</td>\n",
       "    </tr>\n",
       "    <tr>\n",
       "      <th>3</th>\n",
       "      <td>Product_DL258</td>\n",
       "      <td>10</td>\n",
       "      <td>NaN</td>\n",
       "    </tr>\n",
       "    <tr>\n",
       "      <th>4</th>\n",
       "      <td>Product_DL80</td>\n",
       "      <td>10</td>\n",
       "      <td>NaN</td>\n",
       "    </tr>\n",
       "    <tr>\n",
       "      <th>6</th>\n",
       "      <td>Product_EJ225</td>\n",
       "      <td>10</td>\n",
       "      <td>NaN</td>\n",
       "    </tr>\n",
       "    <tr>\n",
       "      <th>10</th>\n",
       "      <td>Product_JOA51</td>\n",
       "      <td>10</td>\n",
       "      <td>NaN</td>\n",
       "    </tr>\n",
       "    <tr>\n",
       "      <th>1</th>\n",
       "      <td>Product_CLEHNB23</td>\n",
       "      <td>10</td>\n",
       "      <td>NaN</td>\n",
       "    </tr>\n",
       "    <tr>\n",
       "      <th>17</th>\n",
       "      <td>Product_PLL34</td>\n",
       "      <td>10</td>\n",
       "      <td>NaN</td>\n",
       "    </tr>\n",
       "    <tr>\n",
       "      <th>0</th>\n",
       "      <td>Product_BLNK16</td>\n",
       "      <td>8</td>\n",
       "      <td>NaN</td>\n",
       "    </tr>\n",
       "    <tr>\n",
       "      <th>24</th>\n",
       "      <td>Product_VIN101</td>\n",
       "      <td>8</td>\n",
       "      <td>NaN</td>\n",
       "    </tr>\n",
       "    <tr>\n",
       "      <th>23</th>\n",
       "      <td>Product_SW611</td>\n",
       "      <td>8</td>\n",
       "      <td>NaN</td>\n",
       "    </tr>\n",
       "    <tr>\n",
       "      <th>22</th>\n",
       "      <td>Product_SW537</td>\n",
       "      <td>8</td>\n",
       "      <td>NaN</td>\n",
       "    </tr>\n",
       "    <tr>\n",
       "      <th>21</th>\n",
       "      <td>Product_SW383</td>\n",
       "      <td>8</td>\n",
       "      <td>NaN</td>\n",
       "    </tr>\n",
       "    <tr>\n",
       "      <th>20</th>\n",
       "      <td>Product_SDL28</td>\n",
       "      <td>8</td>\n",
       "      <td>NaN</td>\n",
       "    </tr>\n",
       "    <tr>\n",
       "      <th>18</th>\n",
       "      <td>Product_POOLHNB4</td>\n",
       "      <td>8</td>\n",
       "      <td>NaN</td>\n",
       "    </tr>\n",
       "    <tr>\n",
       "      <th>25</th>\n",
       "      <td>Product_VIN98</td>\n",
       "      <td>8</td>\n",
       "      <td>NaN</td>\n",
       "    </tr>\n",
       "    <tr>\n",
       "      <th>11</th>\n",
       "      <td>Product_JOA53</td>\n",
       "      <td>8</td>\n",
       "      <td>NaN</td>\n",
       "    </tr>\n",
       "    <tr>\n",
       "      <th>7</th>\n",
       "      <td>Product_EQ76</td>\n",
       "      <td>8</td>\n",
       "      <td>NaN</td>\n",
       "    </tr>\n",
       "    <tr>\n",
       "      <th>2</th>\n",
       "      <td>Product_DL118</td>\n",
       "      <td>8</td>\n",
       "      <td>NaN</td>\n",
       "    </tr>\n",
       "    <tr>\n",
       "      <th>8</th>\n",
       "      <td>Product_HP90</td>\n",
       "      <td>4</td>\n",
       "      <td>NaN</td>\n",
       "    </tr>\n",
       "    <tr>\n",
       "      <th>16</th>\n",
       "      <td>Product_PK338</td>\n",
       "      <td>2</td>\n",
       "      <td>NaN</td>\n",
       "    </tr>\n",
       "    <tr>\n",
       "      <th>14</th>\n",
       "      <td>Product_LDT22</td>\n",
       "      <td>2</td>\n",
       "      <td>NaN</td>\n",
       "    </tr>\n",
       "    <tr>\n",
       "      <th>12</th>\n",
       "      <td>Product_JWG17</td>\n",
       "      <td>2</td>\n",
       "      <td>NaN</td>\n",
       "    </tr>\n",
       "    <tr>\n",
       "      <th>19</th>\n",
       "      <td>Product_RM96</td>\n",
       "      <td>2</td>\n",
       "      <td>NaN</td>\n",
       "    </tr>\n",
       "    <tr>\n",
       "      <th>9</th>\n",
       "      <td>Product_JAJ8</td>\n",
       "      <td>2</td>\n",
       "      <td>NaN</td>\n",
       "    </tr>\n",
       "    <tr>\n",
       "      <th>13</th>\n",
       "      <td>Product_LAV16</td>\n",
       "      <td>2</td>\n",
       "      <td>NaN</td>\n",
       "    </tr>\n",
       "  </tbody>\n",
       "</table>\n",
       "</div>"
      ],
      "text/plain": [
       "            variable  value_17976123  value_1233836\n",
       "15      Product_MH41              10            NaN\n",
       "3      Product_DL258              10            NaN\n",
       "4       Product_DL80              10            NaN\n",
       "6      Product_EJ225              10            NaN\n",
       "10     Product_JOA51              10            NaN\n",
       "1   Product_CLEHNB23              10            NaN\n",
       "17     Product_PLL34              10            NaN\n",
       "0     Product_BLNK16               8            NaN\n",
       "24    Product_VIN101               8            NaN\n",
       "23     Product_SW611               8            NaN\n",
       "22     Product_SW537               8            NaN\n",
       "21     Product_SW383               8            NaN\n",
       "20     Product_SDL28               8            NaN\n",
       "18  Product_POOLHNB4               8            NaN\n",
       "25     Product_VIN98               8            NaN\n",
       "11     Product_JOA53               8            NaN\n",
       "7       Product_EQ76               8            NaN\n",
       "2      Product_DL118               8            NaN\n",
       "8       Product_HP90               4            NaN\n",
       "16     Product_PK338               2            NaN\n",
       "14     Product_LDT22               2            NaN\n",
       "12     Product_JWG17               2            NaN\n",
       "19      Product_RM96               2            NaN\n",
       "9       Product_JAJ8               2            NaN\n",
       "13     Product_LAV16               2            NaN"
      ]
     },
     "metadata": {
      "tags": []
     },
     "output_type": "display_data"
    },
    {
     "name": "stdout",
     "output_type": "stream",
     "text": [
      "\n",
      "---------------------------------------------------\n",
      "\n"
     ]
    },
    {
     "data": {
      "image/png": "[encoded data removed]",
      "text/plain": [
       "<Figure size 288x360 with 1 Axes>"
      ]
     },
     "metadata": {
      "tags": []
     },
     "output_type": "display_data"
    },
    {
     "name": "stdout",
     "output_type": "stream",
     "text": [
      "Recommended products:\n",
      "Recommendation 5 https://www.renttherunway.com/shop/designers/mara_hoffman/colorblock_avery_sweater\n"
     ]
    }
   ],
   "source": [
    "#Enter User ID\n",
    "user_id = 1233836 # 18286340\n",
    "\n",
    "n_recommended = 0\n",
    "n_simiar_user = 1\n",
    "while(n_recommended < 5):\n",
    "\n",
    "  print('\\n---------------------------------------------------\\n')\n",
    "  print('Finding similar user')\n",
    "  print('Iteration:', n_simiar_user)\n",
    "  print('\\n---------------------------------------------------\\n')\n",
    "\n",
    "  # Get top Similar user\n",
    "  top_similar_user = cs_matrix[[user_id]].sort_values(ascending = False, by = user_id)\n",
    "  print('Top Similar User:', top_similar_user.index[n_simiar_user])\n",
    "  print('cosine:', top_similar_user.values[n_simiar_user])\n",
    "  print('\\n---------------------------------------------------\\n')\n",
    "  # Get similarities between the users\n",
    "  similarities_df = get_similarities(user_id, top_similar_user.index[n_simiar_user])\n",
    "\n",
    "  print('Similarites:')\n",
    "  display(similarities_df)\n",
    "\n",
    "  # Get product links for same products that the users bought\n",
    "  same_products_img_links = same_products_links(similarities_df)\n",
    "  print('\\n---------------------------------------------------\\n')\n",
    "  print_images(same_products_img_links, 'Same Product ')\n",
    "  print('\\n---------------------------------------------------\\n')\n",
    "  \n",
    "  # Get recommendations and unrated products based on the top similar user\n",
    "  recos, unrated_products = get_recommendations_two_users(user_id, top_similar_user.index[n_simiar_user])\n",
    "\n",
    "  # Subset only the required number of products\n",
    "  recos = recos[:5-n_recommended]\n",
    "  print('Products rated by similar user but not by given user:')\n",
    "  display(unrated_products)\n",
    "  print('\\n---------------------------------------------------\\n')\n",
    "\n",
    "  # Get product links for recommendations\n",
    "  recos = recos.apply(lambda x: x.split('_')[1]).values\n",
    "  recos_df = all_product_data_list.loc[recos,['displayName', 'designer_name', 'product_img_link']]\n",
    "  reco_products_img_links = recos_df.reset_index().drop(columns=['designer_name'])\n",
    "  reco_products_img_links.columns = ['product',\t'displayName', 'product_img_link']\n",
    "\n",
    "  print_images(reco_products_img_links, 'Recommended Product ')\n",
    "  print('Recommended products:')\n",
    "  for designer, display_name in zip(recos_df['designer_name'], recos_df['displayName']):\n",
    "    n_recommended+=1\n",
    "    product_link = create_url(designer, display_name)\n",
    "    print('Recommendation', str(n_recommended), product_link)\n",
    "\n",
    "  # Go to the next similar user if we did not find 5 unrated prodcuts\n",
    "  n_simiar_user+=1"
   ]
  },
  {
   "cell_type": "code",
   "execution_count": 0,
   "metadata": {
    "colab": {},
    "colab_type": "code",
    "id": "XUWvR85vodKg"
   },
   "outputs": [],
   "source": []
  }
 ],
 "metadata": {
  "accelerator": "GPU",
  "colab": {
   "collapsed_sections": [
    "CykWanTLqGGi",
    "xY-vOeRXqM3n",
    "Vzka8ec0qldr",
    "zhRIGT2m3X2A"
   ],
   "machine_shape": "hm",
   "name": "COLLABORATIVE_24_11_2019.ipynb",
   "provenance": []
  },
  "kernelspec": {
   "display_name": "Python 3",
   "language": "python",
   "name": "python3"
  },
  "language_info": {
   "codemirror_mode": {
    "name": "ipython",
    "version": 3
   },
   "file_extension": ".py",
   "mimetype": "text/x-python",
   "name": "python",
   "nbconvert_exporter": "python",
   "pygments_lexer": "ipython3",
   "version": "3.7.3"
  }
 },
 "nbformat": 4,
 "nbformat_minor": 1
}
